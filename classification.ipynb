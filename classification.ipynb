{
 "cells": [
  {
   "cell_type": "markdown",
   "id": "bc430543",
   "metadata": {
    "id": "221a4c4a",
    "papermill": {
     "duration": 0.013632,
     "end_time": "2022-06-10T13:32:44.570904",
     "exception": false,
     "start_time": "2022-06-10T13:32:44.557272",
     "status": "completed"
    },
    "tags": []
   },
   "source": [
    "1- Tiền xử lý dữ liệu: Làm sạch dữ liệu, loại bỏ dư thừa, tách từ, stopword\n",
    "\n",
    "2- Chia bộ dữ liệu thành Train/Test với tỉ lệ 0.7\n",
    "\n",
    "3- Sử dụng WordEmbedding của thư viện Keras hỗ trợ cho dữ liệu đã xử lý ở trên, lưu kết quả wordembedding đó ra 1 file KerasWordEmbedding.txt\n",
    "\n",
    "4- Sử dụng pretrained word embedding Fasttext (Facebook AI Research), lấy wordembedding của bộ dữ liệu trên ra 1 file FastTextWordEmbedding.txt\n",
    "\n",
    "5- Sử dụng PhoBert cho bộ dữ liệu trên, lưu kết quả ra file PhoBertEmbedding.txt\n",
    "\n",
    "6- Sử dụng 1 trong 3 kết quả ở các câu 2,3,4 là đầu vào cho các mô hình học sâu: MLP, RNN, LSTM, BiLSTM và CNN (các tham số của mô hình tự xây dựng) cho bài toán phân lớp ý kiến người dùng. In ra các tham số của mô hình huấn luyện\n",
    "\n",
    "7- Đánh giá với 3 độ đo Accuracy, Confusion Matrix và F1-score và lưu kết quả ra 1 file\n",
    "\n",
    "8- Với mô hình học sâu có kết quả cao nhất ở trên, sử dụng điểm Checkpoint để lưu kết quả huấn luyện với epoch cho kết quả cao nhất\n",
    "\n",
    "9- Người dùng nhập vào một câu, sử dụng mô hình đã lưu ở trên dự đoán ý kiến của người dùng và in ra kết quả"
   ]
  },
  {
   "cell_type": "code",
   "execution_count": null,
   "id": "f1ddeea5",
   "metadata": {
    "execution": {
     "iopub.execute_input": "2022-06-10T06:26:17.690642Z",
     "iopub.status.busy": "2022-06-10T06:26:17.690123Z",
     "iopub.status.idle": "2022-06-10T06:26:32.277765Z",
     "shell.execute_reply": "2022-06-10T06:26:32.276433Z",
     "shell.execute_reply.started": "2022-06-10T06:26:17.690609Z"
    },
    "papermill": {
     "duration": 0.012313,
     "end_time": "2022-06-10T13:32:44.597262",
     "exception": false,
     "start_time": "2022-06-10T13:32:44.584949",
     "status": "completed"
    },
    "tags": []
   },
   "outputs": [],
   "source": []
  },
  {
   "cell_type": "code",
   "execution_count": 1,
   "id": "83f10ffc",
   "metadata": {
    "execution": {
     "iopub.execute_input": "2022-06-10T13:32:44.625108Z",
     "iopub.status.busy": "2022-06-10T13:32:44.624443Z",
     "iopub.status.idle": "2022-06-10T13:33:15.025820Z",
     "shell.execute_reply": "2022-06-10T13:33:15.024605Z"
    },
    "papermill": {
     "duration": 30.41871,
     "end_time": "2022-06-10T13:33:15.028665",
     "exception": false,
     "start_time": "2022-06-10T13:32:44.609955",
     "status": "completed"
    },
    "tags": []
   },
   "outputs": [
    {
     "name": "stdout",
     "output_type": "stream",
     "text": [
      "Collecting pyvi\r\n",
      "  Downloading pyvi-0.1.1-py2.py3-none-any.whl (8.5 MB)\r\n",
      "\u001b[2K     \u001b[90m━━━━━━━━━━━━━━━━━━━━━━━━━━━━━━━━━━━━━━━━\u001b[0m \u001b[32m8.5/8.5 MB\u001b[0m \u001b[31m11.5 MB/s\u001b[0m eta \u001b[36m0:00:00\u001b[0m\r\n",
      "\u001b[?25hCollecting sklearn-crfsuite\r\n",
      "  Downloading sklearn_crfsuite-0.3.6-py2.py3-none-any.whl (12 kB)\r\n",
      "Requirement already satisfied: scikit-learn in /opt/conda/lib/python3.7/site-packages (from pyvi) (1.0.2)\r\n",
      "Requirement already satisfied: numpy>=1.14.6 in /opt/conda/lib/python3.7/site-packages (from scikit-learn->pyvi) (1.21.6)\r\n",
      "Requirement already satisfied: joblib>=0.11 in /opt/conda/lib/python3.7/site-packages (from scikit-learn->pyvi) (1.1.0)\r\n",
      "Requirement already satisfied: threadpoolctl>=2.0.0 in /opt/conda/lib/python3.7/site-packages (from scikit-learn->pyvi) (3.1.0)\r\n",
      "Requirement already satisfied: scipy>=1.1.0 in /opt/conda/lib/python3.7/site-packages (from scikit-learn->pyvi) (1.7.3)\r\n",
      "Requirement already satisfied: tabulate in /opt/conda/lib/python3.7/site-packages (from sklearn-crfsuite->pyvi) (0.8.9)\r\n",
      "Requirement already satisfied: six in /opt/conda/lib/python3.7/site-packages (from sklearn-crfsuite->pyvi) (1.16.0)\r\n",
      "Requirement already satisfied: tqdm>=2.0 in /opt/conda/lib/python3.7/site-packages (from sklearn-crfsuite->pyvi) (4.64.0)\r\n",
      "Collecting python-crfsuite>=0.8.3\r\n",
      "  Downloading python_crfsuite-0.9.8-cp37-cp37m-manylinux_2_17_x86_64.manylinux2014_x86_64.whl (965 kB)\r\n",
      "\u001b[2K     \u001b[90m━━━━━━━━━━━━━━━━━━━━━━━━━━━━━━━━━━━━━━\u001b[0m \u001b[32m965.4/965.4 kB\u001b[0m \u001b[31m34.6 MB/s\u001b[0m eta \u001b[36m0:00:00\u001b[0m\r\n",
      "\u001b[?25hInstalling collected packages: python-crfsuite, sklearn-crfsuite, pyvi\r\n",
      "Successfully installed python-crfsuite-0.9.8 pyvi-0.1.1 sklearn-crfsuite-0.3.6\r\n",
      "\u001b[33mWARNING: Running pip as the 'root' user can result in broken permissions and conflicting behaviour with the system package manager. It is recommended to use a virtual environment instead: https://pip.pypa.io/warnings/venv\u001b[0m\u001b[33m\r\n",
      "\u001b[0mCollecting keras-self-attention\r\n",
      "  Downloading keras-self-attention-0.51.0.tar.gz (11 kB)\r\n",
      "  Preparing metadata (setup.py) ... \u001b[?25l-\b \bdone\r\n",
      "\u001b[?25hRequirement already satisfied: numpy in /opt/conda/lib/python3.7/site-packages (from keras-self-attention) (1.21.6)\r\n",
      "Building wheels for collected packages: keras-self-attention\r\n",
      "  Building wheel for keras-self-attention (setup.py) ... \u001b[?25l-\b \b\\\b \bdone\r\n",
      "\u001b[?25h  Created wheel for keras-self-attention: filename=keras_self_attention-0.51.0-py3-none-any.whl size=18912 sha256=700a5c1ee916eb8ea620285035594818fa02d4cb256b37a7c6af62d16aa34d67\r\n",
      "  Stored in directory: /root/.cache/pip/wheels/95/b1/a8/5ee00cc137940b2f6fa198212e8f45d813d0e0d9c3a04035a3\r\n",
      "Successfully built keras-self-attention\r\n",
      "Installing collected packages: keras-self-attention\r\n",
      "Successfully installed keras-self-attention-0.51.0\r\n",
      "\u001b[33mWARNING: Running pip as the 'root' user can result in broken permissions and conflicting behaviour with the system package manager. It is recommended to use a virtual environment instead: https://pip.pypa.io/warnings/venv\u001b[0m\u001b[33m\r\n",
      "\u001b[0m"
     ]
    }
   ],
   "source": [
    "!pip install pyvi\n",
    "!pip install keras-self-attention"
   ]
  },
  {
   "cell_type": "code",
   "execution_count": 2,
   "id": "58544647",
   "metadata": {
    "execution": {
     "iopub.execute_input": "2022-06-10T13:33:15.062349Z",
     "iopub.status.busy": "2022-06-10T13:33:15.061889Z",
     "iopub.status.idle": "2022-06-10T13:33:24.262960Z",
     "shell.execute_reply": "2022-06-10T13:33:24.261740Z"
    },
    "id": "d9dd81f0",
    "papermill": {
     "duration": 9.22077,
     "end_time": "2022-06-10T13:33:24.265492",
     "exception": false,
     "start_time": "2022-06-10T13:33:15.044722",
     "status": "completed"
    },
    "tags": []
   },
   "outputs": [],
   "source": [
    "# BATCH_SIZE = 100\n",
    "SEED = 61\n",
    "\n",
    "import re\n",
    "import time\n",
    "import string\n",
    "import pickle\n",
    "import random\n",
    "import numpy as np\n",
    "import pandas as pd\n",
    "import tensorflow as tf\n",
    "import tensorflow_datasets as tfds\n",
    "random.seed(SEED)\n",
    "np.random.seed(SEED)\n",
    "tf.random.set_seed(SEED)\n",
    "# tf.keras.utils.set_random_seed(SEED)\n",
    "\n",
    "from tensorflow.keras.utils import to_categorical\n",
    "from tensorflow.keras.models import Model, load_model\n",
    "from tensorflow.keras.layers import Dense, Embedding,SimpleRNN, LSTM, Input, Flatten, Convolution1D, MaxPool1D, Bidirectional\n",
    "from tensorflow.keras.preprocessing.text import Tokenizer\n",
    "from tensorflow.keras.preprocessing.sequence import pad_sequences\n",
    "from tensorflow.keras import layers, Sequential\n",
    "from keras.utils.vis_utils import plot_model\n",
    "from keras.callbacks import ModelCheckpoint, EarlyStopping, ReduceLROnPlateau\n",
    "from tensorflow import keras\n",
    "\n",
    "from sklearn.metrics import f1_score, accuracy_score, confusion_matrix, ConfusionMatrixDisplay\n",
    "\n",
    "from gensim.models.fasttext import FastText\n",
    "from gensim.models import Word2Vec\n",
    "\n",
    "import fasttext\n",
    "import fasttext.util\n",
    "\n",
    "import matplotlib.pyplot as plt\n",
    "\n",
    "from pyvi import ViTokenizer\n",
    "\n",
    "from tqdm import tqdm, notebook\n",
    "from keras_self_attention import SeqSelfAttention\n",
    "\n",
    "\n",
    "# import torch\n",
    "# from transformers import AutoModel, AutoTokenizer"
   ]
  },
  {
   "cell_type": "code",
   "execution_count": 3,
   "id": "25971432",
   "metadata": {
    "execution": {
     "iopub.execute_input": "2022-06-10T13:33:24.299042Z",
     "iopub.status.busy": "2022-06-10T13:33:24.296926Z",
     "iopub.status.idle": "2022-06-10T13:33:24.303412Z",
     "shell.execute_reply": "2022-06-10T13:33:24.302368Z"
    },
    "id": "9774e0d0",
    "papermill": {
     "duration": 0.024926,
     "end_time": "2022-06-10T13:33:24.305630",
     "exception": false,
     "start_time": "2022-06-10T13:33:24.280704",
     "status": "completed"
    },
    "tags": []
   },
   "outputs": [],
   "source": [
    "# colab_path = '/content/drive/MyDrive/DACNTT2/tasks/Text Sentiment Analysis/'\n",
    "\n",
    "train_path = '../input/cleaned-sentiment-text/train.csv'\n",
    "validation_path = '../input/cleaned-sentiment-text/validation.csv'\n",
    "test_path = '../input/cleaned-sentiment-text/test.csv'"
   ]
  },
  {
   "cell_type": "code",
   "execution_count": 4,
   "id": "30b6490c",
   "metadata": {
    "execution": {
     "iopub.execute_input": "2022-06-10T13:33:24.337897Z",
     "iopub.status.busy": "2022-06-10T13:33:24.337314Z",
     "iopub.status.idle": "2022-06-10T13:33:24.343627Z",
     "shell.execute_reply": "2022-06-10T13:33:24.342657Z"
    },
    "papermill": {
     "duration": 0.02482,
     "end_time": "2022-06-10T13:33:24.345830",
     "exception": false,
     "start_time": "2022-06-10T13:33:24.321010",
     "status": "completed"
    },
    "tags": []
   },
   "outputs": [],
   "source": [
    "# train_path = '../input/text-sentiment-data/train.csv'\n",
    "# validation_path = '../input/text-sentiment-data/validation.csv'\n",
    "# test_path = '../input/text-sentiment-data/test.csv'"
   ]
  },
  {
   "cell_type": "code",
   "execution_count": 5,
   "id": "7d69bb44",
   "metadata": {
    "execution": {
     "iopub.execute_input": "2022-06-10T13:33:24.378869Z",
     "iopub.status.busy": "2022-06-10T13:33:24.377927Z",
     "iopub.status.idle": "2022-06-10T13:33:25.118413Z",
     "shell.execute_reply": "2022-06-10T13:33:25.116560Z"
    },
    "id": "7806838d",
    "outputId": "7e266a01-c9d2-47e5-e638-4cdb59778201",
    "papermill": {
     "duration": 0.759468,
     "end_time": "2022-06-10T13:33:25.121184",
     "exception": false,
     "start_time": "2022-06-10T13:33:24.361716",
     "status": "completed"
    },
    "tags": []
   },
   "outputs": [
    {
     "name": "stdout",
     "output_type": "stream",
     "text": [
      "Number of train data: 29744\n",
      "Number of validation data: 9920\n",
      "Number of test data: 9920\n",
      "Number of classes: 2 -> ['neg' 'pos']\n"
     ]
    },
    {
     "data": {
      "text/html": [
       "<div>\n",
       "<style scoped>\n",
       "    .dataframe tbody tr th:only-of-type {\n",
       "        vertical-align: middle;\n",
       "    }\n",
       "\n",
       "    .dataframe tbody tr th {\n",
       "        vertical-align: top;\n",
       "    }\n",
       "\n",
       "    .dataframe thead th {\n",
       "        text-align: right;\n",
       "    }\n",
       "</style>\n",
       "<table border=\"1\" class=\"dataframe\">\n",
       "  <thead>\n",
       "    <tr style=\"text-align: right;\">\n",
       "      <th></th>\n",
       "      <th>text</th>\n",
       "      <th>label</th>\n",
       "    </tr>\n",
       "  </thead>\n",
       "  <tbody>\n",
       "    <tr>\n",
       "      <th>0</th>\n",
       "      <td>hôm_nay đi ngang quán quyết_định ghé mua quán ...</td>\n",
       "      <td>neg</td>\n",
       "    </tr>\n",
       "    <tr>\n",
       "      <th>1</th>\n",
       "      <td>đến_súp lơ trưa nắng gắt chủ_nhật hy_vọng súp ...</td>\n",
       "      <td>pos</td>\n",
       "    </tr>\n",
       "    <tr>\n",
       "      <th>2</th>\n",
       "      <td>hôm_qua xe đông khiếp lo bàn may_sao bàn lầu l...</td>\n",
       "      <td>pos</td>\n",
       "    </tr>\n",
       "    <tr>\n",
       "      <th>3</th>\n",
       "      <td>món ăn_ở ngon món bò kho chủ quán quán phục_vụ...</td>\n",
       "      <td>pos</td>\n",
       "    </tr>\n",
       "    <tr>\n",
       "      <th>4</th>\n",
       "      <td>đẹp trời đi mỳ mỳ vô_cùng mặn sợi bở bàn phục_...</td>\n",
       "      <td>neg</td>\n",
       "    </tr>\n",
       "  </tbody>\n",
       "</table>\n",
       "</div>"
      ],
      "text/plain": [
       "                                                text label\n",
       "0  hôm_nay đi ngang quán quyết_định ghé mua quán ...   neg\n",
       "1  đến_súp lơ trưa nắng gắt chủ_nhật hy_vọng súp ...   pos\n",
       "2  hôm_qua xe đông khiếp lo bàn may_sao bàn lầu l...   pos\n",
       "3  món ăn_ở ngon món bò kho chủ quán quán phục_vụ...   pos\n",
       "4  đẹp trời đi mỳ mỳ vô_cùng mặn sợi bở bàn phục_...   neg"
      ]
     },
     "execution_count": 5,
     "metadata": {},
     "output_type": "execute_result"
    }
   ],
   "source": [
    "# data is already cleaned and splitted in 3 parts: train, validation and test\n",
    "train_df = pd.read_csv(train_path, index_col=0)\n",
    "validation_df = pd.read_csv(validation_path, index_col=0)\n",
    "test_df = pd.read_csv(test_path, index_col=0)\n",
    "NUM_CLASSES = len(train_df['label'].unique())\n",
    "index2class = {0:'neg', 1:'pos'}\n",
    "class2index = {'neg': 0, 'pos':1}\n",
    "\n",
    "print('Number of train data:', train_df.shape[0])\n",
    "print('Number of validation data:', validation_df.shape[0])\n",
    "print('Number of test data:', test_df.shape[0])\n",
    "print('Number of classes:', NUM_CLASSES, '->', train_df['label'].unique())\n",
    "\n",
    "train_df.head()"
   ]
  },
  {
   "cell_type": "code",
   "execution_count": 6,
   "id": "ace09082",
   "metadata": {
    "execution": {
     "iopub.execute_input": "2022-06-10T13:33:25.154197Z",
     "iopub.status.busy": "2022-06-10T13:33:25.153832Z",
     "iopub.status.idle": "2022-06-10T13:33:25.161607Z",
     "shell.execute_reply": "2022-06-10T13:33:25.160498Z"
    },
    "id": "4ca4ac4d",
    "papermill": {
     "duration": 0.026514,
     "end_time": "2022-06-10T13:33:25.163677",
     "exception": false,
     "start_time": "2022-06-10T13:33:25.137163",
     "status": "completed"
    },
    "tags": []
   },
   "outputs": [],
   "source": [
    "# X\n",
    "train_data = train_df.iloc[:, 0].to_numpy()\n",
    "validation_data = validation_df.iloc[:, 0].to_numpy()\n",
    "test_data = test_df.iloc[:, 0].to_numpy()\n",
    "whole_data = np.concatenate((train_data, validation_data, test_data), dtype=object)"
   ]
  },
  {
   "cell_type": "code",
   "execution_count": 7,
   "id": "8e41c283",
   "metadata": {
    "execution": {
     "iopub.execute_input": "2022-06-10T13:33:25.196283Z",
     "iopub.status.busy": "2022-06-10T13:33:25.195847Z",
     "iopub.status.idle": "2022-06-10T13:33:25.219254Z",
     "shell.execute_reply": "2022-06-10T13:33:25.218299Z"
    },
    "id": "8844ac55",
    "papermill": {
     "duration": 0.042392,
     "end_time": "2022-06-10T13:33:25.221557",
     "exception": false,
     "start_time": "2022-06-10T13:33:25.179165",
     "status": "completed"
    },
    "tags": []
   },
   "outputs": [],
   "source": [
    "# y\n",
    "label_train = np.array([class2index[i] for i in train_df.iloc[:, 1]])\n",
    "label_validation = np.array([class2index[i] for i in validation_df.iloc[:, 1]])\n",
    "label_test = np.array([class2index[i] for i in test_df.iloc[:, 1]])\n",
    "label_whole = np.concatenate((label_train, label_validation, label_test))"
   ]
  },
  {
   "cell_type": "code",
   "execution_count": 8,
   "id": "c5805b24",
   "metadata": {
    "execution": {
     "iopub.execute_input": "2022-06-10T13:33:25.254219Z",
     "iopub.status.busy": "2022-06-10T13:33:25.253848Z",
     "iopub.status.idle": "2022-06-10T13:33:25.459799Z",
     "shell.execute_reply": "2022-06-10T13:33:25.458763Z"
    },
    "id": "c0729bcc",
    "papermill": {
     "duration": 0.225243,
     "end_time": "2022-06-10T13:33:25.462262",
     "exception": false,
     "start_time": "2022-06-10T13:33:25.237019",
     "status": "completed"
    },
    "tags": []
   },
   "outputs": [],
   "source": [
    "MAXLEN = max([len(x.split()) for x in whole_data]) # = 492\n",
    "EMBEDDING_DIM = 100"
   ]
  },
  {
   "cell_type": "markdown",
   "id": "ef6255d0",
   "metadata": {
    "id": "9bbb713d",
    "papermill": {
     "duration": 0.014917,
     "end_time": "2022-06-10T13:33:25.493103",
     "exception": false,
     "start_time": "2022-06-10T13:33:25.478186",
     "status": "completed"
    },
    "tags": []
   },
   "source": [
    "# 6 - Sử dụng 1 trong 3 kết quả ở các câu 2,3,4 là đầu vào cho các mô hình học sâu: MLP, RNN, LSTM, BiLSTM và CNN (các tham số của mô hình tự xây dựng) cho bài toán phân lớp ý kiến người dùng. In ra các tham số của mô hình huấn luyện"
   ]
  },
  {
   "cell_type": "code",
   "execution_count": 9,
   "id": "8efe52b7",
   "metadata": {
    "execution": {
     "iopub.execute_input": "2022-06-10T13:33:25.526197Z",
     "iopub.status.busy": "2022-06-10T13:33:25.525112Z",
     "iopub.status.idle": "2022-06-10T13:33:25.530708Z",
     "shell.execute_reply": "2022-06-10T13:33:25.529770Z"
    },
    "id": "bc95d66a",
    "outputId": "ae3b9076-83ad-4796-df38-3d4dc2af36e7",
    "papermill": {
     "duration": 0.024273,
     "end_time": "2022-06-10T13:33:25.532805",
     "exception": false,
     "start_time": "2022-06-10T13:33:25.508532",
     "status": "completed"
    },
    "tags": []
   },
   "outputs": [],
   "source": [
    "# # load fasttext trained embedding layer weights to get feature vector accordingly\n",
    "# ft_loaded = fasttext.load_model('data/embedding/fasttext/FastTextEmbeddingModel.bin')"
   ]
  },
  {
   "cell_type": "code",
   "execution_count": 10,
   "id": "fea3b3b7",
   "metadata": {
    "execution": {
     "iopub.execute_input": "2022-06-10T13:33:25.565806Z",
     "iopub.status.busy": "2022-06-10T13:33:25.565420Z",
     "iopub.status.idle": "2022-06-10T13:33:25.569817Z",
     "shell.execute_reply": "2022-06-10T13:33:25.568791Z"
    },
    "papermill": {
     "duration": 0.023371,
     "end_time": "2022-06-10T13:33:25.572093",
     "exception": false,
     "start_time": "2022-06-10T13:33:25.548722",
     "status": "completed"
    },
    "tags": []
   },
   "outputs": [],
   "source": [
    "# def fasttext_pretrained_embed_sentence(sent):\n",
    "#     embedded_sent = np.zeros((EMBEDDING_DIM, ))\n",
    "#     for i, word in enumerate(sent.split()):\n",
    "#         embedded_sent += ft_loaded.get_word_vector(word)\n",
    "#     return (embedded_sent/len(sent.split())).ravel().tolist()\n",
    "\n",
    "# fasttext_pretrained_embed = np.frompyfunc(fasttext_pretrained_embed_sentence, 1, 1)"
   ]
  },
  {
   "cell_type": "code",
   "execution_count": 11,
   "id": "0646c61a",
   "metadata": {
    "execution": {
     "iopub.execute_input": "2022-06-10T13:33:25.605780Z",
     "iopub.status.busy": "2022-06-10T13:33:25.604794Z",
     "iopub.status.idle": "2022-06-10T13:33:25.610106Z",
     "shell.execute_reply": "2022-06-10T13:33:25.608899Z"
    },
    "papermill": {
     "duration": 0.024399,
     "end_time": "2022-06-10T13:33:25.612375",
     "exception": false,
     "start_time": "2022-06-10T13:33:25.587976",
     "status": "completed"
    },
    "tags": []
   },
   "outputs": [],
   "source": [
    "# X_train = np.array(fasttext_pretrained_embed(train_data).tolist())\n",
    "# X_validation = np.array(fasttext_pretrained_embed(validation_data).tolist())\n",
    "# X_test = np.array(fasttext_pretrained_embed(test_data).tolist())"
   ]
  },
  {
   "cell_type": "code",
   "execution_count": 12,
   "id": "93dc53e5",
   "metadata": {
    "execution": {
     "iopub.execute_input": "2022-06-10T13:33:25.645519Z",
     "iopub.status.busy": "2022-06-10T13:33:25.645101Z",
     "iopub.status.idle": "2022-06-10T13:33:25.650348Z",
     "shell.execute_reply": "2022-06-10T13:33:25.649346Z"
    },
    "papermill": {
     "duration": 0.024438,
     "end_time": "2022-06-10T13:33:25.652670",
     "exception": false,
     "start_time": "2022-06-10T13:33:25.628232",
     "status": "completed"
    },
    "tags": []
   },
   "outputs": [],
   "source": [
    "# np.save('data/embedding/fasttext/X_train.npy', X_train)\n",
    "# np.save('data/embedding/fasttext/X_validation.npy', X_validation)\n",
    "# np.save('data/embedding/fasttext/X_test.npy', X_test)"
   ]
  },
  {
   "cell_type": "code",
   "execution_count": 13,
   "id": "4ddc4411",
   "metadata": {
    "execution": {
     "iopub.execute_input": "2022-06-10T13:33:25.687152Z",
     "iopub.status.busy": "2022-06-10T13:33:25.686551Z",
     "iopub.status.idle": "2022-06-10T13:33:26.840975Z",
     "shell.execute_reply": "2022-06-10T13:33:26.839835Z"
    },
    "papermill": {
     "duration": 1.174573,
     "end_time": "2022-06-10T13:33:26.843574",
     "exception": false,
     "start_time": "2022-06-10T13:33:25.669001",
     "status": "completed"
    },
    "tags": []
   },
   "outputs": [],
   "source": [
    "# load saved embedded FastText features data\n",
    "# data/embedding/fasttext/X_train.npy\n",
    "# this is features from already cleaned text\n",
    "X_train = np.load('../input/embeddings/X_train.npy', allow_pickle=True)\n",
    "X_validation = np.load('../input/embeddings/X_validation.npy', allow_pickle=True)\n",
    "X_test = np.load('../input/embeddings/X_test.npy', allow_pickle=True)"
   ]
  },
  {
   "cell_type": "code",
   "execution_count": null,
   "id": "d6c02829",
   "metadata": {
    "execution": {
     "iopub.execute_input": "2022-06-10T07:24:50.262322Z",
     "iopub.status.busy": "2022-06-10T07:24:50.261835Z",
     "iopub.status.idle": "2022-06-10T07:24:50.937207Z",
     "shell.execute_reply": "2022-06-10T07:24:50.935824Z",
     "shell.execute_reply.started": "2022-06-10T07:24:50.26227Z"
    },
    "papermill": {
     "duration": 0.015333,
     "end_time": "2022-06-10T13:33:26.874769",
     "exception": false,
     "start_time": "2022-06-10T13:33:26.859436",
     "status": "completed"
    },
    "tags": []
   },
   "outputs": [],
   "source": []
  },
  {
   "cell_type": "markdown",
   "id": "af56dfb1",
   "metadata": {
    "id": "a0863d16",
    "papermill": {
     "duration": 0.015745,
     "end_time": "2022-06-10T13:33:26.906551",
     "exception": false,
     "start_time": "2022-06-10T13:33:26.890806",
     "status": "completed"
    },
    "tags": []
   },
   "source": [
    "# MLP"
   ]
  },
  {
   "cell_type": "code",
   "execution_count": 14,
   "id": "560ada2a",
   "metadata": {
    "execution": {
     "iopub.execute_input": "2022-06-10T13:33:26.939992Z",
     "iopub.status.busy": "2022-06-10T13:33:26.939608Z",
     "iopub.status.idle": "2022-06-10T13:33:26.946045Z",
     "shell.execute_reply": "2022-06-10T13:33:26.945027Z"
    },
    "papermill": {
     "duration": 0.025493,
     "end_time": "2022-06-10T13:33:26.948235",
     "exception": false,
     "start_time": "2022-06-10T13:33:26.922742",
     "status": "completed"
    },
    "tags": []
   },
   "outputs": [],
   "source": [
    "early_stopping = EarlyStopping(patience=5, monitor=\"val_loss\", verbose=1)\n",
    "reduce_lr = ReduceLROnPlateau(monitor='val_loss', factor=0.1,\n",
    "                              patience=5, verbose=1)\n",
    "# mlp.optimizer.get_config()\n",
    "# adam initial learning rate = 0.001"
   ]
  },
  {
   "cell_type": "code",
   "execution_count": 15,
   "id": "11c3ac03",
   "metadata": {
    "execution": {
     "iopub.execute_input": "2022-06-10T13:33:26.981196Z",
     "iopub.status.busy": "2022-06-10T13:33:26.980852Z",
     "iopub.status.idle": "2022-06-10T13:33:30.518974Z",
     "shell.execute_reply": "2022-06-10T13:33:30.515358Z"
    },
    "id": "b9348769",
    "papermill": {
     "duration": 3.557078,
     "end_time": "2022-06-10T13:33:30.521235",
     "exception": false,
     "start_time": "2022-06-10T13:33:26.964157",
     "status": "completed"
    },
    "tags": []
   },
   "outputs": [
    {
     "name": "stderr",
     "output_type": "stream",
     "text": [
      "2022-06-10 13:33:27.080167: I tensorflow/stream_executor/cuda/cuda_gpu_executor.cc:937] successful NUMA node read from SysFS had negative value (-1), but there must be at least one NUMA node, so returning NUMA node zero\n",
      "2022-06-10 13:33:27.232266: I tensorflow/stream_executor/cuda/cuda_gpu_executor.cc:937] successful NUMA node read from SysFS had negative value (-1), but there must be at least one NUMA node, so returning NUMA node zero\n",
      "2022-06-10 13:33:27.233351: I tensorflow/stream_executor/cuda/cuda_gpu_executor.cc:937] successful NUMA node read from SysFS had negative value (-1), but there must be at least one NUMA node, so returning NUMA node zero\n",
      "2022-06-10 13:33:27.234913: I tensorflow/core/platform/cpu_feature_guard.cc:142] This TensorFlow binary is optimized with oneAPI Deep Neural Network Library (oneDNN) to use the following CPU instructions in performance-critical operations:  AVX2 FMA\n",
      "To enable them in other operations, rebuild TensorFlow with the appropriate compiler flags.\n",
      "2022-06-10 13:33:27.235289: I tensorflow/stream_executor/cuda/cuda_gpu_executor.cc:937] successful NUMA node read from SysFS had negative value (-1), but there must be at least one NUMA node, so returning NUMA node zero\n",
      "2022-06-10 13:33:27.236338: I tensorflow/stream_executor/cuda/cuda_gpu_executor.cc:937] successful NUMA node read from SysFS had negative value (-1), but there must be at least one NUMA node, so returning NUMA node zero\n",
      "2022-06-10 13:33:27.237432: I tensorflow/stream_executor/cuda/cuda_gpu_executor.cc:937] successful NUMA node read from SysFS had negative value (-1), but there must be at least one NUMA node, so returning NUMA node zero\n",
      "2022-06-10 13:33:30.117423: I tensorflow/stream_executor/cuda/cuda_gpu_executor.cc:937] successful NUMA node read from SysFS had negative value (-1), but there must be at least one NUMA node, so returning NUMA node zero\n",
      "2022-06-10 13:33:30.118546: I tensorflow/stream_executor/cuda/cuda_gpu_executor.cc:937] successful NUMA node read from SysFS had negative value (-1), but there must be at least one NUMA node, so returning NUMA node zero\n",
      "2022-06-10 13:33:30.119619: I tensorflow/stream_executor/cuda/cuda_gpu_executor.cc:937] successful NUMA node read from SysFS had negative value (-1), but there must be at least one NUMA node, so returning NUMA node zero\n",
      "2022-06-10 13:33:30.120547: I tensorflow/core/common_runtime/gpu/gpu_device.cc:1510] Created device /job:localhost/replica:0/task:0/device:GPU:0 with 15403 MB memory:  -> device: 0, name: Tesla P100-PCIE-16GB, pci bus id: 0000:00:04.0, compute capability: 6.0\n"
     ]
    }
   ],
   "source": [
    "mlp = Sequential()\n",
    "mlp.add(Input(shape=(EMBEDDING_DIM,)))\n",
    "mlp.add(Dense(200, activation='relu'))\n",
    "mlp.add(Dense(100, activation='relu'))\n",
    "mlp.add(Dense(20, activation='relu'))\n",
    "mlp.add(Dense(1, activation='sigmoid'))"
   ]
  },
  {
   "cell_type": "code",
   "execution_count": 16,
   "id": "97924d91",
   "metadata": {
    "execution": {
     "iopub.execute_input": "2022-06-10T13:33:30.554865Z",
     "iopub.status.busy": "2022-06-10T13:33:30.554438Z",
     "iopub.status.idle": "2022-06-10T13:33:31.665628Z",
     "shell.execute_reply": "2022-06-10T13:33:31.664288Z"
    },
    "id": "0467f83b",
    "outputId": "0f883303-b9ce-405c-f429-5cac9285ab16",
    "papermill": {
     "duration": 1.130168,
     "end_time": "2022-06-10T13:33:31.667850",
     "exception": false,
     "start_time": "2022-06-10T13:33:30.537682",
     "status": "completed"
    },
    "scrolled": true,
    "tags": []
   },
   "outputs": [
    {
     "name": "stdout",
     "output_type": "stream",
     "text": [
      "Model: \"sequential\"\n",
      "_________________________________________________________________\n",
      "Layer (type)                 Output Shape              Param #   \n",
      "=================================================================\n",
      "dense (Dense)                (None, 200)               20200     \n",
      "_________________________________________________________________\n",
      "dense_1 (Dense)              (None, 100)               20100     \n",
      "_________________________________________________________________\n",
      "dense_2 (Dense)              (None, 20)                2020      \n",
      "_________________________________________________________________\n",
      "dense_3 (Dense)              (None, 1)                 21        \n",
      "=================================================================\n",
      "Total params: 42,341\n",
      "Trainable params: 42,341\n",
      "Non-trainable params: 0\n",
      "_________________________________________________________________\n",
      "None\n"
     ]
    },
    {
     "data": {
      "image/png": "[encoded data removed]",
      "text/plain": [
       "<IPython.core.display.Image object>"
      ]
     },
     "execution_count": 16,
     "metadata": {},
     "output_type": "execute_result"
    }
   ],
   "source": [
    "print(mlp.summary())\n",
    "checkpoint_mlp = ModelCheckpoint('./model_checkpoint/mlp.h5', save_best_only=True, verbose=1)\n",
    "mlp.compile(optimizer='adam', loss='binary_crossentropy', metrics=['accuracy'])\n",
    "plot_model(mlp, rankdir='LR', show_shapes=True)"
   ]
  },
  {
   "cell_type": "code",
   "execution_count": 17,
   "id": "490bba00",
   "metadata": {
    "execution": {
     "iopub.execute_input": "2022-06-10T13:33:31.705447Z",
     "iopub.status.busy": "2022-06-10T13:33:31.704533Z",
     "iopub.status.idle": "2022-06-10T13:33:31.709822Z",
     "shell.execute_reply": "2022-06-10T13:33:31.708679Z"
    },
    "papermill": {
     "duration": 0.027466,
     "end_time": "2022-06-10T13:33:31.712786",
     "exception": false,
     "start_time": "2022-06-10T13:33:31.685320",
     "status": "completed"
    },
    "tags": []
   },
   "outputs": [],
   "source": [
    "# mlp.fit(X_train, label_train, epochs=2, batch_size=100,\n",
    "#         validation_data=(X_validation, label_validation), \n",
    "#         callbacks=[checkpoint_mlp, reduce_lr])"
   ]
  },
  {
   "cell_type": "markdown",
   "id": "fcb492d5",
   "metadata": {
    "papermill": {
     "duration": 0.016081,
     "end_time": "2022-06-10T13:33:31.745700",
     "exception": false,
     "start_time": "2022-06-10T13:33:31.729619",
     "status": "completed"
    },
    "tags": []
   },
   "source": [
    "# RNN"
   ]
  },
  {
   "cell_type": "code",
   "execution_count": 18,
   "id": "90e1dc8d",
   "metadata": {
    "execution": {
     "iopub.execute_input": "2022-06-10T13:33:31.780278Z",
     "iopub.status.busy": "2022-06-10T13:33:31.779887Z",
     "iopub.status.idle": "2022-06-10T13:33:31.961760Z",
     "shell.execute_reply": "2022-06-10T13:33:31.960626Z"
    },
    "papermill": {
     "duration": 0.202055,
     "end_time": "2022-06-10T13:33:31.964525",
     "exception": false,
     "start_time": "2022-06-10T13:33:31.762470",
     "status": "completed"
    },
    "tags": []
   },
   "outputs": [],
   "source": [
    "rnn = Sequential()\n",
    "rnn.add(Input(shape=(1, EMBEDDING_DIM)))\n",
    "rnn.add(SimpleRNN(128, return_sequences=True))\n",
    "rnn.add(SimpleRNN(128, return_sequences=False))\n",
    "rnn.add(Dense(1, activation='sigmoid'))"
   ]
  },
  {
   "cell_type": "code",
   "execution_count": 19,
   "id": "713fbbc8",
   "metadata": {
    "execution": {
     "iopub.execute_input": "2022-06-10T13:33:32.000630Z",
     "iopub.status.busy": "2022-06-10T13:33:32.000209Z",
     "iopub.status.idle": "2022-06-10T13:33:32.133924Z",
     "shell.execute_reply": "2022-06-10T13:33:32.132589Z"
    },
    "papermill": {
     "duration": 0.153521,
     "end_time": "2022-06-10T13:33:32.136199",
     "exception": false,
     "start_time": "2022-06-10T13:33:31.982678",
     "status": "completed"
    },
    "tags": []
   },
   "outputs": [
    {
     "name": "stdout",
     "output_type": "stream",
     "text": [
      "Model: \"sequential_1\"\n",
      "_________________________________________________________________\n",
      "Layer (type)                 Output Shape              Param #   \n",
      "=================================================================\n",
      "simple_rnn (SimpleRNN)       (None, 1, 128)            29312     \n",
      "_________________________________________________________________\n",
      "simple_rnn_1 (SimpleRNN)     (None, 128)               32896     \n",
      "_________________________________________________________________\n",
      "dense_4 (Dense)              (None, 1)                 129       \n",
      "=================================================================\n",
      "Total params: 62,337\n",
      "Trainable params: 62,337\n",
      "Non-trainable params: 0\n",
      "_________________________________________________________________\n",
      "None\n"
     ]
    },
    {
     "data": {
      "image/png": "[encoded data removed]",
      "text/plain": [
       "<IPython.core.display.Image object>"
      ]
     },
     "execution_count": 19,
     "metadata": {},
     "output_type": "execute_result"
    }
   ],
   "source": [
    "print(rnn.summary())\n",
    "checkpoint_rnn = ModelCheckpoint('./model_checkpoint/rnn.h5', save_best_only=True, verbose=1)\n",
    "rnn.compile(optimizer='adam', loss='binary_crossentropy', metrics=['accuracy'])\n",
    "plot_model(rnn, rankdir='LR', show_shapes=True)"
   ]
  },
  {
   "cell_type": "code",
   "execution_count": 20,
   "id": "a9d8de8a",
   "metadata": {
    "execution": {
     "iopub.execute_input": "2022-06-10T13:33:32.172957Z",
     "iopub.status.busy": "2022-06-10T13:33:32.172005Z",
     "iopub.status.idle": "2022-06-10T13:33:32.177980Z",
     "shell.execute_reply": "2022-06-10T13:33:32.176973Z"
    },
    "papermill": {
     "duration": 0.027149,
     "end_time": "2022-06-10T13:33:32.180799",
     "exception": false,
     "start_time": "2022-06-10T13:33:32.153650",
     "status": "completed"
    },
    "tags": []
   },
   "outputs": [],
   "source": [
    "# rnn.fit(X_train.reshape(X_train.shape[0], -1, 100), label_train, epochs=100, batch_size=100,\n",
    "#         validation_data=(X_validation.reshape(X_validation.shape[0], -1, 100), label_validation), \n",
    "#         callbacks=[checkpoint_rnn, reduce_lr])"
   ]
  },
  {
   "cell_type": "markdown",
   "id": "af4acdd7",
   "metadata": {
    "papermill": {
     "duration": 0.016143,
     "end_time": "2022-06-10T13:33:32.213604",
     "exception": false,
     "start_time": "2022-06-10T13:33:32.197461",
     "status": "completed"
    },
    "tags": []
   },
   "source": [
    "# LSTM"
   ]
  },
  {
   "cell_type": "code",
   "execution_count": 21,
   "id": "582f71ba",
   "metadata": {
    "execution": {
     "iopub.execute_input": "2022-06-10T13:33:32.249660Z",
     "iopub.status.busy": "2022-06-10T13:33:32.248783Z",
     "iopub.status.idle": "2022-06-10T13:33:32.857098Z",
     "shell.execute_reply": "2022-06-10T13:33:32.855554Z"
    },
    "papermill": {
     "duration": 0.630953,
     "end_time": "2022-06-10T13:33:32.861424",
     "exception": false,
     "start_time": "2022-06-10T13:33:32.230471",
     "status": "completed"
    },
    "tags": []
   },
   "outputs": [],
   "source": [
    "lstm = Sequential()\n",
    "lstm.add(Input(shape=(1, EMBEDDING_DIM)))\n",
    "lstm.add(LSTM(256, return_sequences=True))\n",
    "lstm.add(LSTM(128, return_sequences=True))\n",
    "lstm.add(Dense(1, activation='sigmoid'))"
   ]
  },
  {
   "cell_type": "code",
   "execution_count": 22,
   "id": "6f3af609",
   "metadata": {
    "execution": {
     "iopub.execute_input": "2022-06-10T13:33:32.927179Z",
     "iopub.status.busy": "2022-06-10T13:33:32.926779Z",
     "iopub.status.idle": "2022-06-10T13:33:33.062065Z",
     "shell.execute_reply": "2022-06-10T13:33:33.060347Z"
    },
    "papermill": {
     "duration": 0.166998,
     "end_time": "2022-06-10T13:33:33.065155",
     "exception": false,
     "start_time": "2022-06-10T13:33:32.898157",
     "status": "completed"
    },
    "tags": []
   },
   "outputs": [
    {
     "name": "stdout",
     "output_type": "stream",
     "text": [
      "Model: \"sequential_2\"\n",
      "_________________________________________________________________\n",
      "Layer (type)                 Output Shape              Param #   \n",
      "=================================================================\n",
      "lstm (LSTM)                  (None, 1, 256)            365568    \n",
      "_________________________________________________________________\n",
      "lstm_1 (LSTM)                (None, 1, 128)            197120    \n",
      "_________________________________________________________________\n",
      "dense_5 (Dense)              (None, 1, 1)              129       \n",
      "=================================================================\n",
      "Total params: 562,817\n",
      "Trainable params: 562,817\n",
      "Non-trainable params: 0\n",
      "_________________________________________________________________\n",
      "None\n"
     ]
    },
    {
     "data": {
      "image/png": "[encoded data removed]",
      "text/plain": [
       "<IPython.core.display.Image object>"
      ]
     },
     "execution_count": 22,
     "metadata": {},
     "output_type": "execute_result"
    }
   ],
   "source": [
    "print(lstm.summary())\n",
    "checkpoint_lstm = ModelCheckpoint('./model_checkpoint/lstm.h5', save_best_only=True, verbose=1)\n",
    "lstm.compile(optimizer='adam', loss='binary_crossentropy', metrics=['accuracy'])\n",
    "plot_model(lstm, rankdir='LR', show_shapes=True)"
   ]
  },
  {
   "cell_type": "code",
   "execution_count": 23,
   "id": "9d465d8b",
   "metadata": {
    "execution": {
     "iopub.execute_input": "2022-06-10T13:33:33.107123Z",
     "iopub.status.busy": "2022-06-10T13:33:33.106651Z",
     "iopub.status.idle": "2022-06-10T13:33:46.937116Z",
     "shell.execute_reply": "2022-06-10T13:33:46.935993Z"
    },
    "papermill": {
     "duration": 13.854057,
     "end_time": "2022-06-10T13:33:46.939498",
     "exception": false,
     "start_time": "2022-06-10T13:33:33.085441",
     "status": "completed"
    },
    "tags": []
   },
   "outputs": [
    {
     "name": "stderr",
     "output_type": "stream",
     "text": [
      "2022-06-10 13:33:33.203800: I tensorflow/compiler/mlir/mlir_graph_optimization_pass.cc:185] None of the MLIR Optimization Passes are enabled (registered 2)\n"
     ]
    },
    {
     "name": "stdout",
     "output_type": "stream",
     "text": [
      "Epoch 1/2\n"
     ]
    },
    {
     "name": "stderr",
     "output_type": "stream",
     "text": [
      "2022-06-10 13:33:37.667083: I tensorflow/stream_executor/cuda/cuda_dnn.cc:369] Loaded cuDNN version 8005\n"
     ]
    },
    {
     "name": "stdout",
     "output_type": "stream",
     "text": [
      "298/298 [==============================] - 9s 11ms/step - loss: 0.6147 - accuracy: 0.6529 - val_loss: 0.4853 - val_accuracy: 0.7750\n",
      "\n",
      "Epoch 00001: val_loss improved from inf to 0.48528, saving model to ./model_checkpoint/lstm.h5\n",
      "Epoch 2/2\n",
      "298/298 [==============================] - 2s 8ms/step - loss: 0.4749 - accuracy: 0.7798 - val_loss: 0.4670 - val_accuracy: 0.7766\n",
      "\n",
      "Epoch 00002: val_loss improved from 0.48528 to 0.46703, saving model to ./model_checkpoint/lstm.h5\n"
     ]
    },
    {
     "data": {
      "text/plain": [
       "<keras.callbacks.History at 0x7f2449c067d0>"
      ]
     },
     "execution_count": 23,
     "metadata": {},
     "output_type": "execute_result"
    }
   ],
   "source": [
    "lstm.fit(X_train.reshape(X_train.shape[0], -1, 100), label_train, epochs=2, batch_size=100,\n",
    "        validation_data=(X_validation.reshape(X_validation.shape[0], -1, 100), label_validation), \n",
    "        callbacks=[checkpoint_lstm, reduce_lr])"
   ]
  },
  {
   "cell_type": "markdown",
   "id": "6794ba5a",
   "metadata": {
    "papermill": {
     "duration": 0.023166,
     "end_time": "2022-06-10T13:33:46.986786",
     "exception": false,
     "start_time": "2022-06-10T13:33:46.963620",
     "status": "completed"
    },
    "tags": []
   },
   "source": [
    "# LSTM with Self-Attention"
   ]
  },
  {
   "cell_type": "code",
   "execution_count": 24,
   "id": "1ba26082",
   "metadata": {
    "execution": {
     "iopub.execute_input": "2022-06-10T13:33:47.034657Z",
     "iopub.status.busy": "2022-06-10T13:33:47.034262Z",
     "iopub.status.idle": "2022-06-10T13:33:48.160352Z",
     "shell.execute_reply": "2022-06-10T13:33:48.159311Z"
    },
    "papermill": {
     "duration": 1.152811,
     "end_time": "2022-06-10T13:33:48.162857",
     "exception": false,
     "start_time": "2022-06-10T13:33:47.010046",
     "status": "completed"
    },
    "tags": []
   },
   "outputs": [],
   "source": [
    "lstm1_input = Input(shape=(1, EMBEDDING_DIM))\n",
    "self_attention = SeqSelfAttention() (lstm1_input)\n",
    "x = LSTM(256, return_sequences=True) (self_attention)\n",
    "x = LSTM(128, return_sequences=True) (x)\n",
    "lstm1_output = Dense(1, activation='sigmoid') (x)\n",
    "lstm1 = Model(lstm1_input, lstm1_output)"
   ]
  },
  {
   "cell_type": "code",
   "execution_count": 25,
   "id": "a712457e",
   "metadata": {
    "execution": {
     "iopub.execute_input": "2022-06-10T13:33:48.218148Z",
     "iopub.status.busy": "2022-06-10T13:33:48.217765Z",
     "iopub.status.idle": "2022-06-10T13:33:48.389137Z",
     "shell.execute_reply": "2022-06-10T13:33:48.387930Z"
    },
    "papermill": {
     "duration": 0.200869,
     "end_time": "2022-06-10T13:33:48.391510",
     "exception": false,
     "start_time": "2022-06-10T13:33:48.190641",
     "status": "completed"
    },
    "tags": []
   },
   "outputs": [
    {
     "name": "stdout",
     "output_type": "stream",
     "text": [
      "Model: \"model\"\n",
      "_________________________________________________________________\n",
      "Layer (type)                 Output Shape              Param #   \n",
      "=================================================================\n",
      "input_4 (InputLayer)         [(None, 1, 100)]          0         \n",
      "_________________________________________________________________\n",
      "seq_self_attention (SeqSelfA (None, None, 100)         6465      \n",
      "_________________________________________________________________\n",
      "lstm_2 (LSTM)                (None, None, 256)         365568    \n",
      "_________________________________________________________________\n",
      "lstm_3 (LSTM)                (None, None, 128)         197120    \n",
      "_________________________________________________________________\n",
      "dense_6 (Dense)              (None, None, 1)           129       \n",
      "=================================================================\n",
      "Total params: 569,282\n",
      "Trainable params: 569,282\n",
      "Non-trainable params: 0\n",
      "_________________________________________________________________\n",
      "None\n"
     ]
    },
    {
     "data": {
      "image/png": "[encoded data removed]",
      "text/plain": [
       "<IPython.core.display.Image object>"
      ]
     },
     "execution_count": 25,
     "metadata": {},
     "output_type": "execute_result"
    }
   ],
   "source": [
    "print(lstm1.summary())\n",
    "checkpoint_lstm1 = ModelCheckpoint('./model_checkpoint/lstm1.h5', save_best_only=True, verbose=1)\n",
    "lstm1.compile(optimizer='adam', loss='binary_crossentropy', metrics=['accuracy'])\n",
    "plot_model(lstm1, rankdir='LR', show_shapes=True)"
   ]
  },
  {
   "cell_type": "code",
   "execution_count": 26,
   "id": "042128bc",
   "metadata": {
    "execution": {
     "iopub.execute_input": "2022-06-10T13:33:48.442608Z",
     "iopub.status.busy": "2022-06-10T13:33:48.441506Z",
     "iopub.status.idle": "2022-06-10T13:39:14.174360Z",
     "shell.execute_reply": "2022-06-10T13:39:14.173184Z"
    },
    "papermill": {
     "duration": 326.080023,
     "end_time": "2022-06-10T13:39:14.496317",
     "exception": false,
     "start_time": "2022-06-10T13:33:48.416294",
     "status": "completed"
    },
    "tags": []
   },
   "outputs": [
    {
     "name": "stdout",
     "output_type": "stream",
     "text": [
      "Epoch 1/100\n",
      "298/298 [==============================] - 8s 12ms/step - loss: 0.6147 - accuracy: 0.6527 - val_loss: 0.4852 - val_accuracy: 0.7745\n",
      "\n",
      "Epoch 00001: val_loss improved from inf to 0.48521, saving model to ./model_checkpoint/lstm1.h5\n",
      "Epoch 2/100\n",
      "298/298 [==============================] - 3s 9ms/step - loss: 0.4747 - accuracy: 0.7802 - val_loss: 0.4665 - val_accuracy: 0.7771\n",
      "\n",
      "Epoch 00002: val_loss improved from 0.48521 to 0.46647, saving model to ./model_checkpoint/lstm1.h5\n",
      "Epoch 3/100\n",
      "298/298 [==============================] - 2s 8ms/step - loss: 0.4606 - accuracy: 0.7833 - val_loss: 0.4706 - val_accuracy: 0.7790\n",
      "\n",
      "Epoch 00003: val_loss did not improve from 0.46647\n",
      "Epoch 4/100\n",
      "298/298 [==============================] - 3s 9ms/step - loss: 0.4517 - accuracy: 0.7897 - val_loss: 0.4484 - val_accuracy: 0.7875\n",
      "\n",
      "Epoch 00004: val_loss improved from 0.46647 to 0.44835, saving model to ./model_checkpoint/lstm1.h5\n",
      "Epoch 5/100\n",
      "298/298 [==============================] - 2s 8ms/step - loss: 0.4486 - accuracy: 0.7903 - val_loss: 0.4605 - val_accuracy: 0.7738\n",
      "\n",
      "Epoch 00005: val_loss did not improve from 0.44835\n",
      "Epoch 6/100\n",
      "298/298 [==============================] - 2s 8ms/step - loss: 0.4433 - accuracy: 0.7940 - val_loss: 0.4395 - val_accuracy: 0.7976\n",
      "\n",
      "Epoch 00006: val_loss improved from 0.44835 to 0.43951, saving model to ./model_checkpoint/lstm1.h5\n",
      "Epoch 7/100\n",
      "298/298 [==============================] - 2s 8ms/step - loss: 0.4421 - accuracy: 0.7954 - val_loss: 0.4448 - val_accuracy: 0.7913\n",
      "\n",
      "Epoch 00007: val_loss did not improve from 0.43951\n",
      "Epoch 8/100\n",
      "298/298 [==============================] - 3s 9ms/step - loss: 0.4414 - accuracy: 0.7943 - val_loss: 0.4577 - val_accuracy: 0.7842\n",
      "\n",
      "Epoch 00008: val_loss did not improve from 0.43951\n",
      "Epoch 9/100\n",
      "298/298 [==============================] - 2s 8ms/step - loss: 0.4404 - accuracy: 0.7955 - val_loss: 0.4387 - val_accuracy: 0.7930\n",
      "\n",
      "Epoch 00009: val_loss improved from 0.43951 to 0.43875, saving model to ./model_checkpoint/lstm1.h5\n",
      "Epoch 10/100\n",
      "298/298 [==============================] - 3s 9ms/step - loss: 0.4399 - accuracy: 0.7951 - val_loss: 0.4415 - val_accuracy: 0.7910\n",
      "\n",
      "Epoch 00010: val_loss did not improve from 0.43875\n",
      "Epoch 11/100\n",
      "298/298 [==============================] - 2s 8ms/step - loss: 0.4424 - accuracy: 0.7924 - val_loss: 0.4381 - val_accuracy: 0.7922\n",
      "\n",
      "Epoch 00011: val_loss improved from 0.43875 to 0.43806, saving model to ./model_checkpoint/lstm1.h5\n",
      "Epoch 12/100\n",
      "298/298 [==============================] - 3s 10ms/step - loss: 0.4391 - accuracy: 0.7962 - val_loss: 0.4364 - val_accuracy: 0.7984\n",
      "\n",
      "Epoch 00012: val_loss improved from 0.43806 to 0.43636, saving model to ./model_checkpoint/lstm1.h5\n",
      "Epoch 13/100\n",
      "298/298 [==============================] - 3s 9ms/step - loss: 0.4383 - accuracy: 0.7943 - val_loss: 0.4367 - val_accuracy: 0.7941\n",
      "\n",
      "Epoch 00013: val_loss did not improve from 0.43636\n",
      "Epoch 14/100\n",
      "298/298 [==============================] - 3s 10ms/step - loss: 0.4388 - accuracy: 0.7957 - val_loss: 0.4347 - val_accuracy: 0.7986\n",
      "\n",
      "Epoch 00014: val_loss improved from 0.43636 to 0.43469, saving model to ./model_checkpoint/lstm1.h5\n",
      "Epoch 15/100\n",
      "298/298 [==============================] - 2s 8ms/step - loss: 0.4359 - accuracy: 0.7959 - val_loss: 0.4672 - val_accuracy: 0.7709\n",
      "\n",
      "Epoch 00015: val_loss did not improve from 0.43469\n",
      "Epoch 16/100\n",
      "298/298 [==============================] - 3s 9ms/step - loss: 0.4393 - accuracy: 0.7933 - val_loss: 0.4369 - val_accuracy: 0.7937\n",
      "\n",
      "Epoch 00016: val_loss did not improve from 0.43469\n",
      "Epoch 17/100\n",
      "298/298 [==============================] - 2s 8ms/step - loss: 0.4355 - accuracy: 0.7985 - val_loss: 0.4361 - val_accuracy: 0.7964\n",
      "\n",
      "Epoch 00017: val_loss did not improve from 0.43469\n",
      "Epoch 18/100\n",
      "298/298 [==============================] - 3s 9ms/step - loss: 0.4354 - accuracy: 0.7970 - val_loss: 0.4362 - val_accuracy: 0.7943\n",
      "\n",
      "Epoch 00018: val_loss did not improve from 0.43469\n",
      "Epoch 19/100\n",
      "298/298 [==============================] - 2s 8ms/step - loss: 0.4359 - accuracy: 0.7961 - val_loss: 0.4327 - val_accuracy: 0.8010\n",
      "\n",
      "Epoch 00019: val_loss improved from 0.43469 to 0.43272, saving model to ./model_checkpoint/lstm1.h5\n",
      "Epoch 20/100\n",
      "298/298 [==============================] - 3s 9ms/step - loss: 0.4349 - accuracy: 0.7961 - val_loss: 0.4325 - val_accuracy: 0.7987\n",
      "\n",
      "Epoch 00020: val_loss improved from 0.43272 to 0.43252, saving model to ./model_checkpoint/lstm1.h5\n",
      "Epoch 21/100\n",
      "298/298 [==============================] - 3s 8ms/step - loss: 0.4353 - accuracy: 0.7966 - val_loss: 0.4318 - val_accuracy: 0.8006\n",
      "\n",
      "Epoch 00021: val_loss improved from 0.43252 to 0.43177, saving model to ./model_checkpoint/lstm1.h5\n",
      "Epoch 22/100\n",
      "298/298 [==============================] - 2s 8ms/step - loss: 0.4348 - accuracy: 0.7960 - val_loss: 0.4416 - val_accuracy: 0.7883\n",
      "\n",
      "Epoch 00022: val_loss did not improve from 0.43177\n",
      "Epoch 23/100\n",
      "298/298 [==============================] - 2s 8ms/step - loss: 0.4341 - accuracy: 0.7967 - val_loss: 0.4390 - val_accuracy: 0.7951\n",
      "\n",
      "Epoch 00023: val_loss did not improve from 0.43177\n",
      "Epoch 24/100\n",
      "298/298 [==============================] - 2s 8ms/step - loss: 0.4342 - accuracy: 0.7962 - val_loss: 0.4365 - val_accuracy: 0.7968\n",
      "\n",
      "Epoch 00024: val_loss did not improve from 0.43177\n",
      "Epoch 25/100\n",
      "298/298 [==============================] - 3s 9ms/step - loss: 0.4340 - accuracy: 0.7963 - val_loss: 0.4645 - val_accuracy: 0.7826\n",
      "\n",
      "Epoch 00025: val_loss did not improve from 0.43177\n",
      "Epoch 26/100\n",
      "298/298 [==============================] - 3s 9ms/step - loss: 0.4348 - accuracy: 0.7969 - val_loss: 0.4341 - val_accuracy: 0.7992\n",
      "\n",
      "Epoch 00026: val_loss did not improve from 0.43177\n",
      "\n",
      "Epoch 00026: ReduceLROnPlateau reducing learning rate to 0.00010000000474974513.\n",
      "Epoch 27/100\n",
      "298/298 [==============================] - 3s 10ms/step - loss: 0.4288 - accuracy: 0.7998 - val_loss: 0.4308 - val_accuracy: 0.8012\n",
      "\n",
      "Epoch 00027: val_loss improved from 0.43177 to 0.43084, saving model to ./model_checkpoint/lstm1.h5\n",
      "Epoch 28/100\n",
      "298/298 [==============================] - 2s 8ms/step - loss: 0.4281 - accuracy: 0.8013 - val_loss: 0.4311 - val_accuracy: 0.7993\n",
      "\n",
      "Epoch 00028: val_loss did not improve from 0.43084\n",
      "Epoch 29/100\n",
      "298/298 [==============================] - 3s 9ms/step - loss: 0.4283 - accuracy: 0.7997 - val_loss: 0.4307 - val_accuracy: 0.8006\n",
      "\n",
      "Epoch 00029: val_loss improved from 0.43084 to 0.43066, saving model to ./model_checkpoint/lstm1.h5\n",
      "Epoch 30/100\n",
      "298/298 [==============================] - 2s 8ms/step - loss: 0.4278 - accuracy: 0.7997 - val_loss: 0.4322 - val_accuracy: 0.7970\n",
      "\n",
      "Epoch 00030: val_loss did not improve from 0.43066\n",
      "Epoch 31/100\n",
      "298/298 [==============================] - 2s 8ms/step - loss: 0.4280 - accuracy: 0.8005 - val_loss: 0.4313 - val_accuracy: 0.7987\n",
      "\n",
      "Epoch 00031: val_loss did not improve from 0.43066\n",
      "Epoch 32/100\n",
      "298/298 [==============================] - 2s 8ms/step - loss: 0.4280 - accuracy: 0.8007 - val_loss: 0.4306 - val_accuracy: 0.8014\n",
      "\n",
      "Epoch 00032: val_loss improved from 0.43066 to 0.43057, saving model to ./model_checkpoint/lstm1.h5\n",
      "Epoch 33/100\n",
      "298/298 [==============================] - 3s 10ms/step - loss: 0.4281 - accuracy: 0.8001 - val_loss: 0.4324 - val_accuracy: 0.7959\n",
      "\n",
      "Epoch 00033: val_loss did not improve from 0.43057\n",
      "Epoch 34/100\n",
      "298/298 [==============================] - 2s 8ms/step - loss: 0.4278 - accuracy: 0.8021 - val_loss: 0.4308 - val_accuracy: 0.8022\n",
      "\n",
      "Epoch 00034: val_loss did not improve from 0.43057\n",
      "\n",
      "Epoch 00034: ReduceLROnPlateau reducing learning rate to 1.0000000474974514e-05.\n",
      "Epoch 35/100\n",
      "298/298 [==============================] - 2s 8ms/step - loss: 0.4273 - accuracy: 0.8012 - val_loss: 0.4307 - val_accuracy: 0.8000\n",
      "\n",
      "Epoch 00035: val_loss did not improve from 0.43057\n",
      "Epoch 36/100\n",
      "298/298 [==============================] - 2s 8ms/step - loss: 0.4273 - accuracy: 0.8016 - val_loss: 0.4305 - val_accuracy: 0.8000\n",
      "\n",
      "Epoch 00036: val_loss improved from 0.43057 to 0.43054, saving model to ./model_checkpoint/lstm1.h5\n",
      "Epoch 37/100\n",
      "298/298 [==============================] - 3s 9ms/step - loss: 0.4273 - accuracy: 0.8011 - val_loss: 0.4306 - val_accuracy: 0.8008\n",
      "\n",
      "Epoch 00037: val_loss did not improve from 0.43054\n",
      "Epoch 38/100\n",
      "298/298 [==============================] - 2s 8ms/step - loss: 0.4272 - accuracy: 0.8012 - val_loss: 0.4305 - val_accuracy: 0.8007\n",
      "\n",
      "Epoch 00038: val_loss improved from 0.43054 to 0.43050, saving model to ./model_checkpoint/lstm1.h5\n",
      "Epoch 39/100\n",
      "298/298 [==============================] - 3s 10ms/step - loss: 0.4272 - accuracy: 0.8013 - val_loss: 0.4310 - val_accuracy: 0.8001\n",
      "\n",
      "Epoch 00039: val_loss did not improve from 0.43050\n",
      "Epoch 40/100\n",
      "298/298 [==============================] - 2s 8ms/step - loss: 0.4273 - accuracy: 0.8012 - val_loss: 0.4305 - val_accuracy: 0.8008\n",
      "\n",
      "Epoch 00040: val_loss did not improve from 0.43050\n",
      "Epoch 41/100\n",
      "298/298 [==============================] - 3s 9ms/step - loss: 0.4272 - accuracy: 0.8019 - val_loss: 0.4306 - val_accuracy: 0.8010\n",
      "\n",
      "Epoch 00041: val_loss did not improve from 0.43050\n",
      "\n",
      "Epoch 00041: ReduceLROnPlateau reducing learning rate to 1.0000000656873453e-06.\n",
      "Epoch 42/100\n",
      "298/298 [==============================] - 3s 8ms/step - loss: 0.4272 - accuracy: 0.8013 - val_loss: 0.4306 - val_accuracy: 0.8008\n",
      "\n",
      "Epoch 00042: val_loss did not improve from 0.43050\n",
      "Epoch 43/100\n",
      "298/298 [==============================] - 2s 8ms/step - loss: 0.4272 - accuracy: 0.8015 - val_loss: 0.4305 - val_accuracy: 0.8005\n",
      "\n",
      "Epoch 00043: val_loss did not improve from 0.43050\n",
      "Epoch 44/100\n",
      "298/298 [==============================] - 2s 8ms/step - loss: 0.4272 - accuracy: 0.8013 - val_loss: 0.4305 - val_accuracy: 0.8005\n",
      "\n",
      "Epoch 00044: val_loss did not improve from 0.43050\n",
      "Epoch 45/100\n",
      "298/298 [==============================] - 3s 9ms/step - loss: 0.4272 - accuracy: 0.8014 - val_loss: 0.4305 - val_accuracy: 0.8006\n",
      "\n",
      "Epoch 00045: val_loss did not improve from 0.43050\n",
      "Epoch 46/100\n",
      "298/298 [==============================] - 3s 9ms/step - loss: 0.4272 - accuracy: 0.8015 - val_loss: 0.4305 - val_accuracy: 0.8005\n",
      "\n",
      "Epoch 00046: val_loss did not improve from 0.43050\n",
      "\n",
      "Epoch 00046: ReduceLROnPlateau reducing learning rate to 1.0000001111620805e-07.\n",
      "Epoch 47/100\n",
      "298/298 [==============================] - 2s 8ms/step - loss: 0.4272 - accuracy: 0.8013 - val_loss: 0.4305 - val_accuracy: 0.8005\n",
      "\n",
      "Epoch 00047: val_loss did not improve from 0.43050\n",
      "Epoch 48/100\n",
      "298/298 [==============================] - 3s 9ms/step - loss: 0.4272 - accuracy: 0.8014 - val_loss: 0.4305 - val_accuracy: 0.8005\n",
      "\n",
      "Epoch 00048: val_loss did not improve from 0.43050\n",
      "Epoch 49/100\n",
      "298/298 [==============================] - 2s 8ms/step - loss: 0.4272 - accuracy: 0.8014 - val_loss: 0.4305 - val_accuracy: 0.8005\n",
      "\n",
      "Epoch 00049: val_loss did not improve from 0.43050\n",
      "Epoch 50/100\n",
      "298/298 [==============================] - 3s 9ms/step - loss: 0.4272 - accuracy: 0.8014 - val_loss: 0.4305 - val_accuracy: 0.8005\n",
      "\n",
      "Epoch 00050: val_loss did not improve from 0.43050\n",
      "Epoch 51/100\n",
      "298/298 [==============================] - 2s 8ms/step - loss: 0.4272 - accuracy: 0.8013 - val_loss: 0.4305 - val_accuracy: 0.8005\n",
      "\n",
      "Epoch 00051: val_loss did not improve from 0.43050\n",
      "\n",
      "Epoch 00051: ReduceLROnPlateau reducing learning rate to 1.000000082740371e-08.\n",
      "Epoch 52/100\n",
      "298/298 [==============================] - 3s 10ms/step - loss: 0.4272 - accuracy: 0.8013 - val_loss: 0.4305 - val_accuracy: 0.8005\n",
      "\n",
      "Epoch 00052: val_loss did not improve from 0.43050\n",
      "Epoch 53/100\n",
      "298/298 [==============================] - 2s 8ms/step - loss: 0.4272 - accuracy: 0.8013 - val_loss: 0.4305 - val_accuracy: 0.8005\n",
      "\n",
      "Epoch 00053: val_loss did not improve from 0.43050\n",
      "Epoch 54/100\n",
      "298/298 [==============================] - 3s 10ms/step - loss: 0.4272 - accuracy: 0.8013 - val_loss: 0.4305 - val_accuracy: 0.8005\n",
      "\n",
      "Epoch 00054: val_loss did not improve from 0.43050\n",
      "Epoch 55/100\n",
      "298/298 [==============================] - 3s 8ms/step - loss: 0.4272 - accuracy: 0.8013 - val_loss: 0.4305 - val_accuracy: 0.8005\n",
      "\n",
      "Epoch 00055: val_loss did not improve from 0.43050\n",
      "Epoch 56/100\n",
      "298/298 [==============================] - 2s 8ms/step - loss: 0.4272 - accuracy: 0.8014 - val_loss: 0.4305 - val_accuracy: 0.8005\n",
      "\n",
      "Epoch 00056: val_loss did not improve from 0.43050\n",
      "\n",
      "Epoch 00056: ReduceLROnPlateau reducing learning rate to 1.000000082740371e-09.\n",
      "Epoch 57/100\n",
      "298/298 [==============================] - 3s 9ms/step - loss: 0.4272 - accuracy: 0.8013 - val_loss: 0.4305 - val_accuracy: 0.8005\n",
      "\n",
      "Epoch 00057: val_loss did not improve from 0.43050\n",
      "Epoch 58/100\n",
      "298/298 [==============================] - 3s 9ms/step - loss: 0.4272 - accuracy: 0.8014 - val_loss: 0.4305 - val_accuracy: 0.8005\n",
      "\n",
      "Epoch 00058: val_loss did not improve from 0.43050\n",
      "Epoch 59/100\n",
      "298/298 [==============================] - 2s 8ms/step - loss: 0.4272 - accuracy: 0.8013 - val_loss: 0.4305 - val_accuracy: 0.8005\n",
      "\n",
      "Epoch 00059: val_loss did not improve from 0.43050\n",
      "Epoch 60/100\n",
      "298/298 [==============================] - 2s 8ms/step - loss: 0.4272 - accuracy: 0.8013 - val_loss: 0.4305 - val_accuracy: 0.8005\n",
      "\n",
      "Epoch 00060: val_loss did not improve from 0.43050\n",
      "Epoch 61/100\n",
      "298/298 [==============================] - 3s 9ms/step - loss: 0.4272 - accuracy: 0.8014 - val_loss: 0.4305 - val_accuracy: 0.8005\n",
      "\n",
      "Epoch 00061: val_loss did not improve from 0.43050\n",
      "\n",
      "Epoch 00061: ReduceLROnPlateau reducing learning rate to 1.000000082740371e-10.\n",
      "Epoch 62/100\n",
      "298/298 [==============================] - 2s 8ms/step - loss: 0.4272 - accuracy: 0.8013 - val_loss: 0.4305 - val_accuracy: 0.8005\n",
      "\n",
      "Epoch 00062: val_loss did not improve from 0.43050\n",
      "Epoch 63/100\n",
      "298/298 [==============================] - 3s 9ms/step - loss: 0.4272 - accuracy: 0.8013 - val_loss: 0.4305 - val_accuracy: 0.8005\n",
      "\n",
      "Epoch 00063: val_loss did not improve from 0.43050\n",
      "Epoch 64/100\n",
      "298/298 [==============================] - 2s 8ms/step - loss: 0.4272 - accuracy: 0.8013 - val_loss: 0.4305 - val_accuracy: 0.8005\n",
      "\n",
      "Epoch 00064: val_loss did not improve from 0.43050\n",
      "Epoch 65/100\n",
      "298/298 [==============================] - 3s 10ms/step - loss: 0.4272 - accuracy: 0.8013 - val_loss: 0.4305 - val_accuracy: 0.8005\n",
      "\n",
      "Epoch 00065: val_loss did not improve from 0.43050\n",
      "Epoch 66/100\n",
      "298/298 [==============================] - 2s 8ms/step - loss: 0.4272 - accuracy: 0.8013 - val_loss: 0.4305 - val_accuracy: 0.8005\n",
      "\n",
      "Epoch 00066: val_loss did not improve from 0.43050\n",
      "\n",
      "Epoch 00066: ReduceLROnPlateau reducing learning rate to 1.000000082740371e-11.\n",
      "Epoch 67/100\n",
      "298/298 [==============================] - 3s 9ms/step - loss: 0.4272 - accuracy: 0.8013 - val_loss: 0.4305 - val_accuracy: 0.8005\n",
      "\n",
      "Epoch 00067: val_loss did not improve from 0.43050\n",
      "Epoch 68/100\n",
      "298/298 [==============================] - 3s 9ms/step - loss: 0.4272 - accuracy: 0.8013 - val_loss: 0.4305 - val_accuracy: 0.8005\n",
      "\n",
      "Epoch 00068: val_loss did not improve from 0.43050\n",
      "Epoch 69/100\n",
      "298/298 [==============================] - 2s 8ms/step - loss: 0.4272 - accuracy: 0.8013 - val_loss: 0.4305 - val_accuracy: 0.8005\n",
      "\n",
      "Epoch 00069: val_loss did not improve from 0.43050\n",
      "Epoch 70/100\n",
      "298/298 [==============================] - 2s 8ms/step - loss: 0.4272 - accuracy: 0.8013 - val_loss: 0.4305 - val_accuracy: 0.8005\n",
      "\n",
      "Epoch 00070: val_loss did not improve from 0.43050\n",
      "Epoch 71/100\n",
      "298/298 [==============================] - 3s 9ms/step - loss: 0.4272 - accuracy: 0.8013 - val_loss: 0.4305 - val_accuracy: 0.8005\n",
      "\n",
      "Epoch 00071: val_loss did not improve from 0.43050\n",
      "\n",
      "Epoch 00071: ReduceLROnPlateau reducing learning rate to 1.000000082740371e-12.\n",
      "Epoch 72/100\n",
      "298/298 [==============================] - 2s 8ms/step - loss: 0.4272 - accuracy: 0.8013 - val_loss: 0.4305 - val_accuracy: 0.8005\n",
      "\n",
      "Epoch 00072: val_loss did not improve from 0.43050\n",
      "Epoch 73/100\n",
      "298/298 [==============================] - 2s 8ms/step - loss: 0.4272 - accuracy: 0.8013 - val_loss: 0.4305 - val_accuracy: 0.8005\n",
      "\n",
      "Epoch 00073: val_loss did not improve from 0.43050\n",
      "Epoch 74/100\n",
      "298/298 [==============================] - 2s 8ms/step - loss: 0.4272 - accuracy: 0.8013 - val_loss: 0.4305 - val_accuracy: 0.8005\n",
      "\n",
      "Epoch 00074: val_loss did not improve from 0.43050\n",
      "Epoch 75/100\n",
      "298/298 [==============================] - 3s 9ms/step - loss: 0.4272 - accuracy: 0.8013 - val_loss: 0.4305 - val_accuracy: 0.8005\n",
      "\n",
      "Epoch 00075: val_loss did not improve from 0.43050\n",
      "Epoch 76/100\n",
      "298/298 [==============================] - 2s 8ms/step - loss: 0.4272 - accuracy: 0.8013 - val_loss: 0.4305 - val_accuracy: 0.8005\n",
      "\n",
      "Epoch 00076: val_loss did not improve from 0.43050\n",
      "\n",
      "Epoch 00076: ReduceLROnPlateau reducing learning rate to 1.0000001044244145e-13.\n",
      "Epoch 77/100\n",
      "298/298 [==============================] - 2s 8ms/step - loss: 0.4272 - accuracy: 0.8013 - val_loss: 0.4305 - val_accuracy: 0.8005\n",
      "\n",
      "Epoch 00077: val_loss did not improve from 0.43050\n",
      "Epoch 78/100\n",
      "298/298 [==============================] - 3s 9ms/step - loss: 0.4272 - accuracy: 0.8013 - val_loss: 0.4305 - val_accuracy: 0.8005\n",
      "\n",
      "Epoch 00078: val_loss did not improve from 0.43050\n",
      "Epoch 79/100\n",
      "298/298 [==============================] - 3s 10ms/step - loss: 0.4272 - accuracy: 0.8013 - val_loss: 0.4305 - val_accuracy: 0.8005\n",
      "\n",
      "Epoch 00079: val_loss did not improve from 0.43050\n",
      "Epoch 80/100\n",
      "298/298 [==============================] - 3s 9ms/step - loss: 0.4272 - accuracy: 0.8013 - val_loss: 0.4305 - val_accuracy: 0.8005\n",
      "\n",
      "Epoch 00080: val_loss did not improve from 0.43050\n",
      "Epoch 81/100\n",
      "298/298 [==============================] - 2s 8ms/step - loss: 0.4272 - accuracy: 0.8013 - val_loss: 0.4305 - val_accuracy: 0.8005\n",
      "\n",
      "Epoch 00081: val_loss did not improve from 0.43050\n",
      "\n",
      "Epoch 00081: ReduceLROnPlateau reducing learning rate to 1.0000001179769417e-14.\n",
      "Epoch 82/100\n",
      "298/298 [==============================] - 2s 8ms/step - loss: 0.4272 - accuracy: 0.8013 - val_loss: 0.4305 - val_accuracy: 0.8005\n",
      "\n",
      "Epoch 00082: val_loss did not improve from 0.43050\n",
      "Epoch 83/100\n",
      "298/298 [==============================] - 2s 8ms/step - loss: 0.4272 - accuracy: 0.8013 - val_loss: 0.4305 - val_accuracy: 0.8005\n",
      "\n",
      "Epoch 00083: val_loss did not improve from 0.43050\n",
      "Epoch 84/100\n",
      "298/298 [==============================] - 3s 9ms/step - loss: 0.4272 - accuracy: 0.8013 - val_loss: 0.4305 - val_accuracy: 0.8005\n",
      "\n",
      "Epoch 00084: val_loss did not improve from 0.43050\n",
      "Epoch 85/100\n",
      "298/298 [==============================] - 3s 9ms/step - loss: 0.4272 - accuracy: 0.8013 - val_loss: 0.4305 - val_accuracy: 0.8005\n",
      "\n",
      "Epoch 00085: val_loss did not improve from 0.43050\n",
      "Epoch 86/100\n",
      "298/298 [==============================] - 3s 8ms/step - loss: 0.4272 - accuracy: 0.8013 - val_loss: 0.4305 - val_accuracy: 0.8005\n",
      "\n",
      "Epoch 00086: val_loss did not improve from 0.43050\n",
      "\n",
      "Epoch 00086: ReduceLROnPlateau reducing learning rate to 1.0000001518582595e-15.\n",
      "Epoch 87/100\n",
      "298/298 [==============================] - 3s 8ms/step - loss: 0.4272 - accuracy: 0.8013 - val_loss: 0.4305 - val_accuracy: 0.8005\n",
      "\n",
      "Epoch 00087: val_loss did not improve from 0.43050\n",
      "Epoch 88/100\n",
      "298/298 [==============================] - 3s 9ms/step - loss: 0.4272 - accuracy: 0.8013 - val_loss: 0.4305 - val_accuracy: 0.8005\n",
      "\n",
      "Epoch 00088: val_loss did not improve from 0.43050\n",
      "Epoch 89/100\n",
      "298/298 [==============================] - 2s 8ms/step - loss: 0.4272 - accuracy: 0.8013 - val_loss: 0.4305 - val_accuracy: 0.8005\n",
      "\n",
      "Epoch 00089: val_loss did not improve from 0.43050\n",
      "Epoch 90/100\n",
      "298/298 [==============================] - 2s 8ms/step - loss: 0.4272 - accuracy: 0.8013 - val_loss: 0.4305 - val_accuracy: 0.8005\n",
      "\n",
      "Epoch 00090: val_loss did not improve from 0.43050\n",
      "Epoch 91/100\n",
      "298/298 [==============================] - 3s 10ms/step - loss: 0.4272 - accuracy: 0.8013 - val_loss: 0.4305 - val_accuracy: 0.8005\n",
      "\n",
      "Epoch 00091: val_loss did not improve from 0.43050\n",
      "\n",
      "Epoch 00091: ReduceLROnPlateau reducing learning rate to 1.0000001095066122e-16.\n",
      "Epoch 92/100\n",
      "298/298 [==============================] - 3s 10ms/step - loss: 0.4272 - accuracy: 0.8013 - val_loss: 0.4305 - val_accuracy: 0.8005\n",
      "\n",
      "Epoch 00092: val_loss did not improve from 0.43050\n",
      "Epoch 93/100\n",
      "298/298 [==============================] - 2s 8ms/step - loss: 0.4272 - accuracy: 0.8013 - val_loss: 0.4305 - val_accuracy: 0.8005\n",
      "\n",
      "Epoch 00093: val_loss did not improve from 0.43050\n",
      "Epoch 94/100\n",
      "298/298 [==============================] - 2s 8ms/step - loss: 0.4272 - accuracy: 0.8013 - val_loss: 0.4305 - val_accuracy: 0.8005\n",
      "\n",
      "Epoch 00094: val_loss did not improve from 0.43050\n",
      "Epoch 95/100\n",
      "298/298 [==============================] - 3s 8ms/step - loss: 0.4272 - accuracy: 0.8013 - val_loss: 0.4305 - val_accuracy: 0.8005\n",
      "\n",
      "Epoch 00095: val_loss did not improve from 0.43050\n",
      "Epoch 96/100\n",
      "298/298 [==============================] - 3s 9ms/step - loss: 0.4272 - accuracy: 0.8013 - val_loss: 0.4305 - val_accuracy: 0.8005\n",
      "\n",
      "Epoch 00096: val_loss did not improve from 0.43050\n",
      "\n",
      "Epoch 00096: ReduceLROnPlateau reducing learning rate to 1.0000000830368326e-17.\n",
      "Epoch 97/100\n",
      "298/298 [==============================] - 2s 8ms/step - loss: 0.4272 - accuracy: 0.8013 - val_loss: 0.4305 - val_accuracy: 0.8005\n",
      "\n",
      "Epoch 00097: val_loss did not improve from 0.43050\n",
      "Epoch 98/100\n",
      "298/298 [==============================] - 2s 8ms/step - loss: 0.4272 - accuracy: 0.8013 - val_loss: 0.4305 - val_accuracy: 0.8005\n",
      "\n",
      "Epoch 00098: val_loss did not improve from 0.43050\n",
      "Epoch 99/100\n",
      "298/298 [==============================] - 2s 8ms/step - loss: 0.4272 - accuracy: 0.8013 - val_loss: 0.4305 - val_accuracy: 0.8005\n",
      "\n",
      "Epoch 00099: val_loss did not improve from 0.43050\n",
      "Epoch 100/100\n",
      "298/298 [==============================] - 3s 9ms/step - loss: 0.4272 - accuracy: 0.8013 - val_loss: 0.4305 - val_accuracy: 0.8005\n",
      "\n",
      "Epoch 00100: val_loss did not improve from 0.43050\n"
     ]
    },
    {
     "data": {
      "text/plain": [
       "<keras.callbacks.History at 0x7f24c3f3a7d0>"
      ]
     },
     "execution_count": 26,
     "metadata": {},
     "output_type": "execute_result"
    }
   ],
   "source": [
    "lstm1.fit(X_train.reshape(X_train.shape[0], -1, 100), label_train, epochs=100, batch_size=100,\n",
    "        validation_data=(X_validation.reshape(X_validation.shape[0], -1, 100), label_validation), \n",
    "        callbacks=[checkpoint_lstm1, reduce_lr])"
   ]
  },
  {
   "cell_type": "code",
   "execution_count": 27,
   "id": "d7543f77",
   "metadata": {
    "execution": {
     "iopub.execute_input": "2022-06-10T13:39:15.140064Z",
     "iopub.status.busy": "2022-06-10T13:39:15.139619Z",
     "iopub.status.idle": "2022-06-10T13:39:15.144651Z",
     "shell.execute_reply": "2022-06-10T13:39:15.143505Z"
    },
    "papermill": {
     "duration": 0.330059,
     "end_time": "2022-06-10T13:39:15.146893",
     "exception": false,
     "start_time": "2022-06-10T13:39:14.816834",
     "status": "completed"
    },
    "tags": []
   },
   "outputs": [],
   "source": [
    "# # Retrieve the config\n",
    "# config = lstm1.get_config()\n",
    "\n",
    "# # At loading time, register the custom objects with a `custom_object_scope`:\n",
    "# custom_objects = {'seq_self_attention_1': self_attention}\n",
    "# with keras.utils.custom_object_scope(custom_objects):\n",
    "#     new_model = keras.Model.from_config(config)"
   ]
  },
  {
   "cell_type": "markdown",
   "id": "5ed46162",
   "metadata": {
    "papermill": {
     "duration": 0.358574,
     "end_time": "2022-06-10T13:39:15.824098",
     "exception": false,
     "start_time": "2022-06-10T13:39:15.465524",
     "status": "completed"
    },
    "tags": []
   },
   "source": [
    "# Bidirectional LSTM"
   ]
  },
  {
   "cell_type": "code",
   "execution_count": 28,
   "id": "714b996f",
   "metadata": {
    "execution": {
     "iopub.execute_input": "2022-06-10T13:39:16.466107Z",
     "iopub.status.busy": "2022-06-10T13:39:16.465712Z",
     "iopub.status.idle": "2022-06-10T13:39:17.490435Z",
     "shell.execute_reply": "2022-06-10T13:39:17.489349Z"
    },
    "papermill": {
     "duration": 1.351967,
     "end_time": "2022-06-10T13:39:17.493241",
     "exception": false,
     "start_time": "2022-06-10T13:39:16.141274",
     "status": "completed"
    },
    "tags": []
   },
   "outputs": [],
   "source": [
    "bi_lstm = Sequential()\n",
    "bi_lstm.add(Bidirectional(LSTM(10, return_sequences=True), input_shape=(1, EMBEDDING_DIM)))\n",
    "bi_lstm.add(Bidirectional(LSTM(10)))\n",
    "bi_lstm.add(Dense(1, activation='sigmoid'))"
   ]
  },
  {
   "cell_type": "code",
   "execution_count": 29,
   "id": "c14b08f9",
   "metadata": {
    "execution": {
     "iopub.execute_input": "2022-06-10T13:39:18.147491Z",
     "iopub.status.busy": "2022-06-10T13:39:18.147035Z",
     "iopub.status.idle": "2022-06-10T13:39:18.308010Z",
     "shell.execute_reply": "2022-06-10T13:39:18.306398Z"
    },
    "papermill": {
     "duration": 0.49582,
     "end_time": "2022-06-10T13:39:18.312462",
     "exception": false,
     "start_time": "2022-06-10T13:39:17.816642",
     "status": "completed"
    },
    "tags": []
   },
   "outputs": [
    {
     "name": "stdout",
     "output_type": "stream",
     "text": [
      "Model: \"sequential_3\"\n",
      "_________________________________________________________________\n",
      "Layer (type)                 Output Shape              Param #   \n",
      "=================================================================\n",
      "bidirectional (Bidirectional (None, 1, 20)             8880      \n",
      "_________________________________________________________________\n",
      "bidirectional_1 (Bidirection (None, 20)                2480      \n",
      "_________________________________________________________________\n",
      "dense_7 (Dense)              (None, 1)                 21        \n",
      "=================================================================\n",
      "Total params: 11,381\n",
      "Trainable params: 11,381\n",
      "Non-trainable params: 0\n",
      "_________________________________________________________________\n",
      "None\n"
     ]
    },
    {
     "data": {
      "image/png": "[encoded data removed]",
      "text/plain": [
       "<IPython.core.display.Image object>"
      ]
     },
     "execution_count": 29,
     "metadata": {},
     "output_type": "execute_result"
    }
   ],
   "source": [
    "print(bi_lstm.summary())\n",
    "checkpoint_bi_lstm = ModelCheckpoint('./model_checkpoint/bi_lstm.h5', save_best_only=True, verbose=1)\n",
    "bi_lstm.compile(optimizer='adam', loss='binary_crossentropy', metrics=['accuracy'])\n",
    "plot_model(bi_lstm, rankdir='LR', show_shapes=True)"
   ]
  },
  {
   "cell_type": "code",
   "execution_count": 30,
   "id": "b0935aa6",
   "metadata": {
    "execution": {
     "iopub.execute_input": "2022-06-10T13:39:19.017978Z",
     "iopub.status.busy": "2022-06-10T13:39:19.017566Z",
     "iopub.status.idle": "2022-06-10T13:39:19.022880Z",
     "shell.execute_reply": "2022-06-10T13:39:19.021755Z"
    },
    "papermill": {
     "duration": 0.336082,
     "end_time": "2022-06-10T13:39:19.025041",
     "exception": false,
     "start_time": "2022-06-10T13:39:18.688959",
     "status": "completed"
    },
    "tags": []
   },
   "outputs": [],
   "source": [
    "# bi_lstm.fit(X_train.reshape(X_train.shape[0], -1, 100), label_train, epochs=100, batch_size=100,\n",
    "#         validation_data=(X_validation.reshape(X_validation.shape[0], -1, 100), label_validation), \n",
    "#         callbacks=[checkpoint_bi_lstm, reduce_lr])"
   ]
  },
  {
   "cell_type": "markdown",
   "id": "1b2443c7",
   "metadata": {
    "papermill": {
     "duration": 0.318545,
     "end_time": "2022-06-10T13:39:19.665957",
     "exception": false,
     "start_time": "2022-06-10T13:39:19.347412",
     "status": "completed"
    },
    "tags": []
   },
   "source": [
    "# CNN"
   ]
  },
  {
   "cell_type": "code",
   "execution_count": 31,
   "id": "9f598c24",
   "metadata": {
    "execution": {
     "iopub.execute_input": "2022-06-10T13:39:20.317989Z",
     "iopub.status.busy": "2022-06-10T13:39:20.317611Z",
     "iopub.status.idle": "2022-06-10T13:39:20.396238Z",
     "shell.execute_reply": "2022-06-10T13:39:20.395066Z"
    },
    "papermill": {
     "duration": 0.399516,
     "end_time": "2022-06-10T13:39:20.398937",
     "exception": false,
     "start_time": "2022-06-10T13:39:19.999421",
     "status": "completed"
    },
    "tags": []
   },
   "outputs": [],
   "source": [
    "'''Initializing the Convolutional Neural Network'''\n",
    "cnn = Sequential()\n",
    "cnn.add(Convolution1D(64, kernel_size=5, input_shape=(EMBEDDING_DIM, 1), activation='relu'))\n",
    "cnn.add(MaxPool1D(pool_size=2))\n",
    "cnn.add(Convolution1D(32, kernel_size=5, activation='relu'))\n",
    "cnn.add(MaxPool1D(pool_size=2))\n",
    "cnn.add(Flatten())\n",
    "cnn.add(Dense(32, activation='relu'))\n",
    "cnn.add(Dense(1, activation='sigmoid'))"
   ]
  },
  {
   "cell_type": "code",
   "execution_count": 32,
   "id": "b5445f32",
   "metadata": {
    "execution": {
     "iopub.execute_input": "2022-06-10T13:39:21.347032Z",
     "iopub.status.busy": "2022-06-10T13:39:21.346349Z",
     "iopub.status.idle": "2022-06-10T13:39:21.569606Z",
     "shell.execute_reply": "2022-06-10T13:39:21.568400Z"
    },
    "papermill": {
     "duration": 0.811284,
     "end_time": "2022-06-10T13:39:21.571951",
     "exception": false,
     "start_time": "2022-06-10T13:39:20.760667",
     "status": "completed"
    },
    "tags": []
   },
   "outputs": [
    {
     "name": "stdout",
     "output_type": "stream",
     "text": [
      "Model: \"sequential_4\"\n",
      "_________________________________________________________________\n",
      "Layer (type)                 Output Shape              Param #   \n",
      "=================================================================\n",
      "conv1d (Conv1D)              (None, 96, 64)            384       \n",
      "_________________________________________________________________\n",
      "max_pooling1d (MaxPooling1D) (None, 48, 64)            0         \n",
      "_________________________________________________________________\n",
      "conv1d_1 (Conv1D)            (None, 44, 32)            10272     \n",
      "_________________________________________________________________\n",
      "max_pooling1d_1 (MaxPooling1 (None, 22, 32)            0         \n",
      "_________________________________________________________________\n",
      "flatten (Flatten)            (None, 704)               0         \n",
      "_________________________________________________________________\n",
      "dense_8 (Dense)              (None, 32)                22560     \n",
      "_________________________________________________________________\n",
      "dense_9 (Dense)              (None, 1)                 33        \n",
      "=================================================================\n",
      "Total params: 33,249\n",
      "Trainable params: 33,249\n",
      "Non-trainable params: 0\n",
      "_________________________________________________________________\n",
      "None\n"
     ]
    },
    {
     "data": {
      "image/png": "[encoded data removed]",
      "text/plain": [
       "<IPython.core.display.Image object>"
      ]
     },
     "execution_count": 32,
     "metadata": {},
     "output_type": "execute_result"
    }
   ],
   "source": [
    "print(cnn.summary())\n",
    "checkpoint_cnn = ModelCheckpoint('./model_checkpoint/cnn.h5', save_best_only=True, verbose=1)\n",
    "cnn.compile(optimizer='adam', loss='binary_crossentropy', metrics=['accuracy'])\n",
    "plot_model(cnn, rankdir='LR', show_shapes=True)"
   ]
  },
  {
   "cell_type": "code",
   "execution_count": 33,
   "id": "dcb3872c",
   "metadata": {
    "execution": {
     "iopub.execute_input": "2022-06-10T13:39:22.222173Z",
     "iopub.status.busy": "2022-06-10T13:39:22.221729Z",
     "iopub.status.idle": "2022-06-10T13:39:22.226388Z",
     "shell.execute_reply": "2022-06-10T13:39:22.225334Z"
    },
    "papermill": {
     "duration": 0.332968,
     "end_time": "2022-06-10T13:39:22.228936",
     "exception": false,
     "start_time": "2022-06-10T13:39:21.895968",
     "status": "completed"
    },
    "tags": []
   },
   "outputs": [],
   "source": [
    "# cnn.fit(X_train.reshape(X_train.shape[0], 100, -1), label_train, epochs=100, batch_size=100,\n",
    "#         validation_data=(X_validation.reshape(X_validation.shape[0], 100, -1), label_validation), \n",
    "#         callbacks=[checkpoint_cnn, reduce_lr])"
   ]
  },
  {
   "cell_type": "markdown",
   "id": "9864e324",
   "metadata": {
    "papermill": {
     "duration": 0.329159,
     "end_time": "2022-06-10T13:39:22.880004",
     "exception": false,
     "start_time": "2022-06-10T13:39:22.550845",
     "status": "completed"
    },
    "tags": []
   },
   "source": [
    "# 7 - Đánh giá với 3 độ đo Accuracy, Confusion Matrix và F1-score và lưu kết quả ra 1 file"
   ]
  },
  {
   "cell_type": "markdown",
   "id": "ef1f5e57",
   "metadata": {
    "papermill": {
     "duration": 0.352243,
     "end_time": "2022-06-10T13:39:23.556174",
     "exception": false,
     "start_time": "2022-06-10T13:39:23.203931",
     "status": "completed"
    },
    "tags": []
   },
   "source": [
    "# 8 - Với mô hình học sâu có kết quả cao nhất ở trên, sử dụng điểm Checkpoint để lưu kết quả huấn luyện với epoch cho kết quả cao nhất"
   ]
  },
  {
   "cell_type": "code",
   "execution_count": 34,
   "id": "eb0c9b99",
   "metadata": {
    "execution": {
     "iopub.execute_input": "2022-06-10T13:39:24.194568Z",
     "iopub.status.busy": "2022-06-10T13:39:24.194113Z",
     "iopub.status.idle": "2022-06-10T13:39:24.199347Z",
     "shell.execute_reply": "2022-06-10T13:39:24.198248Z"
    },
    "id": "82pOAjEXjAYa",
    "outputId": "96424c37-468e-4fa3-9dde-34547218ddfa",
    "papermill": {
     "duration": 0.329569,
     "end_time": "2022-06-10T13:39:24.201655",
     "exception": false,
     "start_time": "2022-06-10T13:39:23.872086",
     "status": "completed"
    },
    "tags": []
   },
   "outputs": [],
   "source": [
    "# # load model with best saved checkpoint\n",
    "# mlp = load_model('./model_checkpoint/mlp.h5')\n",
    "# rnn = load_model('./model_checkpoint/rnn.h5')\n",
    "# lstm = load_model('./model_checkpoint/lstm.h5')\n",
    "# lstm1 = load_model('./model_checkpoint/lstm1.h5')\n",
    "# bi_lstm = load_model('./model_checkpoint/bi_lstm.h5')\n",
    "# cnn = load_model('./model_checkpoint/cnn.h5')"
   ]
  },
  {
   "cell_type": "code",
   "execution_count": 35,
   "id": "339beff5",
   "metadata": {
    "execution": {
     "iopub.execute_input": "2022-06-10T13:39:24.856803Z",
     "iopub.status.busy": "2022-06-10T13:39:24.856353Z",
     "iopub.status.idle": "2022-06-10T13:39:24.862579Z",
     "shell.execute_reply": "2022-06-10T13:39:24.861534Z"
    },
    "papermill": {
     "duration": 0.327916,
     "end_time": "2022-06-10T13:39:24.864973",
     "exception": false,
     "start_time": "2022-06-10T13:39:24.537057",
     "status": "completed"
    },
    "tags": []
   },
   "outputs": [],
   "source": [
    "def convert_pred(pred):\n",
    "    out = []\n",
    "    for p in pred.flatten():\n",
    "        if p >= 0.5:\n",
    "            out.append(1)\n",
    "        else:\n",
    "            out.append(0)\n",
    "    return out "
   ]
  },
  {
   "cell_type": "code",
   "execution_count": 36,
   "id": "e87a268c",
   "metadata": {
    "execution": {
     "iopub.execute_input": "2022-06-10T13:39:25.576185Z",
     "iopub.status.busy": "2022-06-10T13:39:25.575779Z",
     "iopub.status.idle": "2022-06-10T13:39:25.583490Z",
     "shell.execute_reply": "2022-06-10T13:39:25.582358Z"
    },
    "papermill": {
     "duration": 0.356344,
     "end_time": "2022-06-10T13:39:25.585726",
     "exception": false,
     "start_time": "2022-06-10T13:39:25.229382",
     "status": "completed"
    },
    "tags": []
   },
   "outputs": [],
   "source": [
    "def evaluate(model, X_test):\n",
    "    pred = convert_pred(model.predict(X_test))\n",
    "    print('Accuracy:', accuracy_score(label_test, pred))\n",
    "    print('F1-scrore:', f1_score(label_test, pred))\n",
    "    cm = confusion_matrix(label_test, pred, labels=list(index2class.keys()))\n",
    "    cm_disp = ConfusionMatrixDisplay(confusion_matrix=cm,\n",
    "                                  display_labels=list(index2class.keys()))\n",
    "    cm_disp.plot()\n",
    "    plt.show()"
   ]
  },
  {
   "cell_type": "code",
   "execution_count": 37,
   "id": "c79190ff",
   "metadata": {
    "execution": {
     "iopub.execute_input": "2022-06-10T13:39:26.222094Z",
     "iopub.status.busy": "2022-06-10T13:39:26.221620Z",
     "iopub.status.idle": "2022-06-10T13:39:30.765428Z",
     "shell.execute_reply": "2022-06-10T13:39:30.764328Z"
    },
    "papermill": {
     "duration": 4.866539,
     "end_time": "2022-06-10T13:39:30.767878",
     "exception": false,
     "start_time": "2022-06-10T13:39:25.901339",
     "status": "completed"
    },
    "tags": []
   },
   "outputs": [
    {
     "name": "stdout",
     "output_type": "stream",
     "text": [
      "LSTM\n",
      "Accuracy: 0.776108870967742\n",
      "F1-scrore: 0.7580873543187016\n"
     ]
    },
    {
     "data": {
      "image/png": "[encoded data removed]",
      "text/plain": [
       "<Figure size 432x288 with 2 Axes>"
      ]
     },
     "metadata": {
      "needs_background": "light"
     },
     "output_type": "display_data"
    },
    {
     "name": "stdout",
     "output_type": "stream",
     "text": [
      "LSTM with Attention\n",
      "Accuracy: 0.8015120967741935\n",
      "F1-scrore: 0.802962073451416\n"
     ]
    },
    {
     "data": {
      "image/png": "[encoded data removed]",
      "text/plain": [
       "<Figure size 432x288 with 2 Axes>"
      ]
     },
     "metadata": {
      "needs_background": "light"
     },
     "output_type": "display_data"
    }
   ],
   "source": [
    "# print('MLP')\n",
    "# evaluate(mlp, X_test)\n",
    "# print('RNN')\n",
    "# evaluate(rnn, X_test.reshape(X_test.shape[0], -1, 100))\n",
    "print('LSTM')\n",
    "evaluate(lstm, X_test.reshape(X_test.shape[0], -1, 100))\n",
    "print('LSTM with Attention')\n",
    "evaluate(lstm1, X_test.reshape(X_test.shape[0], -1, 100))\n",
    "# print('Bi-LSTM')\n",
    "# evaluate(bi_lstm, X_test.reshape(X_test.shape[0], -1, 100))\n",
    "# print('CNN')\n",
    "# evaluate(cnn, X_test.reshape(X_test.shape[0], 100, -1))"
   ]
  },
  {
   "cell_type": "markdown",
   "id": "c8513069",
   "metadata": {
    "papermill": {
     "duration": 0.321427,
     "end_time": "2022-06-10T13:39:31.428346",
     "exception": false,
     "start_time": "2022-06-10T13:39:31.106919",
     "status": "completed"
    },
    "tags": []
   },
   "source": [
    "# 9 - Người dùng nhập vào một câu, sử dụng mô hình đã lưu ở trên dự đoán ý kiến của người dùng và in ra kết quả"
   ]
  },
  {
   "cell_type": "code",
   "execution_count": 38,
   "id": "080e10b7",
   "metadata": {
    "execution": {
     "iopub.execute_input": "2022-06-10T13:39:32.348480Z",
     "iopub.status.busy": "2022-06-10T13:39:32.347838Z",
     "iopub.status.idle": "2022-06-10T13:39:32.352979Z",
     "shell.execute_reply": "2022-06-10T13:39:32.352028Z"
    },
    "papermill": {
     "duration": 0.603358,
     "end_time": "2022-06-10T13:39:32.358081",
     "exception": false,
     "start_time": "2022-06-10T13:39:31.754723",
     "status": "completed"
    },
    "tags": []
   },
   "outputs": [],
   "source": [
    "# def predict_sentiment(sent):\n",
    "#     # missing preprocess\n",
    "#     embedded_sent = fasttext_pretrained_embed_sentence(sent)\n",
    "#     pred = convert_pred(mlp.predict(np.array([fasttext_pretrained_embed_sentence(sent)])).ravel())\n",
    "#     return index2class[pred[0]]"
   ]
  },
  {
   "cell_type": "code",
   "execution_count": 39,
   "id": "44c171b5",
   "metadata": {
    "execution": {
     "iopub.execute_input": "2022-06-10T13:39:33.114006Z",
     "iopub.status.busy": "2022-06-10T13:39:33.113603Z",
     "iopub.status.idle": "2022-06-10T13:39:33.118892Z",
     "shell.execute_reply": "2022-06-10T13:39:33.117692Z"
    },
    "papermill": {
     "duration": 0.37659,
     "end_time": "2022-06-10T13:39:33.121116",
     "exception": false,
     "start_time": "2022-06-10T13:39:32.744526",
     "status": "completed"
    },
    "tags": []
   },
   "outputs": [],
   "source": [
    "# print(predict_sentiment('quán này dở'))\n",
    "# print(predict_sentiment('thức_ăn ngon'))"
   ]
  },
  {
   "cell_type": "code",
   "execution_count": null,
   "id": "2ff36451",
   "metadata": {
    "papermill": {
     "duration": 0.328775,
     "end_time": "2022-06-10T13:39:33.770257",
     "exception": false,
     "start_time": "2022-06-10T13:39:33.441482",
     "status": "completed"
    },
    "tags": []
   },
   "outputs": [],
   "source": []
  }
 ],
 "metadata": {
  "kernelspec": {
   "display_name": "Python 3",
   "language": "python",
   "name": "python3"
  },
  "language_info": {
   "codemirror_mode": {
    "name": "ipython",
    "version": 3
   },
   "file_extension": ".py",
   "mimetype": "text/x-python",
   "name": "python",
   "nbconvert_exporter": "python",
   "pygments_lexer": "ipython3",
   "version": "3.7.12"
  },
  "papermill": {
   "default_parameters": {},
   "duration": 422.023741,
   "end_time": "2022-06-10T13:39:37.074913",
   "environment_variables": {},
   "exception": null,
   "input_path": "__notebook__.ipynb",
   "output_path": "__notebook__.ipynb",
   "parameters": {},
   "start_time": "2022-06-10T13:32:35.051172",
   "version": "2.3.4"
  }
 },
 "nbformat": 4,
 "nbformat_minor": 5
}
