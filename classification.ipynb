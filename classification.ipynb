{
 "cells": [
  {
   "cell_type": "markdown",
   "id": "48e425a8",
   "metadata": {
    "id": "221a4c4a",
    "papermill": {
     "duration": 0.011644,
     "end_time": "2022-06-10T09:13:54.011435",
     "exception": false,
     "start_time": "2022-06-10T09:13:53.999791",
     "status": "completed"
    },
    "tags": []
   },
   "source": [
    "1- Tiền xử lý dữ liệu: Làm sạch dữ liệu, loại bỏ dư thừa, tách từ, stopword\n",
    "\n",
    "2- Chia bộ dữ liệu thành Train/Test với tỉ lệ 0.7\n",
    "\n",
    "3- Sử dụng WordEmbedding của thư viện Keras hỗ trợ cho dữ liệu đã xử lý ở trên, lưu kết quả wordembedding đó ra 1 file KerasWordEmbedding.txt\n",
    "\n",
    "4- Sử dụng pretrained word embedding Fasttext (Facebook AI Research), lấy wordembedding của bộ dữ liệu trên ra 1 file FastTextWordEmbedding.txt\n",
    "\n",
    "5- Sử dụng PhoBert cho bộ dữ liệu trên, lưu kết quả ra file PhoBertEmbedding.txt\n",
    "\n",
    "6- Sử dụng 1 trong 3 kết quả ở các câu 2,3,4 là đầu vào cho các mô hình học sâu: MLP, RNN, LSTM, BiLSTM và CNN (các tham số của mô hình tự xây dựng) cho bài toán phân lớp ý kiến người dùng. In ra các tham số của mô hình huấn luyện\n",
    "\n",
    "7- Đánh giá với 3 độ đo Accuracy, Confusion Matrix và F1-score và lưu kết quả ra 1 file\n",
    "\n",
    "8- Với mô hình học sâu có kết quả cao nhất ở trên, sử dụng điểm Checkpoint để lưu kết quả huấn luyện với epoch cho kết quả cao nhất\n",
    "\n",
    "9- Người dùng nhập vào một câu, sử dụng mô hình đã lưu ở trên dự đoán ý kiến của người dùng và in ra kết quả"
   ]
  },
  {
   "cell_type": "code",
   "execution_count": null,
   "id": "add24f06",
   "metadata": {
    "execution": {
     "iopub.execute_input": "2022-06-10T06:26:17.690642Z",
     "iopub.status.busy": "2022-06-10T06:26:17.690123Z",
     "iopub.status.idle": "2022-06-10T06:26:32.277765Z",
     "shell.execute_reply": "2022-06-10T06:26:32.276433Z",
     "shell.execute_reply.started": "2022-06-10T06:26:17.690609Z"
    },
    "papermill": {
     "duration": 0.01003,
     "end_time": "2022-06-10T09:13:54.032078",
     "exception": false,
     "start_time": "2022-06-10T09:13:54.022048",
     "status": "completed"
    },
    "tags": []
   },
   "outputs": [],
   "source": []
  },
  {
   "cell_type": "code",
   "execution_count": 1,
   "id": "cc22a554",
   "metadata": {
    "execution": {
     "iopub.execute_input": "2022-06-10T09:13:54.054579Z",
     "iopub.status.busy": "2022-06-10T09:13:54.054043Z",
     "iopub.status.idle": "2022-06-10T09:14:17.980979Z",
     "shell.execute_reply": "2022-06-10T09:14:17.979949Z"
    },
    "papermill": {
     "duration": 23.940885,
     "end_time": "2022-06-10T09:14:17.983194",
     "exception": false,
     "start_time": "2022-06-10T09:13:54.042309",
     "status": "completed"
    },
    "tags": []
   },
   "outputs": [
    {
     "name": "stdout",
     "output_type": "stream",
     "text": [
      "Collecting pyvi\r\n",
      "  Downloading pyvi-0.1.1-py2.py3-none-any.whl (8.5 MB)\r\n",
      "\u001b[2K     \u001b[90m━━━━━━━━━━━━━━━━━━━━━━━━━━━━━━━━━━━━━━━━\u001b[0m \u001b[32m8.5/8.5 MB\u001b[0m \u001b[31m9.9 MB/s\u001b[0m eta \u001b[36m0:00:00\u001b[0m\r\n",
      "\u001b[?25hCollecting sklearn-crfsuite\r\n",
      "  Downloading sklearn_crfsuite-0.3.6-py2.py3-none-any.whl (12 kB)\r\n",
      "Requirement already satisfied: scikit-learn in /opt/conda/lib/python3.7/site-packages (from pyvi) (1.0.2)\r\n",
      "Requirement already satisfied: joblib>=0.11 in /opt/conda/lib/python3.7/site-packages (from scikit-learn->pyvi) (1.1.0)\r\n",
      "Requirement already satisfied: scipy>=1.1.0 in /opt/conda/lib/python3.7/site-packages (from scikit-learn->pyvi) (1.7.3)\r\n",
      "Requirement already satisfied: threadpoolctl>=2.0.0 in /opt/conda/lib/python3.7/site-packages (from scikit-learn->pyvi) (3.1.0)\r\n",
      "Requirement already satisfied: numpy>=1.14.6 in /opt/conda/lib/python3.7/site-packages (from scikit-learn->pyvi) (1.21.6)\r\n",
      "Requirement already satisfied: tabulate in /opt/conda/lib/python3.7/site-packages (from sklearn-crfsuite->pyvi) (0.8.9)\r\n",
      "Requirement already satisfied: tqdm>=2.0 in /opt/conda/lib/python3.7/site-packages (from sklearn-crfsuite->pyvi) (4.64.0)\r\n",
      "Requirement already satisfied: six in /opt/conda/lib/python3.7/site-packages (from sklearn-crfsuite->pyvi) (1.16.0)\r\n",
      "Collecting python-crfsuite>=0.8.3\r\n",
      "  Downloading python_crfsuite-0.9.8-cp37-cp37m-manylinux_2_17_x86_64.manylinux2014_x86_64.whl (965 kB)\r\n",
      "\u001b[2K     \u001b[90m━━━━━━━━━━━━━━━━━━━━━━━━━━━━━━━━━━━━━━\u001b[0m \u001b[32m965.4/965.4 kB\u001b[0m \u001b[31m52.8 MB/s\u001b[0m eta \u001b[36m0:00:00\u001b[0m\r\n",
      "\u001b[?25hInstalling collected packages: python-crfsuite, sklearn-crfsuite, pyvi\r\n",
      "Successfully installed python-crfsuite-0.9.8 pyvi-0.1.1 sklearn-crfsuite-0.3.6\r\n",
      "\u001b[33mWARNING: Running pip as the 'root' user can result in broken permissions and conflicting behaviour with the system package manager. It is recommended to use a virtual environment instead: https://pip.pypa.io/warnings/venv\u001b[0m\u001b[33m\r\n",
      "\u001b[0mCollecting keras-self-attention\r\n",
      "  Downloading keras-self-attention-0.51.0.tar.gz (11 kB)\r\n",
      "  Preparing metadata (setup.py) ... \u001b[?25l-\b \bdone\r\n",
      "\u001b[?25hRequirement already satisfied: numpy in /opt/conda/lib/python3.7/site-packages (from keras-self-attention) (1.21.6)\r\n",
      "Building wheels for collected packages: keras-self-attention\r\n",
      "  Building wheel for keras-self-attention (setup.py) ... \u001b[?25l-\b \b\\\b \bdone\r\n",
      "\u001b[?25h  Created wheel for keras-self-attention: filename=keras_self_attention-0.51.0-py3-none-any.whl size=18912 sha256=1b0ef6bc1d99682d75591f8a0d8ed145256fefdd7903bdb6adbea2426271e254\r\n",
      "  Stored in directory: /root/.cache/pip/wheels/95/b1/a8/5ee00cc137940b2f6fa198212e8f45d813d0e0d9c3a04035a3\r\n",
      "Successfully built keras-self-attention\r\n",
      "Installing collected packages: keras-self-attention\r\n",
      "Successfully installed keras-self-attention-0.51.0\r\n",
      "\u001b[33mWARNING: Running pip as the 'root' user can result in broken permissions and conflicting behaviour with the system package manager. It is recommended to use a virtual environment instead: https://pip.pypa.io/warnings/venv\u001b[0m\u001b[33m\r\n",
      "\u001b[0m"
     ]
    }
   ],
   "source": [
    "!pip install pyvi\n",
    "!pip install keras-self-attention"
   ]
  },
  {
   "cell_type": "code",
   "execution_count": 2,
   "id": "4373e160",
   "metadata": {
    "execution": {
     "iopub.execute_input": "2022-06-10T09:14:18.028790Z",
     "iopub.status.busy": "2022-06-10T09:14:18.028114Z",
     "iopub.status.idle": "2022-06-10T09:14:25.141783Z",
     "shell.execute_reply": "2022-06-10T09:14:25.140951Z"
    },
    "id": "d9dd81f0",
    "papermill": {
     "duration": 7.14113,
     "end_time": "2022-06-10T09:14:25.143862",
     "exception": false,
     "start_time": "2022-06-10T09:14:18.002732",
     "status": "completed"
    },
    "tags": []
   },
   "outputs": [],
   "source": [
    "# BATCH_SIZE = 100\n",
    "SEED = 61\n",
    "\n",
    "import re\n",
    "import time\n",
    "import string\n",
    "import pickle\n",
    "import random\n",
    "import numpy as np\n",
    "import pandas as pd\n",
    "import tensorflow as tf\n",
    "import tensorflow_datasets as tfds\n",
    "random.seed(SEED)\n",
    "np.random.seed(SEED)\n",
    "tf.random.set_seed(SEED)\n",
    "# tf.keras.utils.set_random_seed(SEED)\n",
    "\n",
    "from tensorflow.keras.utils import to_categorical\n",
    "from tensorflow.keras.models import Model, load_model\n",
    "from tensorflow.keras.layers import Dense, Embedding,SimpleRNN, LSTM, Input, Flatten, Convolution1D, MaxPool1D, Bidirectional\n",
    "from tensorflow.keras.preprocessing.text import Tokenizer\n",
    "from tensorflow.keras.preprocessing.sequence import pad_sequences\n",
    "from tensorflow.keras import layers, Sequential\n",
    "from keras.utils.vis_utils import plot_model\n",
    "from keras.callbacks import ModelCheckpoint, EarlyStopping, ReduceLROnPlateau\n",
    "from tensorflow import keras\n",
    "\n",
    "from sklearn.metrics import f1_score, accuracy_score, confusion_matrix, ConfusionMatrixDisplay\n",
    "\n",
    "from gensim.models.fasttext import FastText\n",
    "from gensim.models import Word2Vec\n",
    "\n",
    "import fasttext\n",
    "import fasttext.util\n",
    "\n",
    "import matplotlib.pyplot as plt\n",
    "\n",
    "from pyvi import ViTokenizer\n",
    "\n",
    "from tqdm import tqdm, notebook\n",
    "from keras_self_attention import SeqSelfAttention\n",
    "\n",
    "\n",
    "# import torch\n",
    "# from transformers import AutoModel, AutoTokenizer"
   ]
  },
  {
   "cell_type": "code",
   "execution_count": 3,
   "id": "24ead10a",
   "metadata": {
    "execution": {
     "iopub.execute_input": "2022-06-10T09:14:25.171904Z",
     "iopub.status.busy": "2022-06-10T09:14:25.170924Z",
     "iopub.status.idle": "2022-06-10T09:14:25.176255Z",
     "shell.execute_reply": "2022-06-10T09:14:25.175533Z"
    },
    "id": "9774e0d0",
    "papermill": {
     "duration": 0.021103,
     "end_time": "2022-06-10T09:14:25.177954",
     "exception": false,
     "start_time": "2022-06-10T09:14:25.156851",
     "status": "completed"
    },
    "tags": []
   },
   "outputs": [],
   "source": [
    "# colab_path = '/content/drive/MyDrive/DACNTT2/tasks/Text Sentiment Analysis/'\n",
    "\n",
    "train_path = '../input/cleaned-sentiment-text/train.csv'\n",
    "validation_path = '../input/cleaned-sentiment-text/validation.csv'\n",
    "test_path = '../input/cleaned-sentiment-text/test.csv'"
   ]
  },
  {
   "cell_type": "code",
   "execution_count": 4,
   "id": "1cd88982",
   "metadata": {
    "execution": {
     "iopub.execute_input": "2022-06-10T09:14:25.204326Z",
     "iopub.status.busy": "2022-06-10T09:14:25.204061Z",
     "iopub.status.idle": "2022-06-10T09:14:25.207407Z",
     "shell.execute_reply": "2022-06-10T09:14:25.206647Z"
    },
    "papermill": {
     "duration": 0.018497,
     "end_time": "2022-06-10T09:14:25.209014",
     "exception": false,
     "start_time": "2022-06-10T09:14:25.190517",
     "status": "completed"
    },
    "tags": []
   },
   "outputs": [],
   "source": [
    "# train_path = '../input/text-sentiment-data/train.csv'\n",
    "# validation_path = '../input/text-sentiment-data/validation.csv'\n",
    "# test_path = '../input/text-sentiment-data/test.csv'"
   ]
  },
  {
   "cell_type": "code",
   "execution_count": 5,
   "id": "76badb02",
   "metadata": {
    "execution": {
     "iopub.execute_input": "2022-06-10T09:14:25.234913Z",
     "iopub.status.busy": "2022-06-10T09:14:25.234416Z",
     "iopub.status.idle": "2022-06-10T09:14:25.752640Z",
     "shell.execute_reply": "2022-06-10T09:14:25.751329Z"
    },
    "id": "7806838d",
    "outputId": "7e266a01-c9d2-47e5-e638-4cdb59778201",
    "papermill": {
     "duration": 0.533821,
     "end_time": "2022-06-10T09:14:25.755206",
     "exception": false,
     "start_time": "2022-06-10T09:14:25.221385",
     "status": "completed"
    },
    "tags": []
   },
   "outputs": [
    {
     "name": "stdout",
     "output_type": "stream",
     "text": [
      "Number of train data: 29744\n",
      "Number of validation data: 9920\n",
      "Number of test data: 9920\n",
      "Number of classes: 2 -> ['neg' 'pos']\n"
     ]
    },
    {
     "data": {
      "text/html": [
       "<div>\n",
       "<style scoped>\n",
       "    .dataframe tbody tr th:only-of-type {\n",
       "        vertical-align: middle;\n",
       "    }\n",
       "\n",
       "    .dataframe tbody tr th {\n",
       "        vertical-align: top;\n",
       "    }\n",
       "\n",
       "    .dataframe thead th {\n",
       "        text-align: right;\n",
       "    }\n",
       "</style>\n",
       "<table border=\"1\" class=\"dataframe\">\n",
       "  <thead>\n",
       "    <tr style=\"text-align: right;\">\n",
       "      <th></th>\n",
       "      <th>text</th>\n",
       "      <th>label</th>\n",
       "    </tr>\n",
       "  </thead>\n",
       "  <tbody>\n",
       "    <tr>\n",
       "      <th>0</th>\n",
       "      <td>hôm_nay đi ngang quán quyết_định ghé mua quán ...</td>\n",
       "      <td>neg</td>\n",
       "    </tr>\n",
       "    <tr>\n",
       "      <th>1</th>\n",
       "      <td>đến_súp lơ trưa nắng gắt chủ_nhật hy_vọng súp ...</td>\n",
       "      <td>pos</td>\n",
       "    </tr>\n",
       "    <tr>\n",
       "      <th>2</th>\n",
       "      <td>hôm_qua xe đông khiếp lo bàn may_sao bàn lầu l...</td>\n",
       "      <td>pos</td>\n",
       "    </tr>\n",
       "    <tr>\n",
       "      <th>3</th>\n",
       "      <td>món ăn_ở ngon món bò kho chủ quán quán phục_vụ...</td>\n",
       "      <td>pos</td>\n",
       "    </tr>\n",
       "    <tr>\n",
       "      <th>4</th>\n",
       "      <td>đẹp trời đi mỳ mỳ vô_cùng mặn sợi bở bàn phục_...</td>\n",
       "      <td>neg</td>\n",
       "    </tr>\n",
       "  </tbody>\n",
       "</table>\n",
       "</div>"
      ],
      "text/plain": [
       "                                                text label\n",
       "0  hôm_nay đi ngang quán quyết_định ghé mua quán ...   neg\n",
       "1  đến_súp lơ trưa nắng gắt chủ_nhật hy_vọng súp ...   pos\n",
       "2  hôm_qua xe đông khiếp lo bàn may_sao bàn lầu l...   pos\n",
       "3  món ăn_ở ngon món bò kho chủ quán quán phục_vụ...   pos\n",
       "4  đẹp trời đi mỳ mỳ vô_cùng mặn sợi bở bàn phục_...   neg"
      ]
     },
     "execution_count": 5,
     "metadata": {},
     "output_type": "execute_result"
    }
   ],
   "source": [
    "# data is already cleaned and splitted in 3 parts: train, validation and test\n",
    "train_df = pd.read_csv(train_path, index_col=0)\n",
    "validation_df = pd.read_csv(validation_path, index_col=0)\n",
    "test_df = pd.read_csv(test_path, index_col=0)\n",
    "NUM_CLASSES = len(train_df['label'].unique())\n",
    "index2class = {0:'neg', 1:'pos'}\n",
    "class2index = {'neg': 0, 'pos':1}\n",
    "\n",
    "print('Number of train data:', train_df.shape[0])\n",
    "print('Number of validation data:', validation_df.shape[0])\n",
    "print('Number of test data:', test_df.shape[0])\n",
    "print('Number of classes:', NUM_CLASSES, '->', train_df['label'].unique())\n",
    "\n",
    "train_df.head()"
   ]
  },
  {
   "cell_type": "code",
   "execution_count": 6,
   "id": "b9e5b655",
   "metadata": {
    "execution": {
     "iopub.execute_input": "2022-06-10T09:14:25.782378Z",
     "iopub.status.busy": "2022-06-10T09:14:25.782102Z",
     "iopub.status.idle": "2022-06-10T09:14:25.789082Z",
     "shell.execute_reply": "2022-06-10T09:14:25.788320Z"
    },
    "id": "4ca4ac4d",
    "papermill": {
     "duration": 0.022229,
     "end_time": "2022-06-10T09:14:25.790870",
     "exception": false,
     "start_time": "2022-06-10T09:14:25.768641",
     "status": "completed"
    },
    "tags": []
   },
   "outputs": [],
   "source": [
    "# X\n",
    "train_data = train_df.iloc[:, 0].to_numpy()\n",
    "validation_data = validation_df.iloc[:, 0].to_numpy()\n",
    "test_data = test_df.iloc[:, 0].to_numpy()\n",
    "whole_data = np.concatenate((train_data, validation_data, test_data), dtype=object)"
   ]
  },
  {
   "cell_type": "code",
   "execution_count": 7,
   "id": "2df0d7ca",
   "metadata": {
    "execution": {
     "iopub.execute_input": "2022-06-10T09:14:25.817141Z",
     "iopub.status.busy": "2022-06-10T09:14:25.816871Z",
     "iopub.status.idle": "2022-06-10T09:14:25.836935Z",
     "shell.execute_reply": "2022-06-10T09:14:25.836191Z"
    },
    "id": "8844ac55",
    "papermill": {
     "duration": 0.035093,
     "end_time": "2022-06-10T09:14:25.838570",
     "exception": false,
     "start_time": "2022-06-10T09:14:25.803477",
     "status": "completed"
    },
    "tags": []
   },
   "outputs": [],
   "source": [
    "# y\n",
    "label_train = np.array([class2index[i] for i in train_df.iloc[:, 1]])\n",
    "label_validation = np.array([class2index[i] for i in validation_df.iloc[:, 1]])\n",
    "label_test = np.array([class2index[i] for i in test_df.iloc[:, 1]])\n",
    "label_whole = np.concatenate((label_train, label_validation, label_test))"
   ]
  },
  {
   "cell_type": "code",
   "execution_count": 8,
   "id": "a482cf07",
   "metadata": {
    "execution": {
     "iopub.execute_input": "2022-06-10T09:14:25.865447Z",
     "iopub.status.busy": "2022-06-10T09:14:25.864870Z",
     "iopub.status.idle": "2022-06-10T09:14:26.063279Z",
     "shell.execute_reply": "2022-06-10T09:14:26.062504Z"
    },
    "id": "c0729bcc",
    "papermill": {
     "duration": 0.213932,
     "end_time": "2022-06-10T09:14:26.065197",
     "exception": false,
     "start_time": "2022-06-10T09:14:25.851265",
     "status": "completed"
    },
    "tags": []
   },
   "outputs": [],
   "source": [
    "MAXLEN = max([len(x.split()) for x in whole_data]) # = 492\n",
    "EMBEDDING_DIM = 100"
   ]
  },
  {
   "cell_type": "markdown",
   "id": "627d11a4",
   "metadata": {
    "id": "9bbb713d",
    "papermill": {
     "duration": 0.012602,
     "end_time": "2022-06-10T09:14:26.091721",
     "exception": false,
     "start_time": "2022-06-10T09:14:26.079119",
     "status": "completed"
    },
    "tags": []
   },
   "source": [
    "# 6 - Sử dụng 1 trong 3 kết quả ở các câu 2,3,4 là đầu vào cho các mô hình học sâu: MLP, RNN, LSTM, BiLSTM và CNN (các tham số của mô hình tự xây dựng) cho bài toán phân lớp ý kiến người dùng. In ra các tham số của mô hình huấn luyện"
   ]
  },
  {
   "cell_type": "code",
   "execution_count": 9,
   "id": "94aaab0c",
   "metadata": {
    "execution": {
     "iopub.execute_input": "2022-06-10T09:14:26.118563Z",
     "iopub.status.busy": "2022-06-10T09:14:26.117892Z",
     "iopub.status.idle": "2022-06-10T09:14:26.121590Z",
     "shell.execute_reply": "2022-06-10T09:14:26.120780Z"
    },
    "id": "bc95d66a",
    "outputId": "ae3b9076-83ad-4796-df38-3d4dc2af36e7",
    "papermill": {
     "duration": 0.019037,
     "end_time": "2022-06-10T09:14:26.123436",
     "exception": false,
     "start_time": "2022-06-10T09:14:26.104399",
     "status": "completed"
    },
    "tags": []
   },
   "outputs": [],
   "source": [
    "# # load fasttext trained embedding layer weights to get feature vector accordingly\n",
    "# ft_loaded = fasttext.load_model('data/embedding/fasttext/FastTextEmbeddingModel.bin')"
   ]
  },
  {
   "cell_type": "code",
   "execution_count": 10,
   "id": "2c6eabef",
   "metadata": {
    "execution": {
     "iopub.execute_input": "2022-06-10T09:14:26.149718Z",
     "iopub.status.busy": "2022-06-10T09:14:26.149431Z",
     "iopub.status.idle": "2022-06-10T09:14:26.152984Z",
     "shell.execute_reply": "2022-06-10T09:14:26.152157Z"
    },
    "papermill": {
     "duration": 0.018726,
     "end_time": "2022-06-10T09:14:26.154801",
     "exception": false,
     "start_time": "2022-06-10T09:14:26.136075",
     "status": "completed"
    },
    "tags": []
   },
   "outputs": [],
   "source": [
    "# def fasttext_pretrained_embed_sentence(sent):\n",
    "#     embedded_sent = np.zeros((EMBEDDING_DIM, ))\n",
    "#     for i, word in enumerate(sent.split()):\n",
    "#         embedded_sent += ft_loaded.get_word_vector(word)\n",
    "#     return (embedded_sent/len(sent.split())).ravel().tolist()\n",
    "\n",
    "# fasttext_pretrained_embed = np.frompyfunc(fasttext_pretrained_embed_sentence, 1, 1)"
   ]
  },
  {
   "cell_type": "code",
   "execution_count": 11,
   "id": "4b0a763e",
   "metadata": {
    "execution": {
     "iopub.execute_input": "2022-06-10T09:14:26.182335Z",
     "iopub.status.busy": "2022-06-10T09:14:26.182056Z",
     "iopub.status.idle": "2022-06-10T09:14:26.185563Z",
     "shell.execute_reply": "2022-06-10T09:14:26.184724Z"
    },
    "papermill": {
     "duration": 0.019595,
     "end_time": "2022-06-10T09:14:26.187430",
     "exception": false,
     "start_time": "2022-06-10T09:14:26.167835",
     "status": "completed"
    },
    "tags": []
   },
   "outputs": [],
   "source": [
    "# X_train = np.array(fasttext_pretrained_embed(train_data).tolist())\n",
    "# X_validation = np.array(fasttext_pretrained_embed(validation_data).tolist())\n",
    "# X_test = np.array(fasttext_pretrained_embed(test_data).tolist())"
   ]
  },
  {
   "cell_type": "code",
   "execution_count": 12,
   "id": "32f2f85a",
   "metadata": {
    "execution": {
     "iopub.execute_input": "2022-06-10T09:14:26.214963Z",
     "iopub.status.busy": "2022-06-10T09:14:26.214641Z",
     "iopub.status.idle": "2022-06-10T09:14:26.218228Z",
     "shell.execute_reply": "2022-06-10T09:14:26.217423Z"
    },
    "papermill": {
     "duration": 0.019094,
     "end_time": "2022-06-10T09:14:26.219955",
     "exception": false,
     "start_time": "2022-06-10T09:14:26.200861",
     "status": "completed"
    },
    "tags": []
   },
   "outputs": [],
   "source": [
    "# np.save('data/embedding/fasttext/X_train.npy', X_train)\n",
    "# np.save('data/embedding/fasttext/X_validation.npy', X_validation)\n",
    "# np.save('data/embedding/fasttext/X_test.npy', X_test)"
   ]
  },
  {
   "cell_type": "code",
   "execution_count": 13,
   "id": "24e09021",
   "metadata": {
    "execution": {
     "iopub.execute_input": "2022-06-10T09:14:26.247183Z",
     "iopub.status.busy": "2022-06-10T09:14:26.246905Z",
     "iopub.status.idle": "2022-06-10T09:14:26.683165Z",
     "shell.execute_reply": "2022-06-10T09:14:26.682290Z"
    },
    "papermill": {
     "duration": 0.452193,
     "end_time": "2022-06-10T09:14:26.685460",
     "exception": false,
     "start_time": "2022-06-10T09:14:26.233267",
     "status": "completed"
    },
    "tags": []
   },
   "outputs": [],
   "source": [
    "# load saved embedded FastText features data\n",
    "# data/embedding/fasttext/X_train.npy\n",
    "# this is features from already cleaned text\n",
    "X_train = np.load('../input/embeddings/X_train.npy', allow_pickle=True)\n",
    "X_validation = np.load('../input/embeddings/X_validation.npy', allow_pickle=True)\n",
    "X_test = np.load('../input/embeddings/X_test.npy', allow_pickle=True)"
   ]
  },
  {
   "cell_type": "code",
   "execution_count": null,
   "id": "1bd3b3b6",
   "metadata": {
    "execution": {
     "iopub.execute_input": "2022-06-10T07:24:50.262322Z",
     "iopub.status.busy": "2022-06-10T07:24:50.261835Z",
     "iopub.status.idle": "2022-06-10T07:24:50.937207Z",
     "shell.execute_reply": "2022-06-10T07:24:50.935824Z",
     "shell.execute_reply.started": "2022-06-10T07:24:50.26227Z"
    },
    "papermill": {
     "duration": 0.013372,
     "end_time": "2022-06-10T09:14:26.712167",
     "exception": false,
     "start_time": "2022-06-10T09:14:26.698795",
     "status": "completed"
    },
    "tags": []
   },
   "outputs": [],
   "source": []
  },
  {
   "cell_type": "markdown",
   "id": "dcd4574b",
   "metadata": {
    "id": "a0863d16",
    "papermill": {
     "duration": 0.012662,
     "end_time": "2022-06-10T09:14:26.737858",
     "exception": false,
     "start_time": "2022-06-10T09:14:26.725196",
     "status": "completed"
    },
    "tags": []
   },
   "source": [
    "# MLP"
   ]
  },
  {
   "cell_type": "code",
   "execution_count": 14,
   "id": "199e3413",
   "metadata": {
    "execution": {
     "iopub.execute_input": "2022-06-10T09:14:26.765346Z",
     "iopub.status.busy": "2022-06-10T09:14:26.765002Z",
     "iopub.status.idle": "2022-06-10T09:14:26.769495Z",
     "shell.execute_reply": "2022-06-10T09:14:26.768709Z"
    },
    "papermill": {
     "duration": 0.019946,
     "end_time": "2022-06-10T09:14:26.771160",
     "exception": false,
     "start_time": "2022-06-10T09:14:26.751214",
     "status": "completed"
    },
    "tags": []
   },
   "outputs": [],
   "source": [
    "early_stopping = EarlyStopping(patience=5, monitor=\"val_loss\", verbose=1)\n",
    "reduce_lr = ReduceLROnPlateau(monitor='val_loss', factor=0.1,\n",
    "                              patience=5, verbose=1)\n",
    "# mlp.optimizer.get_config()\n",
    "# adam initial learning rate = 0.001"
   ]
  },
  {
   "cell_type": "code",
   "execution_count": 15,
   "id": "e1e17248",
   "metadata": {
    "execution": {
     "iopub.execute_input": "2022-06-10T09:14:26.797996Z",
     "iopub.status.busy": "2022-06-10T09:14:26.797516Z",
     "iopub.status.idle": "2022-06-10T09:14:29.421722Z",
     "shell.execute_reply": "2022-06-10T09:14:29.419870Z"
    },
    "id": "b9348769",
    "papermill": {
     "duration": 2.639642,
     "end_time": "2022-06-10T09:14:29.423620",
     "exception": false,
     "start_time": "2022-06-10T09:14:26.783978",
     "status": "completed"
    },
    "tags": []
   },
   "outputs": [
    {
     "name": "stderr",
     "output_type": "stream",
     "text": [
      "2022-06-10 09:14:26.876245: I tensorflow/stream_executor/cuda/cuda_gpu_executor.cc:937] successful NUMA node read from SysFS had negative value (-1), but there must be at least one NUMA node, so returning NUMA node zero\n",
      "2022-06-10 09:14:26.977758: I tensorflow/stream_executor/cuda/cuda_gpu_executor.cc:937] successful NUMA node read from SysFS had negative value (-1), but there must be at least one NUMA node, so returning NUMA node zero\n",
      "2022-06-10 09:14:26.978556: I tensorflow/stream_executor/cuda/cuda_gpu_executor.cc:937] successful NUMA node read from SysFS had negative value (-1), but there must be at least one NUMA node, so returning NUMA node zero\n",
      "2022-06-10 09:14:26.980435: I tensorflow/core/platform/cpu_feature_guard.cc:142] This TensorFlow binary is optimized with oneAPI Deep Neural Network Library (oneDNN) to use the following CPU instructions in performance-critical operations:  AVX2 AVX512F FMA\n",
      "To enable them in other operations, rebuild TensorFlow with the appropriate compiler flags.\n",
      "2022-06-10 09:14:26.980864: I tensorflow/stream_executor/cuda/cuda_gpu_executor.cc:937] successful NUMA node read from SysFS had negative value (-1), but there must be at least one NUMA node, so returning NUMA node zero\n",
      "2022-06-10 09:14:26.981815: I tensorflow/stream_executor/cuda/cuda_gpu_executor.cc:937] successful NUMA node read from SysFS had negative value (-1), but there must be at least one NUMA node, so returning NUMA node zero\n",
      "2022-06-10 09:14:26.982702: I tensorflow/stream_executor/cuda/cuda_gpu_executor.cc:937] successful NUMA node read from SysFS had negative value (-1), but there must be at least one NUMA node, so returning NUMA node zero\n",
      "2022-06-10 09:14:29.046530: I tensorflow/stream_executor/cuda/cuda_gpu_executor.cc:937] successful NUMA node read from SysFS had negative value (-1), but there must be at least one NUMA node, so returning NUMA node zero\n",
      "2022-06-10 09:14:29.047444: I tensorflow/stream_executor/cuda/cuda_gpu_executor.cc:937] successful NUMA node read from SysFS had negative value (-1), but there must be at least one NUMA node, so returning NUMA node zero\n",
      "2022-06-10 09:14:29.048150: I tensorflow/stream_executor/cuda/cuda_gpu_executor.cc:937] successful NUMA node read from SysFS had negative value (-1), but there must be at least one NUMA node, so returning NUMA node zero\n",
      "2022-06-10 09:14:29.048766: I tensorflow/core/common_runtime/gpu/gpu_device.cc:1510] Created device /job:localhost/replica:0/task:0/device:GPU:0 with 15403 MB memory:  -> device: 0, name: Tesla P100-PCIE-16GB, pci bus id: 0000:00:04.0, compute capability: 6.0\n"
     ]
    }
   ],
   "source": [
    "mlp = Sequential()\n",
    "mlp.add(Input(shape=(EMBEDDING_DIM,)))\n",
    "mlp.add(Dense(200, activation='relu'))\n",
    "mlp.add(Dense(100, activation='relu'))\n",
    "mlp.add(Dense(20, activation='relu'))\n",
    "mlp.add(Dense(1, activation='sigmoid'))"
   ]
  },
  {
   "cell_type": "code",
   "execution_count": 16,
   "id": "085570ad",
   "metadata": {
    "execution": {
     "iopub.execute_input": "2022-06-10T09:14:29.451578Z",
     "iopub.status.busy": "2022-06-10T09:14:29.451286Z",
     "iopub.status.idle": "2022-06-10T09:14:30.534658Z",
     "shell.execute_reply": "2022-06-10T09:14:30.533621Z"
    },
    "id": "0467f83b",
    "outputId": "0f883303-b9ce-405c-f429-5cac9285ab16",
    "papermill": {
     "duration": 1.099579,
     "end_time": "2022-06-10T09:14:30.536642",
     "exception": false,
     "start_time": "2022-06-10T09:14:29.437063",
     "status": "completed"
    },
    "scrolled": true,
    "tags": []
   },
   "outputs": [
    {
     "name": "stdout",
     "output_type": "stream",
     "text": [
      "Model: \"sequential\"\n",
      "_________________________________________________________________\n",
      "Layer (type)                 Output Shape              Param #   \n",
      "=================================================================\n",
      "dense (Dense)                (None, 200)               20200     \n",
      "_________________________________________________________________\n",
      "dense_1 (Dense)              (None, 100)               20100     \n",
      "_________________________________________________________________\n",
      "dense_2 (Dense)              (None, 20)                2020      \n",
      "_________________________________________________________________\n",
      "dense_3 (Dense)              (None, 1)                 21        \n",
      "=================================================================\n",
      "Total params: 42,341\n",
      "Trainable params: 42,341\n",
      "Non-trainable params: 0\n",
      "_________________________________________________________________\n",
      "None\n"
     ]
    },
    {
     "data": {
      "image/png": "[encoded data removed]",
      "text/plain": [
       "<IPython.core.display.Image object>"
      ]
     },
     "execution_count": 16,
     "metadata": {},
     "output_type": "execute_result"
    }
   ],
   "source": [
    "print(mlp.summary())\n",
    "checkpoint_mlp = ModelCheckpoint('./model_checkpoint/mlp.h5', save_best_only=True, verbose=1)\n",
    "mlp.compile(optimizer='adam', loss='binary_crossentropy', metrics=['accuracy'])\n",
    "plot_model(mlp, rankdir='LR', show_shapes=True)"
   ]
  },
  {
   "cell_type": "code",
   "execution_count": 17,
   "id": "dd45bae8",
   "metadata": {
    "execution": {
     "iopub.execute_input": "2022-06-10T09:14:30.566764Z",
     "iopub.status.busy": "2022-06-10T09:14:30.566020Z",
     "iopub.status.idle": "2022-06-10T09:14:30.569775Z",
     "shell.execute_reply": "2022-06-10T09:14:30.569070Z"
    },
    "papermill": {
     "duration": 0.020724,
     "end_time": "2022-06-10T09:14:30.571374",
     "exception": false,
     "start_time": "2022-06-10T09:14:30.550650",
     "status": "completed"
    },
    "tags": []
   },
   "outputs": [],
   "source": [
    "# mlp.fit(X_train, label_train, epochs=2, batch_size=100,\n",
    "#         validation_data=(X_validation, label_validation), \n",
    "#         callbacks=[checkpoint_mlp, reduce_lr])"
   ]
  },
  {
   "cell_type": "markdown",
   "id": "0ad19462",
   "metadata": {
    "papermill": {
     "duration": 0.013444,
     "end_time": "2022-06-10T09:14:30.598564",
     "exception": false,
     "start_time": "2022-06-10T09:14:30.585120",
     "status": "completed"
    },
    "tags": []
   },
   "source": [
    "# RNN"
   ]
  },
  {
   "cell_type": "code",
   "execution_count": 18,
   "id": "4083806f",
   "metadata": {
    "execution": {
     "iopub.execute_input": "2022-06-10T09:14:30.626843Z",
     "iopub.status.busy": "2022-06-10T09:14:30.626149Z",
     "iopub.status.idle": "2022-06-10T09:14:30.773557Z",
     "shell.execute_reply": "2022-06-10T09:14:30.772702Z"
    },
    "papermill": {
     "duration": 0.163957,
     "end_time": "2022-06-10T09:14:30.775760",
     "exception": false,
     "start_time": "2022-06-10T09:14:30.611803",
     "status": "completed"
    },
    "tags": []
   },
   "outputs": [],
   "source": [
    "rnn = Sequential()\n",
    "rnn.add(Input(shape=(1, EMBEDDING_DIM)))\n",
    "rnn.add(SimpleRNN(128, return_sequences=True))\n",
    "rnn.add(SimpleRNN(128, return_sequences=False))\n",
    "rnn.add(Dense(1, activation='sigmoid'))"
   ]
  },
  {
   "cell_type": "code",
   "execution_count": 19,
   "id": "bc224844",
   "metadata": {
    "execution": {
     "iopub.execute_input": "2022-06-10T09:14:30.804967Z",
     "iopub.status.busy": "2022-06-10T09:14:30.804447Z",
     "iopub.status.idle": "2022-06-10T09:14:30.919192Z",
     "shell.execute_reply": "2022-06-10T09:14:30.917495Z"
    },
    "papermill": {
     "duration": 0.13219,
     "end_time": "2022-06-10T09:14:30.921624",
     "exception": false,
     "start_time": "2022-06-10T09:14:30.789434",
     "status": "completed"
    },
    "tags": []
   },
   "outputs": [
    {
     "name": "stdout",
     "output_type": "stream",
     "text": [
      "Model: \"sequential_1\"\n",
      "_________________________________________________________________\n",
      "Layer (type)                 Output Shape              Param #   \n",
      "=================================================================\n",
      "simple_rnn (SimpleRNN)       (None, 1, 128)            29312     \n",
      "_________________________________________________________________\n",
      "simple_rnn_1 (SimpleRNN)     (None, 128)               32896     \n",
      "_________________________________________________________________\n",
      "dense_4 (Dense)              (None, 1)                 129       \n",
      "=================================================================\n",
      "Total params: 62,337\n",
      "Trainable params: 62,337\n",
      "Non-trainable params: 0\n",
      "_________________________________________________________________\n",
      "None\n"
     ]
    },
    {
     "data": {
      "image/png": "[encoded data removed]",
      "text/plain": [
       "<IPython.core.display.Image object>"
      ]
     },
     "execution_count": 19,
     "metadata": {},
     "output_type": "execute_result"
    }
   ],
   "source": [
    "print(rnn.summary())\n",
    "checkpoint_rnn = ModelCheckpoint('./model_checkpoint/rnn.h5', save_best_only=True, verbose=1)\n",
    "rnn.compile(optimizer='adam', loss='binary_crossentropy', metrics=['accuracy'])\n",
    "plot_model(rnn, rankdir='LR', show_shapes=True)"
   ]
  },
  {
   "cell_type": "code",
   "execution_count": 20,
   "id": "930b309f",
   "metadata": {
    "execution": {
     "iopub.execute_input": "2022-06-10T09:14:30.952302Z",
     "iopub.status.busy": "2022-06-10T09:14:30.951607Z",
     "iopub.status.idle": "2022-06-10T09:14:30.956794Z",
     "shell.execute_reply": "2022-06-10T09:14:30.956082Z"
    },
    "papermill": {
     "duration": 0.022159,
     "end_time": "2022-06-10T09:14:30.958475",
     "exception": false,
     "start_time": "2022-06-10T09:14:30.936316",
     "status": "completed"
    },
    "tags": []
   },
   "outputs": [],
   "source": [
    "# rnn.fit(X_train.reshape(X_train.shape[0], -1, 100), label_train, epochs=100, batch_size=100,\n",
    "#         validation_data=(X_validation.reshape(X_validation.shape[0], -1, 100), label_validation), \n",
    "#         callbacks=[checkpoint_rnn, reduce_lr])"
   ]
  },
  {
   "cell_type": "markdown",
   "id": "f484aee8",
   "metadata": {
    "papermill": {
     "duration": 0.013948,
     "end_time": "2022-06-10T09:14:30.986067",
     "exception": false,
     "start_time": "2022-06-10T09:14:30.972119",
     "status": "completed"
    },
    "tags": []
   },
   "source": [
    "# LSTM"
   ]
  },
  {
   "cell_type": "code",
   "execution_count": 21,
   "id": "76c9df7f",
   "metadata": {
    "execution": {
     "iopub.execute_input": "2022-06-10T09:14:31.015954Z",
     "iopub.status.busy": "2022-06-10T09:14:31.015643Z",
     "iopub.status.idle": "2022-06-10T09:14:31.621859Z",
     "shell.execute_reply": "2022-06-10T09:14:31.621034Z"
    },
    "papermill": {
     "duration": 0.62351,
     "end_time": "2022-06-10T09:14:31.623864",
     "exception": false,
     "start_time": "2022-06-10T09:14:31.000354",
     "status": "completed"
    },
    "tags": []
   },
   "outputs": [],
   "source": [
    "lstm = Sequential()\n",
    "lstm.add(Input(shape=(1, EMBEDDING_DIM)))\n",
    "lstm.add(LSTM(256, return_sequences=True))\n",
    "lstm.add(LSTM(128, return_sequences=True))\n",
    "lstm.add(LSTM(8, return_sequences=False))\n",
    "lstm.add(Dense(1, activation='sigmoid'))"
   ]
  },
  {
   "cell_type": "code",
   "execution_count": 22,
   "id": "b51b7e8c",
   "metadata": {
    "execution": {
     "iopub.execute_input": "2022-06-10T09:14:31.654005Z",
     "iopub.status.busy": "2022-06-10T09:14:31.653631Z",
     "iopub.status.idle": "2022-06-10T09:14:31.765540Z",
     "shell.execute_reply": "2022-06-10T09:14:31.764508Z"
    },
    "papermill": {
     "duration": 0.128948,
     "end_time": "2022-06-10T09:14:31.767346",
     "exception": false,
     "start_time": "2022-06-10T09:14:31.638398",
     "status": "completed"
    },
    "tags": []
   },
   "outputs": [
    {
     "name": "stdout",
     "output_type": "stream",
     "text": [
      "Model: \"sequential_2\"\n",
      "_________________________________________________________________\n",
      "Layer (type)                 Output Shape              Param #   \n",
      "=================================================================\n",
      "lstm (LSTM)                  (None, 1, 256)            365568    \n",
      "_________________________________________________________________\n",
      "lstm_1 (LSTM)                (None, 1, 128)            197120    \n",
      "_________________________________________________________________\n",
      "lstm_2 (LSTM)                (None, 8)                 4384      \n",
      "_________________________________________________________________\n",
      "dense_5 (Dense)              (None, 1)                 9         \n",
      "=================================================================\n",
      "Total params: 567,081\n",
      "Trainable params: 567,081\n",
      "Non-trainable params: 0\n",
      "_________________________________________________________________\n",
      "None\n"
     ]
    },
    {
     "data": {
      "image/png": "[encoded data removed]",
      "text/plain": [
       "<IPython.core.display.Image object>"
      ]
     },
     "execution_count": 22,
     "metadata": {},
     "output_type": "execute_result"
    }
   ],
   "source": [
    "print(lstm.summary())\n",
    "checkpoint_lstm = ModelCheckpoint('./model_checkpoint/lstm.h5', save_best_only=True, verbose=1)\n",
    "lstm.compile(optimizer='adam', loss='binary_crossentropy', metrics=['accuracy'])\n",
    "plot_model(lstm, rankdir='LR', show_shapes=True)"
   ]
  },
  {
   "cell_type": "code",
   "execution_count": 23,
   "id": "d6077c98",
   "metadata": {
    "execution": {
     "iopub.execute_input": "2022-06-10T09:14:31.798327Z",
     "iopub.status.busy": "2022-06-10T09:14:31.797618Z",
     "iopub.status.idle": "2022-06-10T09:18:57.155375Z",
     "shell.execute_reply": "2022-06-10T09:18:57.154565Z"
    },
    "papermill": {
     "duration": 265.585516,
     "end_time": "2022-06-10T09:18:57.367649",
     "exception": false,
     "start_time": "2022-06-10T09:14:31.782133",
     "status": "completed"
    },
    "tags": []
   },
   "outputs": [
    {
     "name": "stderr",
     "output_type": "stream",
     "text": [
      "2022-06-10 09:14:31.879009: I tensorflow/compiler/mlir/mlir_graph_optimization_pass.cc:185] None of the MLIR Optimization Passes are enabled (registered 2)\n"
     ]
    },
    {
     "name": "stdout",
     "output_type": "stream",
     "text": [
      "Epoch 1/100\n"
     ]
    },
    {
     "name": "stderr",
     "output_type": "stream",
     "text": [
      "2022-06-10 09:14:36.078956: I tensorflow/stream_executor/cuda/cuda_dnn.cc:369] Loaded cuDNN version 8005\n"
     ]
    },
    {
     "name": "stdout",
     "output_type": "stream",
     "text": [
      "298/298 [==============================] - 8s 9ms/step - loss: 0.6259 - accuracy: 0.6290 - val_loss: 0.4864 - val_accuracy: 0.7704\n",
      "\n",
      "Epoch 00001: val_loss improved from inf to 0.48642, saving model to ./model_checkpoint/lstm.h5\n",
      "Epoch 2/100\n",
      "298/298 [==============================] - 2s 7ms/step - loss: 0.4692 - accuracy: 0.7815 - val_loss: 0.4560 - val_accuracy: 0.7855\n",
      "\n",
      "Epoch 00002: val_loss improved from 0.48642 to 0.45601, saving model to ./model_checkpoint/lstm.h5\n",
      "Epoch 3/100\n",
      "298/298 [==============================] - 2s 7ms/step - loss: 0.4585 - accuracy: 0.7833 - val_loss: 0.4657 - val_accuracy: 0.7806\n",
      "\n",
      "Epoch 00003: val_loss did not improve from 0.45601\n",
      "Epoch 4/100\n",
      "298/298 [==============================] - 2s 7ms/step - loss: 0.4509 - accuracy: 0.7899 - val_loss: 0.4503 - val_accuracy: 0.7865\n",
      "\n",
      "Epoch 00004: val_loss improved from 0.45601 to 0.45026, saving model to ./model_checkpoint/lstm.h5\n",
      "Epoch 5/100\n",
      "298/298 [==============================] - 2s 7ms/step - loss: 0.4480 - accuracy: 0.7919 - val_loss: 0.4627 - val_accuracy: 0.7741\n",
      "\n",
      "Epoch 00005: val_loss did not improve from 0.45026\n",
      "Epoch 6/100\n",
      "298/298 [==============================] - 2s 8ms/step - loss: 0.4430 - accuracy: 0.7955 - val_loss: 0.4388 - val_accuracy: 0.7979\n",
      "\n",
      "Epoch 00006: val_loss improved from 0.45026 to 0.43877, saving model to ./model_checkpoint/lstm.h5\n",
      "Epoch 7/100\n",
      "298/298 [==============================] - 2s 7ms/step - loss: 0.4413 - accuracy: 0.7955 - val_loss: 0.4505 - val_accuracy: 0.7867\n",
      "\n",
      "Epoch 00007: val_loss did not improve from 0.43877\n",
      "Epoch 8/100\n",
      "298/298 [==============================] - 2s 6ms/step - loss: 0.4407 - accuracy: 0.7942 - val_loss: 0.4563 - val_accuracy: 0.7840\n",
      "\n",
      "Epoch 00008: val_loss did not improve from 0.43877\n",
      "Epoch 9/100\n",
      "298/298 [==============================] - 2s 6ms/step - loss: 0.4394 - accuracy: 0.7953 - val_loss: 0.4360 - val_accuracy: 0.7957\n",
      "\n",
      "Epoch 00009: val_loss improved from 0.43877 to 0.43603, saving model to ./model_checkpoint/lstm.h5\n",
      "Epoch 10/100\n",
      "298/298 [==============================] - 2s 7ms/step - loss: 0.4387 - accuracy: 0.7960 - val_loss: 0.4408 - val_accuracy: 0.7906\n",
      "\n",
      "Epoch 00010: val_loss did not improve from 0.43603\n",
      "Epoch 11/100\n",
      "298/298 [==============================] - 2s 6ms/step - loss: 0.4411 - accuracy: 0.7930 - val_loss: 0.4359 - val_accuracy: 0.7954\n",
      "\n",
      "Epoch 00011: val_loss improved from 0.43603 to 0.43586, saving model to ./model_checkpoint/lstm.h5\n",
      "Epoch 12/100\n",
      "298/298 [==============================] - 2s 7ms/step - loss: 0.4374 - accuracy: 0.7963 - val_loss: 0.4364 - val_accuracy: 0.7984\n",
      "\n",
      "Epoch 00012: val_loss did not improve from 0.43586\n",
      "Epoch 13/100\n",
      "298/298 [==============================] - 2s 7ms/step - loss: 0.4367 - accuracy: 0.7951 - val_loss: 0.4347 - val_accuracy: 0.7953\n",
      "\n",
      "Epoch 00013: val_loss improved from 0.43586 to 0.43466, saving model to ./model_checkpoint/lstm.h5\n",
      "Epoch 14/100\n",
      "298/298 [==============================] - 2s 6ms/step - loss: 0.4371 - accuracy: 0.7961 - val_loss: 0.4327 - val_accuracy: 0.7992\n",
      "\n",
      "Epoch 00014: val_loss improved from 0.43466 to 0.43269, saving model to ./model_checkpoint/lstm.h5\n",
      "Epoch 15/100\n",
      "298/298 [==============================] - 2s 6ms/step - loss: 0.4340 - accuracy: 0.7960 - val_loss: 0.4691 - val_accuracy: 0.7706\n",
      "\n",
      "Epoch 00015: val_loss did not improve from 0.43269\n",
      "Epoch 16/100\n",
      "298/298 [==============================] - 2s 6ms/step - loss: 0.4369 - accuracy: 0.7938 - val_loss: 0.4373 - val_accuracy: 0.7910\n",
      "\n",
      "Epoch 00016: val_loss did not improve from 0.43269\n",
      "Epoch 17/100\n",
      "298/298 [==============================] - 2s 7ms/step - loss: 0.4338 - accuracy: 0.7975 - val_loss: 0.4350 - val_accuracy: 0.7947\n",
      "\n",
      "Epoch 00017: val_loss did not improve from 0.43269\n",
      "Epoch 18/100\n",
      "298/298 [==============================] - 2s 7ms/step - loss: 0.4335 - accuracy: 0.7969 - val_loss: 0.4367 - val_accuracy: 0.7927\n",
      "\n",
      "Epoch 00018: val_loss did not improve from 0.43269\n",
      "Epoch 19/100\n",
      "298/298 [==============================] - 2s 6ms/step - loss: 0.4338 - accuracy: 0.7965 - val_loss: 0.4303 - val_accuracy: 0.8012\n",
      "\n",
      "Epoch 00019: val_loss improved from 0.43269 to 0.43028, saving model to ./model_checkpoint/lstm.h5\n",
      "Epoch 20/100\n",
      "298/298 [==============================] - 2s 6ms/step - loss: 0.4325 - accuracy: 0.7961 - val_loss: 0.4306 - val_accuracy: 0.7988\n",
      "\n",
      "Epoch 00020: val_loss did not improve from 0.43028\n",
      "Epoch 21/100\n",
      "298/298 [==============================] - 2s 6ms/step - loss: 0.4330 - accuracy: 0.7976 - val_loss: 0.4294 - val_accuracy: 0.8003\n",
      "\n",
      "Epoch 00021: val_loss improved from 0.43028 to 0.42941, saving model to ./model_checkpoint/lstm.h5\n",
      "Epoch 22/100\n",
      "298/298 [==============================] - 2s 8ms/step - loss: 0.4328 - accuracy: 0.7959 - val_loss: 0.4454 - val_accuracy: 0.7831\n",
      "\n",
      "Epoch 00022: val_loss did not improve from 0.42941\n",
      "Epoch 23/100\n",
      "298/298 [==============================] - 2s 7ms/step - loss: 0.4321 - accuracy: 0.7966 - val_loss: 0.4339 - val_accuracy: 0.7960\n",
      "\n",
      "Epoch 00023: val_loss did not improve from 0.42941\n",
      "Epoch 24/100\n",
      "298/298 [==============================] - 2s 6ms/step - loss: 0.4317 - accuracy: 0.7968 - val_loss: 0.4347 - val_accuracy: 0.7966\n",
      "\n",
      "Epoch 00024: val_loss did not improve from 0.42941\n",
      "Epoch 25/100\n",
      "298/298 [==============================] - 2s 6ms/step - loss: 0.4311 - accuracy: 0.7963 - val_loss: 0.4622 - val_accuracy: 0.7834\n",
      "\n",
      "Epoch 00025: val_loss did not improve from 0.42941\n",
      "Epoch 26/100\n",
      "298/298 [==============================] - 2s 6ms/step - loss: 0.4323 - accuracy: 0.7962 - val_loss: 0.4325 - val_accuracy: 0.8001\n",
      "\n",
      "Epoch 00026: val_loss did not improve from 0.42941\n",
      "\n",
      "Epoch 00026: ReduceLROnPlateau reducing learning rate to 0.00010000000474974513.\n",
      "Epoch 27/100\n",
      "298/298 [==============================] - 2s 7ms/step - loss: 0.4264 - accuracy: 0.7992 - val_loss: 0.4285 - val_accuracy: 0.8021\n",
      "\n",
      "Epoch 00027: val_loss improved from 0.42941 to 0.42855, saving model to ./model_checkpoint/lstm.h5\n",
      "Epoch 28/100\n",
      "298/298 [==============================] - 2s 7ms/step - loss: 0.4253 - accuracy: 0.8008 - val_loss: 0.4286 - val_accuracy: 0.7999\n",
      "\n",
      "Epoch 00028: val_loss did not improve from 0.42855\n",
      "Epoch 29/100\n",
      "298/298 [==============================] - 2s 7ms/step - loss: 0.4255 - accuracy: 0.8000 - val_loss: 0.4286 - val_accuracy: 0.7997\n",
      "\n",
      "Epoch 00029: val_loss did not improve from 0.42855\n",
      "Epoch 30/100\n",
      "298/298 [==============================] - 2s 6ms/step - loss: 0.4250 - accuracy: 0.7989 - val_loss: 0.4298 - val_accuracy: 0.7984\n",
      "\n",
      "Epoch 00030: val_loss did not improve from 0.42855\n",
      "Epoch 31/100\n",
      "298/298 [==============================] - 2s 6ms/step - loss: 0.4252 - accuracy: 0.8006 - val_loss: 0.4290 - val_accuracy: 0.7996\n",
      "\n",
      "Epoch 00031: val_loss did not improve from 0.42855\n",
      "Epoch 32/100\n",
      "298/298 [==============================] - 2s 6ms/step - loss: 0.4251 - accuracy: 0.8008 - val_loss: 0.4283 - val_accuracy: 0.8016\n",
      "\n",
      "Epoch 00032: val_loss improved from 0.42855 to 0.42827, saving model to ./model_checkpoint/lstm.h5\n",
      "Epoch 33/100\n",
      "298/298 [==============================] - 2s 7ms/step - loss: 0.4253 - accuracy: 0.8000 - val_loss: 0.4301 - val_accuracy: 0.7982\n",
      "\n",
      "Epoch 00033: val_loss did not improve from 0.42827\n",
      "Epoch 34/100\n",
      "298/298 [==============================] - 2s 7ms/step - loss: 0.4249 - accuracy: 0.8014 - val_loss: 0.4284 - val_accuracy: 0.8024\n",
      "\n",
      "Epoch 00034: val_loss did not improve from 0.42827\n",
      "Epoch 35/100\n",
      "298/298 [==============================] - 2s 7ms/step - loss: 0.4252 - accuracy: 0.7999 - val_loss: 0.4282 - val_accuracy: 0.8004\n",
      "\n",
      "Epoch 00035: val_loss improved from 0.42827 to 0.42824, saving model to ./model_checkpoint/lstm.h5\n",
      "Epoch 36/100\n",
      "298/298 [==============================] - 2s 6ms/step - loss: 0.4253 - accuracy: 0.8003 - val_loss: 0.4283 - val_accuracy: 0.7993\n",
      "\n",
      "Epoch 00036: val_loss did not improve from 0.42824\n",
      "Epoch 37/100\n",
      "298/298 [==============================] - 2s 6ms/step - loss: 0.4252 - accuracy: 0.7999 - val_loss: 0.4282 - val_accuracy: 0.8009\n",
      "\n",
      "Epoch 00037: val_loss improved from 0.42824 to 0.42820, saving model to ./model_checkpoint/lstm.h5\n",
      "\n",
      "Epoch 00037: ReduceLROnPlateau reducing learning rate to 1.0000000474974514e-05.\n",
      "Epoch 38/100\n",
      "298/298 [==============================] - 2s 7ms/step - loss: 0.4243 - accuracy: 0.8015 - val_loss: 0.4281 - val_accuracy: 0.8009\n",
      "\n",
      "Epoch 00038: val_loss improved from 0.42820 to 0.42808, saving model to ./model_checkpoint/lstm.h5\n",
      "Epoch 39/100\n",
      "298/298 [==============================] - 2s 7ms/step - loss: 0.4242 - accuracy: 0.8015 - val_loss: 0.4285 - val_accuracy: 0.7998\n",
      "\n",
      "Epoch 00039: val_loss did not improve from 0.42808\n",
      "Epoch 40/100\n",
      "298/298 [==============================] - 2s 7ms/step - loss: 0.4242 - accuracy: 0.8017 - val_loss: 0.4281 - val_accuracy: 0.8007\n",
      "\n",
      "Epoch 00040: val_loss did not improve from 0.42808\n",
      "Epoch 41/100\n",
      "298/298 [==============================] - 2s 7ms/step - loss: 0.4242 - accuracy: 0.8018 - val_loss: 0.4282 - val_accuracy: 0.7997\n",
      "\n",
      "Epoch 00041: val_loss did not improve from 0.42808\n",
      "Epoch 42/100\n",
      "298/298 [==============================] - 2s 7ms/step - loss: 0.4242 - accuracy: 0.8013 - val_loss: 0.4283 - val_accuracy: 0.8005\n",
      "\n",
      "Epoch 00042: val_loss did not improve from 0.42808\n",
      "Epoch 43/100\n",
      "298/298 [==============================] - 2s 6ms/step - loss: 0.4242 - accuracy: 0.8015 - val_loss: 0.4281 - val_accuracy: 0.8010\n",
      "\n",
      "Epoch 00043: val_loss did not improve from 0.42808\n",
      "\n",
      "Epoch 00043: ReduceLROnPlateau reducing learning rate to 1.0000000656873453e-06.\n",
      "Epoch 44/100\n",
      "298/298 [==============================] - 2s 7ms/step - loss: 0.4241 - accuracy: 0.8016 - val_loss: 0.4281 - val_accuracy: 0.8001\n",
      "\n",
      "Epoch 00044: val_loss did not improve from 0.42808\n",
      "Epoch 45/100\n",
      "298/298 [==============================] - 2s 7ms/step - loss: 0.4241 - accuracy: 0.8014 - val_loss: 0.4282 - val_accuracy: 0.7998\n",
      "\n",
      "Epoch 00045: val_loss did not improve from 0.42808\n",
      "Epoch 46/100\n",
      "298/298 [==============================] - 2s 6ms/step - loss: 0.4241 - accuracy: 0.8014 - val_loss: 0.4282 - val_accuracy: 0.7999\n",
      "\n",
      "Epoch 00046: val_loss did not improve from 0.42808\n",
      "Epoch 47/100\n",
      "298/298 [==============================] - 2s 7ms/step - loss: 0.4241 - accuracy: 0.8014 - val_loss: 0.4282 - val_accuracy: 0.7999\n",
      "\n",
      "Epoch 00047: val_loss did not improve from 0.42808\n",
      "Epoch 48/100\n",
      "298/298 [==============================] - 2s 6ms/step - loss: 0.4241 - accuracy: 0.8016 - val_loss: 0.4282 - val_accuracy: 0.7998\n",
      "\n",
      "Epoch 00048: val_loss did not improve from 0.42808\n",
      "\n",
      "Epoch 00048: ReduceLROnPlateau reducing learning rate to 1.0000001111620805e-07.\n",
      "Epoch 49/100\n",
      "298/298 [==============================] - 2s 6ms/step - loss: 0.4241 - accuracy: 0.8014 - val_loss: 0.4282 - val_accuracy: 0.7998\n",
      "\n",
      "Epoch 00049: val_loss did not improve from 0.42808\n",
      "Epoch 50/100\n",
      "298/298 [==============================] - 2s 6ms/step - loss: 0.4241 - accuracy: 0.8013 - val_loss: 0.4282 - val_accuracy: 0.7998\n",
      "\n",
      "Epoch 00050: val_loss did not improve from 0.42808\n",
      "Epoch 51/100\n",
      "298/298 [==============================] - 2s 7ms/step - loss: 0.4241 - accuracy: 0.8014 - val_loss: 0.4282 - val_accuracy: 0.7998\n",
      "\n",
      "Epoch 00051: val_loss did not improve from 0.42808\n",
      "Epoch 52/100\n",
      "298/298 [==============================] - 2s 6ms/step - loss: 0.4241 - accuracy: 0.8013 - val_loss: 0.4282 - val_accuracy: 0.7998\n",
      "\n",
      "Epoch 00052: val_loss did not improve from 0.42808\n",
      "Epoch 53/100\n",
      "298/298 [==============================] - 2s 6ms/step - loss: 0.4241 - accuracy: 0.8014 - val_loss: 0.4282 - val_accuracy: 0.7998\n",
      "\n",
      "Epoch 00053: val_loss did not improve from 0.42808\n",
      "\n",
      "Epoch 00053: ReduceLROnPlateau reducing learning rate to 1.000000082740371e-08.\n",
      "Epoch 54/100\n",
      "298/298 [==============================] - 2s 6ms/step - loss: 0.4241 - accuracy: 0.8013 - val_loss: 0.4282 - val_accuracy: 0.7998\n",
      "\n",
      "Epoch 00054: val_loss did not improve from 0.42808\n",
      "Epoch 55/100\n",
      "298/298 [==============================] - 2s 8ms/step - loss: 0.4241 - accuracy: 0.8013 - val_loss: 0.4282 - val_accuracy: 0.7998\n",
      "\n",
      "Epoch 00055: val_loss did not improve from 0.42808\n",
      "Epoch 56/100\n",
      "298/298 [==============================] - 2s 7ms/step - loss: 0.4241 - accuracy: 0.8013 - val_loss: 0.4282 - val_accuracy: 0.7998\n",
      "\n",
      "Epoch 00056: val_loss did not improve from 0.42808\n",
      "Epoch 57/100\n",
      "298/298 [==============================] - 2s 7ms/step - loss: 0.4241 - accuracy: 0.8013 - val_loss: 0.4282 - val_accuracy: 0.7998\n",
      "\n",
      "Epoch 00057: val_loss did not improve from 0.42808\n",
      "Epoch 58/100\n",
      "298/298 [==============================] - 2s 6ms/step - loss: 0.4241 - accuracy: 0.8013 - val_loss: 0.4282 - val_accuracy: 0.7998\n",
      "\n",
      "Epoch 00058: val_loss did not improve from 0.42808\n",
      "\n",
      "Epoch 00058: ReduceLROnPlateau reducing learning rate to 1.000000082740371e-09.\n",
      "Epoch 59/100\n",
      "298/298 [==============================] - 2s 6ms/step - loss: 0.4241 - accuracy: 0.8013 - val_loss: 0.4282 - val_accuracy: 0.7998\n",
      "\n",
      "Epoch 00059: val_loss did not improve from 0.42808\n",
      "Epoch 60/100\n",
      "298/298 [==============================] - 2s 6ms/step - loss: 0.4241 - accuracy: 0.8013 - val_loss: 0.4282 - val_accuracy: 0.7998\n",
      "\n",
      "Epoch 00060: val_loss did not improve from 0.42808\n",
      "Epoch 61/100\n",
      "298/298 [==============================] - 2s 6ms/step - loss: 0.4241 - accuracy: 0.8013 - val_loss: 0.4282 - val_accuracy: 0.7998\n",
      "\n",
      "Epoch 00061: val_loss did not improve from 0.42808\n",
      "Epoch 62/100\n",
      "298/298 [==============================] - 2s 7ms/step - loss: 0.4241 - accuracy: 0.8013 - val_loss: 0.4282 - val_accuracy: 0.7998\n",
      "\n",
      "Epoch 00062: val_loss did not improve from 0.42808\n",
      "Epoch 63/100\n",
      "298/298 [==============================] - 2s 7ms/step - loss: 0.4241 - accuracy: 0.8013 - val_loss: 0.4282 - val_accuracy: 0.7998\n",
      "\n",
      "Epoch 00063: val_loss did not improve from 0.42808\n",
      "\n",
      "Epoch 00063: ReduceLROnPlateau reducing learning rate to 1.000000082740371e-10.\n",
      "Epoch 64/100\n",
      "298/298 [==============================] - 2s 7ms/step - loss: 0.4241 - accuracy: 0.8013 - val_loss: 0.4282 - val_accuracy: 0.7998\n",
      "\n",
      "Epoch 00064: val_loss did not improve from 0.42808\n",
      "Epoch 65/100\n",
      "298/298 [==============================] - 2s 6ms/step - loss: 0.4241 - accuracy: 0.8013 - val_loss: 0.4282 - val_accuracy: 0.7998\n",
      "\n",
      "Epoch 00065: val_loss did not improve from 0.42808\n",
      "Epoch 66/100\n",
      "298/298 [==============================] - 2s 6ms/step - loss: 0.4241 - accuracy: 0.8013 - val_loss: 0.4282 - val_accuracy: 0.7998\n",
      "\n",
      "Epoch 00066: val_loss did not improve from 0.42808\n",
      "Epoch 67/100\n",
      "298/298 [==============================] - 2s 7ms/step - loss: 0.4241 - accuracy: 0.8013 - val_loss: 0.4282 - val_accuracy: 0.7998\n",
      "\n",
      "Epoch 00067: val_loss did not improve from 0.42808\n",
      "Epoch 68/100\n",
      "298/298 [==============================] - 2s 7ms/step - loss: 0.4241 - accuracy: 0.8013 - val_loss: 0.4282 - val_accuracy: 0.7998\n",
      "\n",
      "Epoch 00068: val_loss did not improve from 0.42808\n",
      "\n",
      "Epoch 00068: ReduceLROnPlateau reducing learning rate to 1.000000082740371e-11.\n",
      "Epoch 69/100\n",
      "298/298 [==============================] - 2s 6ms/step - loss: 0.4241 - accuracy: 0.8013 - val_loss: 0.4282 - val_accuracy: 0.7998\n",
      "\n",
      "Epoch 00069: val_loss did not improve from 0.42808\n",
      "Epoch 70/100\n",
      "298/298 [==============================] - 2s 6ms/step - loss: 0.4241 - accuracy: 0.8013 - val_loss: 0.4282 - val_accuracy: 0.7998\n",
      "\n",
      "Epoch 00070: val_loss did not improve from 0.42808\n",
      "Epoch 71/100\n",
      "298/298 [==============================] - 2s 6ms/step - loss: 0.4241 - accuracy: 0.8013 - val_loss: 0.4282 - val_accuracy: 0.7998\n",
      "\n",
      "Epoch 00071: val_loss did not improve from 0.42808\n",
      "Epoch 72/100\n",
      "298/298 [==============================] - 2s 8ms/step - loss: 0.4241 - accuracy: 0.8013 - val_loss: 0.4282 - val_accuracy: 0.7998\n",
      "\n",
      "Epoch 00072: val_loss did not improve from 0.42808\n",
      "Epoch 73/100\n",
      "298/298 [==============================] - 2s 7ms/step - loss: 0.4241 - accuracy: 0.8013 - val_loss: 0.4282 - val_accuracy: 0.7998\n",
      "\n",
      "Epoch 00073: val_loss did not improve from 0.42808\n",
      "\n",
      "Epoch 00073: ReduceLROnPlateau reducing learning rate to 1.000000082740371e-12.\n",
      "Epoch 74/100\n",
      "298/298 [==============================] - 2s 6ms/step - loss: 0.4241 - accuracy: 0.8013 - val_loss: 0.4282 - val_accuracy: 0.7998\n",
      "\n",
      "Epoch 00074: val_loss did not improve from 0.42808\n",
      "Epoch 75/100\n",
      "298/298 [==============================] - 2s 6ms/step - loss: 0.4241 - accuracy: 0.8013 - val_loss: 0.4282 - val_accuracy: 0.7998\n",
      "\n",
      "Epoch 00075: val_loss did not improve from 0.42808\n",
      "Epoch 76/100\n",
      "298/298 [==============================] - 2s 7ms/step - loss: 0.4241 - accuracy: 0.8013 - val_loss: 0.4282 - val_accuracy: 0.7998\n",
      "\n",
      "Epoch 00076: val_loss did not improve from 0.42808\n",
      "Epoch 77/100\n",
      "298/298 [==============================] - 2s 7ms/step - loss: 0.4241 - accuracy: 0.8013 - val_loss: 0.4282 - val_accuracy: 0.7998\n",
      "\n",
      "Epoch 00077: val_loss did not improve from 0.42808\n",
      "Epoch 78/100\n",
      "298/298 [==============================] - 2s 7ms/step - loss: 0.4241 - accuracy: 0.8013 - val_loss: 0.4282 - val_accuracy: 0.7998\n",
      "\n",
      "Epoch 00078: val_loss did not improve from 0.42808\n",
      "\n",
      "Epoch 00078: ReduceLROnPlateau reducing learning rate to 1.0000001044244145e-13.\n",
      "Epoch 79/100\n",
      "298/298 [==============================] - 2s 7ms/step - loss: 0.4241 - accuracy: 0.8013 - val_loss: 0.4282 - val_accuracy: 0.7998\n",
      "\n",
      "Epoch 00079: val_loss did not improve from 0.42808\n",
      "Epoch 80/100\n",
      "298/298 [==============================] - 2s 6ms/step - loss: 0.4241 - accuracy: 0.8013 - val_loss: 0.4282 - val_accuracy: 0.7998\n",
      "\n",
      "Epoch 00080: val_loss did not improve from 0.42808\n",
      "Epoch 81/100\n",
      "298/298 [==============================] - 2s 6ms/step - loss: 0.4241 - accuracy: 0.8013 - val_loss: 0.4282 - val_accuracy: 0.7998\n",
      "\n",
      "Epoch 00081: val_loss did not improve from 0.42808\n",
      "Epoch 82/100\n",
      "298/298 [==============================] - 2s 6ms/step - loss: 0.4241 - accuracy: 0.8013 - val_loss: 0.4282 - val_accuracy: 0.7998\n",
      "\n",
      "Epoch 00082: val_loss did not improve from 0.42808\n",
      "Epoch 83/100\n",
      "298/298 [==============================] - 2s 6ms/step - loss: 0.4241 - accuracy: 0.8013 - val_loss: 0.4282 - val_accuracy: 0.7998\n",
      "\n",
      "Epoch 00083: val_loss did not improve from 0.42808\n",
      "\n",
      "Epoch 00083: ReduceLROnPlateau reducing learning rate to 1.0000001179769417e-14.\n",
      "Epoch 84/100\n",
      "298/298 [==============================] - 2s 7ms/step - loss: 0.4241 - accuracy: 0.8013 - val_loss: 0.4282 - val_accuracy: 0.7998\n",
      "\n",
      "Epoch 00084: val_loss did not improve from 0.42808\n",
      "Epoch 85/100\n",
      "298/298 [==============================] - 2s 6ms/step - loss: 0.4241 - accuracy: 0.8013 - val_loss: 0.4282 - val_accuracy: 0.7998\n",
      "\n",
      "Epoch 00085: val_loss did not improve from 0.42808\n",
      "Epoch 86/100\n",
      "298/298 [==============================] - 2s 6ms/step - loss: 0.4241 - accuracy: 0.8013 - val_loss: 0.4282 - val_accuracy: 0.7998\n",
      "\n",
      "Epoch 00086: val_loss did not improve from 0.42808\n",
      "Epoch 87/100\n",
      "298/298 [==============================] - 2s 6ms/step - loss: 0.4241 - accuracy: 0.8013 - val_loss: 0.4282 - val_accuracy: 0.7998\n",
      "\n",
      "Epoch 00087: val_loss did not improve from 0.42808\n",
      "Epoch 88/100\n",
      "298/298 [==============================] - 2s 8ms/step - loss: 0.4241 - accuracy: 0.8013 - val_loss: 0.4282 - val_accuracy: 0.7998\n",
      "\n",
      "Epoch 00088: val_loss did not improve from 0.42808\n",
      "\n",
      "Epoch 00088: ReduceLROnPlateau reducing learning rate to 1.0000001518582595e-15.\n",
      "Epoch 89/100\n",
      "298/298 [==============================] - 2s 7ms/step - loss: 0.4241 - accuracy: 0.8013 - val_loss: 0.4282 - val_accuracy: 0.7998\n",
      "\n",
      "Epoch 00089: val_loss did not improve from 0.42808\n",
      "Epoch 90/100\n",
      "298/298 [==============================] - 2s 7ms/step - loss: 0.4241 - accuracy: 0.8013 - val_loss: 0.4282 - val_accuracy: 0.7998\n",
      "\n",
      "Epoch 00090: val_loss did not improve from 0.42808\n",
      "Epoch 91/100\n",
      "298/298 [==============================] - 2s 6ms/step - loss: 0.4241 - accuracy: 0.8013 - val_loss: 0.4282 - val_accuracy: 0.7998\n",
      "\n",
      "Epoch 00091: val_loss did not improve from 0.42808\n",
      "Epoch 92/100\n",
      "298/298 [==============================] - 2s 6ms/step - loss: 0.4241 - accuracy: 0.8013 - val_loss: 0.4282 - val_accuracy: 0.7998\n",
      "\n",
      "Epoch 00092: val_loss did not improve from 0.42808\n",
      "Epoch 93/100\n",
      "298/298 [==============================] - 2s 7ms/step - loss: 0.4241 - accuracy: 0.8013 - val_loss: 0.4282 - val_accuracy: 0.7998\n",
      "\n",
      "Epoch 00093: val_loss did not improve from 0.42808\n",
      "\n",
      "Epoch 00093: ReduceLROnPlateau reducing learning rate to 1.0000001095066122e-16.\n",
      "Epoch 94/100\n",
      "298/298 [==============================] - 2s 6ms/step - loss: 0.4241 - accuracy: 0.8013 - val_loss: 0.4282 - val_accuracy: 0.7998\n",
      "\n",
      "Epoch 00094: val_loss did not improve from 0.42808\n",
      "Epoch 95/100\n",
      "298/298 [==============================] - 2s 7ms/step - loss: 0.4241 - accuracy: 0.8013 - val_loss: 0.4282 - val_accuracy: 0.7998\n",
      "\n",
      "Epoch 00095: val_loss did not improve from 0.42808\n",
      "Epoch 96/100\n",
      "298/298 [==============================] - 2s 6ms/step - loss: 0.4241 - accuracy: 0.8013 - val_loss: 0.4282 - val_accuracy: 0.7998\n",
      "\n",
      "Epoch 00096: val_loss did not improve from 0.42808\n",
      "Epoch 97/100\n",
      "298/298 [==============================] - 2s 6ms/step - loss: 0.4241 - accuracy: 0.8013 - val_loss: 0.4282 - val_accuracy: 0.7998\n",
      "\n",
      "Epoch 00097: val_loss did not improve from 0.42808\n",
      "Epoch 98/100\n",
      "298/298 [==============================] - 2s 6ms/step - loss: 0.4241 - accuracy: 0.8013 - val_loss: 0.4282 - val_accuracy: 0.7998\n",
      "\n",
      "Epoch 00098: val_loss did not improve from 0.42808\n",
      "\n",
      "Epoch 00098: ReduceLROnPlateau reducing learning rate to 1.0000000830368326e-17.\n",
      "Epoch 99/100\n",
      "298/298 [==============================] - 2s 6ms/step - loss: 0.4241 - accuracy: 0.8013 - val_loss: 0.4282 - val_accuracy: 0.7998\n",
      "\n",
      "Epoch 00099: val_loss did not improve from 0.42808\n",
      "Epoch 100/100\n",
      "298/298 [==============================] - 2s 6ms/step - loss: 0.4241 - accuracy: 0.8013 - val_loss: 0.4282 - val_accuracy: 0.7998\n",
      "\n",
      "Epoch 00100: val_loss did not improve from 0.42808\n"
     ]
    },
    {
     "data": {
      "text/plain": [
       "<keras.callbacks.History at 0x7f48ab97b350>"
      ]
     },
     "execution_count": 23,
     "metadata": {},
     "output_type": "execute_result"
    }
   ],
   "source": [
    "lstm.fit(X_train.reshape(X_train.shape[0], -1, 100), label_train, epochs=100, batch_size=100,\n",
    "        validation_data=(X_validation.reshape(X_validation.shape[0], -1, 100), label_validation), \n",
    "        callbacks=[checkpoint_lstm, reduce_lr])"
   ]
  },
  {
   "cell_type": "markdown",
   "id": "f8693146",
   "metadata": {
    "papermill": {
     "duration": 0.209834,
     "end_time": "2022-06-10T09:18:57.790100",
     "exception": false,
     "start_time": "2022-06-10T09:18:57.580266",
     "status": "completed"
    },
    "tags": []
   },
   "source": [
    "# LSTM with Self-Attention"
   ]
  },
  {
   "cell_type": "code",
   "execution_count": 24,
   "id": "4c9caedf",
   "metadata": {
    "execution": {
     "iopub.execute_input": "2022-06-10T09:18:58.234901Z",
     "iopub.status.busy": "2022-06-10T09:18:58.234536Z",
     "iopub.status.idle": "2022-06-10T09:18:59.127668Z",
     "shell.execute_reply": "2022-06-10T09:18:59.126863Z"
    },
    "papermill": {
     "duration": 1.126212,
     "end_time": "2022-06-10T09:18:59.129719",
     "exception": false,
     "start_time": "2022-06-10T09:18:58.003507",
     "status": "completed"
    },
    "tags": []
   },
   "outputs": [],
   "source": [
    "lstm1_input = Input(shape=(1, EMBEDDING_DIM))\n",
    "self_attention = SeqSelfAttention() (lstm1_input)\n",
    "x = LSTM(256, return_sequences=True) (self_attention)\n",
    "x = LSTM(128, return_sequences=True) (x)\n",
    "lstm1_output = Dense(1, activation='sigmoid') (x)\n",
    "lstm1 = Model(lstm1_input, lstm1_output)"
   ]
  },
  {
   "cell_type": "code",
   "execution_count": 25,
   "id": "a3680b92",
   "metadata": {
    "execution": {
     "iopub.execute_input": "2022-06-10T09:18:59.594962Z",
     "iopub.status.busy": "2022-06-10T09:18:59.594501Z",
     "iopub.status.idle": "2022-06-10T09:18:59.730008Z",
     "shell.execute_reply": "2022-06-10T09:18:59.728922Z"
    },
    "papermill": {
     "duration": 0.392082,
     "end_time": "2022-06-10T09:18:59.732106",
     "exception": false,
     "start_time": "2022-06-10T09:18:59.340024",
     "status": "completed"
    },
    "tags": []
   },
   "outputs": [
    {
     "name": "stdout",
     "output_type": "stream",
     "text": [
      "Model: \"model\"\n",
      "_________________________________________________________________\n",
      "Layer (type)                 Output Shape              Param #   \n",
      "=================================================================\n",
      "input_4 (InputLayer)         [(None, 1, 100)]          0         \n",
      "_________________________________________________________________\n",
      "seq_self_attention (SeqSelfA (None, None, 100)         6465      \n",
      "_________________________________________________________________\n",
      "lstm_3 (LSTM)                (None, None, 256)         365568    \n",
      "_________________________________________________________________\n",
      "lstm_4 (LSTM)                (None, None, 128)         197120    \n",
      "_________________________________________________________________\n",
      "dense_6 (Dense)              (None, None, 1)           129       \n",
      "=================================================================\n",
      "Total params: 569,282\n",
      "Trainable params: 569,282\n",
      "Non-trainable params: 0\n",
      "_________________________________________________________________\n",
      "None\n"
     ]
    },
    {
     "data": {
      "image/png": "[encoded data removed]",
      "text/plain": [
       "<IPython.core.display.Image object>"
      ]
     },
     "execution_count": 25,
     "metadata": {},
     "output_type": "execute_result"
    }
   ],
   "source": [
    "print(lstm1.summary())\n",
    "checkpoint_lstm1 = ModelCheckpoint('./model_checkpoint/lstm1.h5', save_best_only=True, verbose=1)\n",
    "lstm1.compile(optimizer='adam', loss='binary_crossentropy', metrics=['accuracy'])\n",
    "plot_model(lstm1, rankdir='LR', show_shapes=True)"
   ]
  },
  {
   "cell_type": "code",
   "execution_count": 26,
   "id": "6e7aea33",
   "metadata": {
    "execution": {
     "iopub.execute_input": "2022-06-10T09:19:00.158475Z",
     "iopub.status.busy": "2022-06-10T09:19:00.158092Z",
     "iopub.status.idle": "2022-06-10T09:22:19.479692Z",
     "shell.execute_reply": "2022-06-10T09:22:19.478894Z"
    },
    "papermill": {
     "duration": 199.535091,
     "end_time": "2022-06-10T09:22:19.481403",
     "exception": false,
     "start_time": "2022-06-10T09:18:59.946312",
     "status": "completed"
    },
    "tags": []
   },
   "outputs": [
    {
     "name": "stdout",
     "output_type": "stream",
     "text": [
      "Epoch 1/100\n",
      "298/298 [==============================] - 6s 10ms/step - loss: 0.6140 - accuracy: 0.6543 - val_loss: 0.4849 - val_accuracy: 0.7743\n",
      "\n",
      "Epoch 00001: val_loss improved from inf to 0.48490, saving model to ./model_checkpoint/lstm1.h5\n",
      "Epoch 2/100\n",
      "298/298 [==============================] - 2s 7ms/step - loss: 0.4748 - accuracy: 0.7804 - val_loss: 0.4668 - val_accuracy: 0.7767\n",
      "\n",
      "Epoch 00002: val_loss improved from 0.48490 to 0.46685, saving model to ./model_checkpoint/lstm1.h5\n",
      "Epoch 3/100\n",
      "298/298 [==============================] - 2s 6ms/step - loss: 0.4612 - accuracy: 0.7838 - val_loss: 0.4712 - val_accuracy: 0.7784\n",
      "\n",
      "Epoch 00003: val_loss did not improve from 0.46685\n",
      "Epoch 4/100\n",
      "298/298 [==============================] - 2s 6ms/step - loss: 0.4523 - accuracy: 0.7893 - val_loss: 0.4488 - val_accuracy: 0.7876\n",
      "\n",
      "Epoch 00004: val_loss improved from 0.46685 to 0.44885, saving model to ./model_checkpoint/lstm1.h5\n",
      "Epoch 5/100\n",
      "298/298 [==============================] - 2s 6ms/step - loss: 0.4491 - accuracy: 0.7902 - val_loss: 0.4605 - val_accuracy: 0.7739\n",
      "\n",
      "Epoch 00005: val_loss did not improve from 0.44885\n",
      "Epoch 6/100\n",
      "298/298 [==============================] - 2s 6ms/step - loss: 0.4435 - accuracy: 0.7941 - val_loss: 0.4397 - val_accuracy: 0.7974\n",
      "\n",
      "Epoch 00006: val_loss improved from 0.44885 to 0.43967, saving model to ./model_checkpoint/lstm1.h5\n",
      "Epoch 7/100\n",
      "298/298 [==============================] - 3s 9ms/step - loss: 0.4423 - accuracy: 0.7955 - val_loss: 0.4449 - val_accuracy: 0.7912\n",
      "\n",
      "Epoch 00007: val_loss did not improve from 0.43967\n",
      "Epoch 8/100\n",
      "298/298 [==============================] - 2s 6ms/step - loss: 0.4416 - accuracy: 0.7940 - val_loss: 0.4579 - val_accuracy: 0.7847\n",
      "\n",
      "Epoch 00008: val_loss did not improve from 0.43967\n",
      "Epoch 9/100\n",
      "298/298 [==============================] - 2s 6ms/step - loss: 0.4407 - accuracy: 0.7961 - val_loss: 0.4390 - val_accuracy: 0.7934\n",
      "\n",
      "Epoch 00009: val_loss improved from 0.43967 to 0.43899, saving model to ./model_checkpoint/lstm1.h5\n",
      "Epoch 10/100\n",
      "298/298 [==============================] - 2s 6ms/step - loss: 0.4401 - accuracy: 0.7953 - val_loss: 0.4420 - val_accuracy: 0.7900\n",
      "\n",
      "Epoch 00010: val_loss did not improve from 0.43899\n",
      "Epoch 11/100\n",
      "298/298 [==============================] - 2s 6ms/step - loss: 0.4426 - accuracy: 0.7927 - val_loss: 0.4382 - val_accuracy: 0.7928\n",
      "\n",
      "Epoch 00011: val_loss improved from 0.43899 to 0.43821, saving model to ./model_checkpoint/lstm1.h5\n",
      "Epoch 12/100\n",
      "298/298 [==============================] - 2s 7ms/step - loss: 0.4393 - accuracy: 0.7959 - val_loss: 0.4365 - val_accuracy: 0.7987\n",
      "\n",
      "Epoch 00012: val_loss improved from 0.43821 to 0.43652, saving model to ./model_checkpoint/lstm1.h5\n",
      "Epoch 13/100\n",
      "298/298 [==============================] - 2s 6ms/step - loss: 0.4386 - accuracy: 0.7944 - val_loss: 0.4368 - val_accuracy: 0.7940\n",
      "\n",
      "Epoch 00013: val_loss did not improve from 0.43652\n",
      "Epoch 14/100\n",
      "298/298 [==============================] - 2s 7ms/step - loss: 0.4391 - accuracy: 0.7956 - val_loss: 0.4349 - val_accuracy: 0.7990\n",
      "\n",
      "Epoch 00014: val_loss improved from 0.43652 to 0.43495, saving model to ./model_checkpoint/lstm1.h5\n",
      "Epoch 15/100\n",
      "298/298 [==============================] - 2s 6ms/step - loss: 0.4362 - accuracy: 0.7959 - val_loss: 0.4672 - val_accuracy: 0.7713\n",
      "\n",
      "Epoch 00015: val_loss did not improve from 0.43495\n",
      "Epoch 16/100\n",
      "298/298 [==============================] - 2s 6ms/step - loss: 0.4396 - accuracy: 0.7935 - val_loss: 0.4371 - val_accuracy: 0.7944\n",
      "\n",
      "Epoch 00016: val_loss did not improve from 0.43495\n",
      "Epoch 17/100\n",
      "298/298 [==============================] - 2s 6ms/step - loss: 0.4358 - accuracy: 0.7983 - val_loss: 0.4363 - val_accuracy: 0.7967\n",
      "\n",
      "Epoch 00017: val_loss did not improve from 0.43495\n",
      "Epoch 18/100\n",
      "298/298 [==============================] - 2s 7ms/step - loss: 0.4357 - accuracy: 0.7968 - val_loss: 0.4367 - val_accuracy: 0.7943\n",
      "\n",
      "Epoch 00018: val_loss did not improve from 0.43495\n",
      "Epoch 19/100\n",
      "298/298 [==============================] - 2s 6ms/step - loss: 0.4363 - accuracy: 0.7961 - val_loss: 0.4330 - val_accuracy: 0.8009\n",
      "\n",
      "Epoch 00019: val_loss improved from 0.43495 to 0.43302, saving model to ./model_checkpoint/lstm1.h5\n",
      "Epoch 20/100\n",
      "298/298 [==============================] - 2s 6ms/step - loss: 0.4353 - accuracy: 0.7958 - val_loss: 0.4327 - val_accuracy: 0.7988\n",
      "\n",
      "Epoch 00020: val_loss improved from 0.43302 to 0.43275, saving model to ./model_checkpoint/lstm1.h5\n",
      "Epoch 21/100\n",
      "298/298 [==============================] - 2s 6ms/step - loss: 0.4356 - accuracy: 0.7969 - val_loss: 0.4320 - val_accuracy: 0.8000\n",
      "\n",
      "Epoch 00021: val_loss improved from 0.43275 to 0.43198, saving model to ./model_checkpoint/lstm1.h5\n",
      "Epoch 22/100\n",
      "298/298 [==============================] - 2s 6ms/step - loss: 0.4351 - accuracy: 0.7961 - val_loss: 0.4414 - val_accuracy: 0.7887\n",
      "\n",
      "Epoch 00022: val_loss did not improve from 0.43198\n",
      "Epoch 23/100\n",
      "298/298 [==============================] - 2s 6ms/step - loss: 0.4344 - accuracy: 0.7966 - val_loss: 0.4391 - val_accuracy: 0.7954\n",
      "\n",
      "Epoch 00023: val_loss did not improve from 0.43198\n",
      "Epoch 24/100\n",
      "298/298 [==============================] - 3s 9ms/step - loss: 0.4344 - accuracy: 0.7963 - val_loss: 0.4368 - val_accuracy: 0.7967\n",
      "\n",
      "Epoch 00024: val_loss did not improve from 0.43198\n",
      "Epoch 25/100\n",
      "298/298 [==============================] - 2s 6ms/step - loss: 0.4343 - accuracy: 0.7962 - val_loss: 0.4644 - val_accuracy: 0.7825\n",
      "\n",
      "Epoch 00025: val_loss did not improve from 0.43198\n",
      "Epoch 26/100\n",
      "298/298 [==============================] - 2s 6ms/step - loss: 0.4350 - accuracy: 0.7968 - val_loss: 0.4343 - val_accuracy: 0.7988\n",
      "\n",
      "Epoch 00026: val_loss did not improve from 0.43198\n",
      "\n",
      "Epoch 00026: ReduceLROnPlateau reducing learning rate to 0.00010000000474974513.\n",
      "Epoch 27/100\n",
      "298/298 [==============================] - 2s 6ms/step - loss: 0.4291 - accuracy: 0.7999 - val_loss: 0.4310 - val_accuracy: 0.8010\n",
      "\n",
      "Epoch 00027: val_loss improved from 0.43198 to 0.43104, saving model to ./model_checkpoint/lstm1.h5\n",
      "Epoch 28/100\n",
      "298/298 [==============================] - 2s 6ms/step - loss: 0.4284 - accuracy: 0.8013 - val_loss: 0.4313 - val_accuracy: 0.7997\n",
      "\n",
      "Epoch 00028: val_loss did not improve from 0.43104\n",
      "Epoch 29/100\n",
      "298/298 [==============================] - 2s 7ms/step - loss: 0.4286 - accuracy: 0.7995 - val_loss: 0.4308 - val_accuracy: 0.8004\n",
      "\n",
      "Epoch 00029: val_loss improved from 0.43104 to 0.43084, saving model to ./model_checkpoint/lstm1.h5\n",
      "Epoch 30/100\n",
      "298/298 [==============================] - 2s 7ms/step - loss: 0.4281 - accuracy: 0.7992 - val_loss: 0.4324 - val_accuracy: 0.7966\n",
      "\n",
      "Epoch 00030: val_loss did not improve from 0.43084\n",
      "Epoch 31/100\n",
      "298/298 [==============================] - 2s 6ms/step - loss: 0.4283 - accuracy: 0.8004 - val_loss: 0.4314 - val_accuracy: 0.7988\n",
      "\n",
      "Epoch 00031: val_loss did not improve from 0.43084\n",
      "Epoch 32/100\n",
      "298/298 [==============================] - 2s 6ms/step - loss: 0.4282 - accuracy: 0.8006 - val_loss: 0.4307 - val_accuracy: 0.8010\n",
      "\n",
      "Epoch 00032: val_loss improved from 0.43084 to 0.43073, saving model to ./model_checkpoint/lstm1.h5\n",
      "Epoch 33/100\n",
      "298/298 [==============================] - 2s 6ms/step - loss: 0.4284 - accuracy: 0.8003 - val_loss: 0.4325 - val_accuracy: 0.7959\n",
      "\n",
      "Epoch 00033: val_loss did not improve from 0.43073\n",
      "Epoch 34/100\n",
      "298/298 [==============================] - 2s 6ms/step - loss: 0.4280 - accuracy: 0.8020 - val_loss: 0.4309 - val_accuracy: 0.8021\n",
      "\n",
      "Epoch 00034: val_loss did not improve from 0.43073\n",
      "Epoch 35/100\n",
      "298/298 [==============================] - 2s 7ms/step - loss: 0.4283 - accuracy: 0.8006 - val_loss: 0.4308 - val_accuracy: 0.8003\n",
      "\n",
      "Epoch 00035: val_loss did not improve from 0.43073\n",
      "Epoch 36/100\n",
      "298/298 [==============================] - 2s 6ms/step - loss: 0.4284 - accuracy: 0.7998 - val_loss: 0.4307 - val_accuracy: 0.8007\n",
      "\n",
      "Epoch 00036: val_loss improved from 0.43073 to 0.43065, saving model to ./model_checkpoint/lstm1.h5\n",
      "Epoch 37/100\n",
      "298/298 [==============================] - 2s 6ms/step - loss: 0.4283 - accuracy: 0.8001 - val_loss: 0.4307 - val_accuracy: 0.8008\n",
      "\n",
      "Epoch 00037: val_loss did not improve from 0.43065\n",
      "\n",
      "Epoch 00037: ReduceLROnPlateau reducing learning rate to 1.0000000474974514e-05.\n",
      "Epoch 38/100\n",
      "298/298 [==============================] - 2s 6ms/step - loss: 0.4275 - accuracy: 0.8013 - val_loss: 0.4306 - val_accuracy: 0.8015\n",
      "\n",
      "Epoch 00038: val_loss improved from 0.43065 to 0.43062, saving model to ./model_checkpoint/lstm1.h5\n",
      "Epoch 39/100\n",
      "298/298 [==============================] - 2s 6ms/step - loss: 0.4274 - accuracy: 0.8015 - val_loss: 0.4311 - val_accuracy: 0.7998\n",
      "\n",
      "Epoch 00039: val_loss did not improve from 0.43062\n",
      "Epoch 40/100\n",
      "298/298 [==============================] - 2s 6ms/step - loss: 0.4275 - accuracy: 0.8010 - val_loss: 0.4306 - val_accuracy: 0.8015\n",
      "\n",
      "Epoch 00040: val_loss did not improve from 0.43062\n",
      "Epoch 41/100\n",
      "298/298 [==============================] - 2s 8ms/step - loss: 0.4274 - accuracy: 0.8018 - val_loss: 0.4307 - val_accuracy: 0.8010\n",
      "\n",
      "Epoch 00041: val_loss did not improve from 0.43062\n",
      "Epoch 42/100\n",
      "298/298 [==============================] - 2s 6ms/step - loss: 0.4274 - accuracy: 0.8014 - val_loss: 0.4307 - val_accuracy: 0.8009\n",
      "\n",
      "Epoch 00042: val_loss did not improve from 0.43062\n",
      "Epoch 43/100\n",
      "298/298 [==============================] - 2s 6ms/step - loss: 0.4274 - accuracy: 0.8014 - val_loss: 0.4306 - val_accuracy: 0.8008\n",
      "\n",
      "Epoch 00043: val_loss improved from 0.43062 to 0.43060, saving model to ./model_checkpoint/lstm1.h5\n",
      "\n",
      "Epoch 00043: ReduceLROnPlateau reducing learning rate to 1.0000000656873453e-06.\n",
      "Epoch 44/100\n",
      "298/298 [==============================] - 2s 6ms/step - loss: 0.4274 - accuracy: 0.8016 - val_loss: 0.4306 - val_accuracy: 0.8011\n",
      "\n",
      "Epoch 00044: val_loss did not improve from 0.43060\n",
      "Epoch 45/100\n",
      "298/298 [==============================] - 2s 6ms/step - loss: 0.4273 - accuracy: 0.8014 - val_loss: 0.4306 - val_accuracy: 0.8011\n",
      "\n",
      "Epoch 00045: val_loss did not improve from 0.43060\n",
      "Epoch 46/100\n",
      "298/298 [==============================] - 2s 8ms/step - loss: 0.4273 - accuracy: 0.8015 - val_loss: 0.4306 - val_accuracy: 0.8012\n",
      "\n",
      "Epoch 00046: val_loss did not improve from 0.43060\n",
      "Epoch 47/100\n",
      "298/298 [==============================] - 2s 7ms/step - loss: 0.4273 - accuracy: 0.8015 - val_loss: 0.4306 - val_accuracy: 0.8011\n",
      "\n",
      "Epoch 00047: val_loss did not improve from 0.43060\n",
      "Epoch 48/100\n",
      "298/298 [==============================] - 2s 6ms/step - loss: 0.4273 - accuracy: 0.8013 - val_loss: 0.4306 - val_accuracy: 0.8014\n",
      "\n",
      "Epoch 00048: val_loss did not improve from 0.43060\n",
      "\n",
      "Epoch 00048: ReduceLROnPlateau reducing learning rate to 1.0000001111620805e-07.\n",
      "Epoch 49/100\n",
      "298/298 [==============================] - 2s 6ms/step - loss: 0.4273 - accuracy: 0.8015 - val_loss: 0.4306 - val_accuracy: 0.8012\n",
      "\n",
      "Epoch 00049: val_loss did not improve from 0.43060\n",
      "Epoch 50/100\n",
      "298/298 [==============================] - 2s 6ms/step - loss: 0.4273 - accuracy: 0.8015 - val_loss: 0.4306 - val_accuracy: 0.8013\n",
      "\n",
      "Epoch 00050: val_loss did not improve from 0.43060\n",
      "Epoch 51/100\n",
      "298/298 [==============================] - 2s 6ms/step - loss: 0.4273 - accuracy: 0.8015 - val_loss: 0.4306 - val_accuracy: 0.8012\n",
      "\n",
      "Epoch 00051: val_loss did not improve from 0.43060\n",
      "Epoch 52/100\n",
      "298/298 [==============================] - 2s 7ms/step - loss: 0.4273 - accuracy: 0.8015 - val_loss: 0.4306 - val_accuracy: 0.8012\n",
      "\n",
      "Epoch 00052: val_loss did not improve from 0.43060\n",
      "Epoch 53/100\n",
      "298/298 [==============================] - 2s 6ms/step - loss: 0.4273 - accuracy: 0.8015 - val_loss: 0.4306 - val_accuracy: 0.8012\n",
      "\n",
      "Epoch 00053: val_loss did not improve from 0.43060\n",
      "\n",
      "Epoch 00053: ReduceLROnPlateau reducing learning rate to 1.000000082740371e-08.\n",
      "Epoch 54/100\n",
      "298/298 [==============================] - 2s 6ms/step - loss: 0.4273 - accuracy: 0.8015 - val_loss: 0.4306 - val_accuracy: 0.8012\n",
      "\n",
      "Epoch 00054: val_loss did not improve from 0.43060\n",
      "Epoch 55/100\n",
      "298/298 [==============================] - 2s 6ms/step - loss: 0.4273 - accuracy: 0.8015 - val_loss: 0.4306 - val_accuracy: 0.8012\n",
      "\n",
      "Epoch 00055: val_loss did not improve from 0.43060\n",
      "Epoch 56/100\n",
      "298/298 [==============================] - 2s 6ms/step - loss: 0.4273 - accuracy: 0.8015 - val_loss: 0.4306 - val_accuracy: 0.8012\n",
      "\n",
      "Epoch 00056: val_loss did not improve from 0.43060\n",
      "Epoch 57/100\n",
      "298/298 [==============================] - 2s 7ms/step - loss: 0.4273 - accuracy: 0.8015 - val_loss: 0.4306 - val_accuracy: 0.8012\n",
      "\n",
      "Epoch 00057: val_loss did not improve from 0.43060\n",
      "Epoch 58/100\n",
      "298/298 [==============================] - 2s 8ms/step - loss: 0.4273 - accuracy: 0.8015 - val_loss: 0.4306 - val_accuracy: 0.8012\n",
      "\n",
      "Epoch 00058: val_loss did not improve from 0.43060\n",
      "\n",
      "Epoch 00058: ReduceLROnPlateau reducing learning rate to 1.000000082740371e-09.\n",
      "Epoch 59/100\n",
      "298/298 [==============================] - 2s 6ms/step - loss: 0.4273 - accuracy: 0.8015 - val_loss: 0.4306 - val_accuracy: 0.8012\n",
      "\n",
      "Epoch 00059: val_loss did not improve from 0.43060\n",
      "Epoch 60/100\n",
      "298/298 [==============================] - 2s 6ms/step - loss: 0.4273 - accuracy: 0.8015 - val_loss: 0.4306 - val_accuracy: 0.8012\n",
      "\n",
      "Epoch 00060: val_loss did not improve from 0.43060\n",
      "Epoch 61/100\n",
      "298/298 [==============================] - 2s 7ms/step - loss: 0.4273 - accuracy: 0.8015 - val_loss: 0.4306 - val_accuracy: 0.8012\n",
      "\n",
      "Epoch 00061: val_loss did not improve from 0.43060\n",
      "Epoch 62/100\n",
      "298/298 [==============================] - 2s 6ms/step - loss: 0.4273 - accuracy: 0.8015 - val_loss: 0.4306 - val_accuracy: 0.8012\n",
      "\n",
      "Epoch 00062: val_loss did not improve from 0.43060\n",
      "Epoch 63/100\n",
      "298/298 [==============================] - 2s 7ms/step - loss: 0.4273 - accuracy: 0.8015 - val_loss: 0.4306 - val_accuracy: 0.8012\n",
      "\n",
      "Epoch 00063: val_loss did not improve from 0.43060\n",
      "\n",
      "Epoch 00063: ReduceLROnPlateau reducing learning rate to 1.000000082740371e-10.\n",
      "Epoch 64/100\n",
      "298/298 [==============================] - 2s 7ms/step - loss: 0.4273 - accuracy: 0.8015 - val_loss: 0.4306 - val_accuracy: 0.8012\n",
      "\n",
      "Epoch 00064: val_loss did not improve from 0.43060\n",
      "Epoch 65/100\n",
      "298/298 [==============================] - 2s 6ms/step - loss: 0.4273 - accuracy: 0.8015 - val_loss: 0.4306 - val_accuracy: 0.8012\n",
      "\n",
      "Epoch 00065: val_loss did not improve from 0.43060\n",
      "Epoch 66/100\n",
      "298/298 [==============================] - 2s 6ms/step - loss: 0.4273 - accuracy: 0.8015 - val_loss: 0.4306 - val_accuracy: 0.8012\n",
      "\n",
      "Epoch 00066: val_loss did not improve from 0.43060\n",
      "Epoch 67/100\n",
      "298/298 [==============================] - 2s 6ms/step - loss: 0.4273 - accuracy: 0.8015 - val_loss: 0.4306 - val_accuracy: 0.8012\n",
      "\n",
      "Epoch 00067: val_loss did not improve from 0.43060\n",
      "Epoch 68/100\n",
      "298/298 [==============================] - 2s 7ms/step - loss: 0.4273 - accuracy: 0.8015 - val_loss: 0.4306 - val_accuracy: 0.8012\n",
      "\n",
      "Epoch 00068: val_loss did not improve from 0.43060\n",
      "\n",
      "Epoch 00068: ReduceLROnPlateau reducing learning rate to 1.000000082740371e-11.\n",
      "Epoch 69/100\n",
      "298/298 [==============================] - 2s 7ms/step - loss: 0.4273 - accuracy: 0.8015 - val_loss: 0.4306 - val_accuracy: 0.8012\n",
      "\n",
      "Epoch 00069: val_loss did not improve from 0.43060\n",
      "Epoch 70/100\n",
      "298/298 [==============================] - 2s 6ms/step - loss: 0.4273 - accuracy: 0.8015 - val_loss: 0.4306 - val_accuracy: 0.8012\n",
      "\n",
      "Epoch 00070: val_loss did not improve from 0.43060\n",
      "Epoch 71/100\n",
      "298/298 [==============================] - 2s 6ms/step - loss: 0.4273 - accuracy: 0.8015 - val_loss: 0.4306 - val_accuracy: 0.8012\n",
      "\n",
      "Epoch 00071: val_loss did not improve from 0.43060\n",
      "Epoch 72/100\n",
      "298/298 [==============================] - 2s 6ms/step - loss: 0.4273 - accuracy: 0.8015 - val_loss: 0.4306 - val_accuracy: 0.8012\n",
      "\n",
      "Epoch 00072: val_loss did not improve from 0.43060\n",
      "Epoch 73/100\n",
      "298/298 [==============================] - 2s 6ms/step - loss: 0.4273 - accuracy: 0.8015 - val_loss: 0.4306 - val_accuracy: 0.8012\n",
      "\n",
      "Epoch 00073: val_loss did not improve from 0.43060\n",
      "\n",
      "Epoch 00073: ReduceLROnPlateau reducing learning rate to 1.000000082740371e-12.\n",
      "Epoch 74/100\n",
      "298/298 [==============================] - 2s 7ms/step - loss: 0.4273 - accuracy: 0.8015 - val_loss: 0.4306 - val_accuracy: 0.8012\n",
      "\n",
      "Epoch 00074: val_loss did not improve from 0.43060\n",
      "Epoch 75/100\n",
      "298/298 [==============================] - 2s 7ms/step - loss: 0.4273 - accuracy: 0.8015 - val_loss: 0.4306 - val_accuracy: 0.8012\n",
      "\n",
      "Epoch 00075: val_loss did not improve from 0.43060\n",
      "Epoch 76/100\n",
      "298/298 [==============================] - 2s 6ms/step - loss: 0.4273 - accuracy: 0.8015 - val_loss: 0.4306 - val_accuracy: 0.8012\n",
      "\n",
      "Epoch 00076: val_loss did not improve from 0.43060\n",
      "Epoch 77/100\n",
      "298/298 [==============================] - 2s 7ms/step - loss: 0.4273 - accuracy: 0.8015 - val_loss: 0.4306 - val_accuracy: 0.8012\n",
      "\n",
      "Epoch 00077: val_loss did not improve from 0.43060\n",
      "Epoch 78/100\n",
      "298/298 [==============================] - 2s 6ms/step - loss: 0.4273 - accuracy: 0.8015 - val_loss: 0.4306 - val_accuracy: 0.8012\n",
      "\n",
      "Epoch 00078: val_loss did not improve from 0.43060\n",
      "\n",
      "Epoch 00078: ReduceLROnPlateau reducing learning rate to 1.0000001044244145e-13.\n",
      "Epoch 79/100\n",
      "298/298 [==============================] - 2s 6ms/step - loss: 0.4273 - accuracy: 0.8015 - val_loss: 0.4306 - val_accuracy: 0.8012\n",
      "\n",
      "Epoch 00079: val_loss did not improve from 0.43060\n",
      "Epoch 80/100\n",
      "298/298 [==============================] - 2s 7ms/step - loss: 0.4273 - accuracy: 0.8015 - val_loss: 0.4306 - val_accuracy: 0.8012\n",
      "\n",
      "Epoch 00080: val_loss did not improve from 0.43060\n",
      "Epoch 81/100\n",
      "298/298 [==============================] - 2s 6ms/step - loss: 0.4273 - accuracy: 0.8015 - val_loss: 0.4306 - val_accuracy: 0.8012\n",
      "\n",
      "Epoch 00081: val_loss did not improve from 0.43060\n",
      "Epoch 82/100\n",
      "298/298 [==============================] - 2s 6ms/step - loss: 0.4273 - accuracy: 0.8015 - val_loss: 0.4306 - val_accuracy: 0.8012\n",
      "\n",
      "Epoch 00082: val_loss did not improve from 0.43060\n",
      "Epoch 83/100\n",
      "298/298 [==============================] - 2s 7ms/step - loss: 0.4273 - accuracy: 0.8015 - val_loss: 0.4306 - val_accuracy: 0.8012\n",
      "\n",
      "Epoch 00083: val_loss did not improve from 0.43060\n",
      "\n",
      "Epoch 00083: ReduceLROnPlateau reducing learning rate to 1.0000001179769417e-14.\n",
      "Epoch 84/100\n",
      "298/298 [==============================] - 2s 7ms/step - loss: 0.4273 - accuracy: 0.8015 - val_loss: 0.4306 - val_accuracy: 0.8012\n",
      "\n",
      "Epoch 00084: val_loss did not improve from 0.43060\n",
      "Epoch 85/100\n",
      "298/298 [==============================] - 2s 7ms/step - loss: 0.4273 - accuracy: 0.8015 - val_loss: 0.4306 - val_accuracy: 0.8012\n",
      "\n",
      "Epoch 00085: val_loss did not improve from 0.43060\n",
      "Epoch 86/100\n",
      "298/298 [==============================] - 2s 6ms/step - loss: 0.4273 - accuracy: 0.8015 - val_loss: 0.4306 - val_accuracy: 0.8012\n",
      "\n",
      "Epoch 00086: val_loss did not improve from 0.43060\n",
      "Epoch 87/100\n",
      "298/298 [==============================] - 2s 6ms/step - loss: 0.4273 - accuracy: 0.8015 - val_loss: 0.4306 - val_accuracy: 0.8012\n",
      "\n",
      "Epoch 00087: val_loss did not improve from 0.43060\n",
      "Epoch 88/100\n",
      "298/298 [==============================] - 2s 6ms/step - loss: 0.4273 - accuracy: 0.8015 - val_loss: 0.4306 - val_accuracy: 0.8012\n",
      "\n",
      "Epoch 00088: val_loss did not improve from 0.43060\n",
      "\n",
      "Epoch 00088: ReduceLROnPlateau reducing learning rate to 1.0000001518582595e-15.\n",
      "Epoch 89/100\n",
      "298/298 [==============================] - 2s 6ms/step - loss: 0.4273 - accuracy: 0.8015 - val_loss: 0.4306 - val_accuracy: 0.8012\n",
      "\n",
      "Epoch 00089: val_loss did not improve from 0.43060\n",
      "Epoch 90/100\n",
      "298/298 [==============================] - 2s 6ms/step - loss: 0.4273 - accuracy: 0.8015 - val_loss: 0.4306 - val_accuracy: 0.8012\n",
      "\n",
      "Epoch 00090: val_loss did not improve from 0.43060\n",
      "Epoch 91/100\n",
      "298/298 [==============================] - 2s 7ms/step - loss: 0.4273 - accuracy: 0.8015 - val_loss: 0.4306 - val_accuracy: 0.8012\n",
      "\n",
      "Epoch 00091: val_loss did not improve from 0.43060\n",
      "Epoch 92/100\n",
      "298/298 [==============================] - 3s 8ms/step - loss: 0.4273 - accuracy: 0.8015 - val_loss: 0.4306 - val_accuracy: 0.8012\n",
      "\n",
      "Epoch 00092: val_loss did not improve from 0.43060\n",
      "Epoch 93/100\n",
      "298/298 [==============================] - 2s 7ms/step - loss: 0.4273 - accuracy: 0.8015 - val_loss: 0.4306 - val_accuracy: 0.8012\n",
      "\n",
      "Epoch 00093: val_loss did not improve from 0.43060\n",
      "\n",
      "Epoch 00093: ReduceLROnPlateau reducing learning rate to 1.0000001095066122e-16.\n",
      "Epoch 94/100\n",
      "298/298 [==============================] - 2s 6ms/step - loss: 0.4273 - accuracy: 0.8015 - val_loss: 0.4306 - val_accuracy: 0.8012\n",
      "\n",
      "Epoch 00094: val_loss did not improve from 0.43060\n",
      "Epoch 95/100\n",
      "298/298 [==============================] - 2s 6ms/step - loss: 0.4273 - accuracy: 0.8015 - val_loss: 0.4306 - val_accuracy: 0.8012\n",
      "\n",
      "Epoch 00095: val_loss did not improve from 0.43060\n",
      "Epoch 96/100\n",
      "298/298 [==============================] - 2s 7ms/step - loss: 0.4273 - accuracy: 0.8015 - val_loss: 0.4306 - val_accuracy: 0.8012\n",
      "\n",
      "Epoch 00096: val_loss did not improve from 0.43060\n",
      "Epoch 97/100\n",
      "298/298 [==============================] - 2s 6ms/step - loss: 0.4273 - accuracy: 0.8015 - val_loss: 0.4306 - val_accuracy: 0.8012\n",
      "\n",
      "Epoch 00097: val_loss did not improve from 0.43060\n",
      "Epoch 98/100\n",
      "298/298 [==============================] - 2s 6ms/step - loss: 0.4273 - accuracy: 0.8015 - val_loss: 0.4306 - val_accuracy: 0.8012\n",
      "\n",
      "Epoch 00098: val_loss did not improve from 0.43060\n",
      "\n",
      "Epoch 00098: ReduceLROnPlateau reducing learning rate to 1.0000000830368326e-17.\n",
      "Epoch 99/100\n",
      "298/298 [==============================] - 2s 6ms/step - loss: 0.4273 - accuracy: 0.8015 - val_loss: 0.4306 - val_accuracy: 0.8012\n",
      "\n",
      "Epoch 00099: val_loss did not improve from 0.43060\n",
      "Epoch 100/100\n",
      "298/298 [==============================] - 2s 6ms/step - loss: 0.4273 - accuracy: 0.8015 - val_loss: 0.4306 - val_accuracy: 0.8012\n",
      "\n",
      "Epoch 00100: val_loss did not improve from 0.43060\n"
     ]
    },
    {
     "data": {
      "text/plain": [
       "<keras.callbacks.History at 0x7f4934a21f90>"
      ]
     },
     "execution_count": 26,
     "metadata": {},
     "output_type": "execute_result"
    }
   ],
   "source": [
    "lstm1.fit(X_train.reshape(X_train.shape[0], -1, 100), label_train, epochs=100, batch_size=100,\n",
    "        validation_data=(X_validation.reshape(X_validation.shape[0], -1, 100), label_validation), \n",
    "        callbacks=[checkpoint_lstm1, reduce_lr])"
   ]
  },
  {
   "cell_type": "code",
   "execution_count": 27,
   "id": "4313c6b5",
   "metadata": {
    "execution": {
     "iopub.execute_input": "2022-06-10T09:22:20.344826Z",
     "iopub.status.busy": "2022-06-10T09:22:20.344429Z",
     "iopub.status.idle": "2022-06-10T09:22:20.348467Z",
     "shell.execute_reply": "2022-06-10T09:22:20.347725Z"
    },
    "papermill": {
     "duration": 0.458691,
     "end_time": "2022-06-10T09:22:20.350264",
     "exception": false,
     "start_time": "2022-06-10T09:22:19.891573",
     "status": "completed"
    },
    "tags": []
   },
   "outputs": [],
   "source": [
    "# # Retrieve the config\n",
    "# config = lstm1.get_config()\n",
    "\n",
    "# # At loading time, register the custom objects with a `custom_object_scope`:\n",
    "# custom_objects = {'seq_self_attention_1': self_attention}\n",
    "# with keras.utils.custom_object_scope(custom_objects):\n",
    "#     new_model = keras.Model.from_config(config)"
   ]
  },
  {
   "cell_type": "markdown",
   "id": "35b02321",
   "metadata": {
    "papermill": {
     "duration": 0.401695,
     "end_time": "2022-06-10T09:22:21.157205",
     "exception": false,
     "start_time": "2022-06-10T09:22:20.755510",
     "status": "completed"
    },
    "tags": []
   },
   "source": [
    "# Bidirectional LSTM"
   ]
  },
  {
   "cell_type": "code",
   "execution_count": 28,
   "id": "ce9d1755",
   "metadata": {
    "execution": {
     "iopub.execute_input": "2022-06-10T09:22:22.015892Z",
     "iopub.status.busy": "2022-06-10T09:22:22.015533Z",
     "iopub.status.idle": "2022-06-10T09:22:22.850275Z",
     "shell.execute_reply": "2022-06-10T09:22:22.849329Z"
    },
    "papermill": {
     "duration": 1.295368,
     "end_time": "2022-06-10T09:22:22.853006",
     "exception": false,
     "start_time": "2022-06-10T09:22:21.557638",
     "status": "completed"
    },
    "tags": []
   },
   "outputs": [],
   "source": [
    "bi_lstm = Sequential()\n",
    "bi_lstm.add(Bidirectional(LSTM(10, return_sequences=True), input_shape=(1, EMBEDDING_DIM)))\n",
    "bi_lstm.add(Bidirectional(LSTM(10)))\n",
    "bi_lstm.add(Dense(1, activation='sigmoid'))"
   ]
  },
  {
   "cell_type": "code",
   "execution_count": 29,
   "id": "3276c7df",
   "metadata": {
    "execution": {
     "iopub.execute_input": "2022-06-10T09:22:23.814051Z",
     "iopub.status.busy": "2022-06-10T09:22:23.813712Z",
     "iopub.status.idle": "2022-06-10T09:22:23.956455Z",
     "shell.execute_reply": "2022-06-10T09:22:23.955542Z"
    },
    "papermill": {
     "duration": 0.55534,
     "end_time": "2022-06-10T09:22:23.958283",
     "exception": false,
     "start_time": "2022-06-10T09:22:23.402943",
     "status": "completed"
    },
    "tags": []
   },
   "outputs": [
    {
     "name": "stdout",
     "output_type": "stream",
     "text": [
      "Model: \"sequential_3\"\n",
      "_________________________________________________________________\n",
      "Layer (type)                 Output Shape              Param #   \n",
      "=================================================================\n",
      "bidirectional (Bidirectional (None, 1, 20)             8880      \n",
      "_________________________________________________________________\n",
      "bidirectional_1 (Bidirection (None, 20)                2480      \n",
      "_________________________________________________________________\n",
      "dense_7 (Dense)              (None, 1)                 21        \n",
      "=================================================================\n",
      "Total params: 11,381\n",
      "Trainable params: 11,381\n",
      "Non-trainable params: 0\n",
      "_________________________________________________________________\n",
      "None\n"
     ]
    },
    {
     "data": {
      "image/png": "[encoded data removed]",
      "text/plain": [
       "<IPython.core.display.Image object>"
      ]
     },
     "execution_count": 29,
     "metadata": {},
     "output_type": "execute_result"
    }
   ],
   "source": [
    "print(bi_lstm.summary())\n",
    "checkpoint_bi_lstm = ModelCheckpoint('./model_checkpoint/bi_lstm.h5', save_best_only=True, verbose=1)\n",
    "bi_lstm.compile(optimizer='adam', loss='binary_crossentropy', metrics=['accuracy'])\n",
    "plot_model(bi_lstm, rankdir='LR', show_shapes=True)"
   ]
  },
  {
   "cell_type": "code",
   "execution_count": 30,
   "id": "ae116fcc",
   "metadata": {
    "execution": {
     "iopub.execute_input": "2022-06-10T09:22:24.835013Z",
     "iopub.status.busy": "2022-06-10T09:22:24.834638Z",
     "iopub.status.idle": "2022-06-10T09:22:24.838581Z",
     "shell.execute_reply": "2022-06-10T09:22:24.837879Z"
    },
    "papermill": {
     "duration": 0.479652,
     "end_time": "2022-06-10T09:22:24.840257",
     "exception": false,
     "start_time": "2022-06-10T09:22:24.360605",
     "status": "completed"
    },
    "tags": []
   },
   "outputs": [],
   "source": [
    "# bi_lstm.fit(X_train.reshape(X_train.shape[0], -1, 100), label_train, epochs=100, batch_size=100,\n",
    "#         validation_data=(X_validation.reshape(X_validation.shape[0], -1, 100), label_validation), \n",
    "#         callbacks=[checkpoint_bi_lstm, reduce_lr])"
   ]
  },
  {
   "cell_type": "markdown",
   "id": "64796153",
   "metadata": {
    "papermill": {
     "duration": 0.443995,
     "end_time": "2022-06-10T09:22:25.685636",
     "exception": false,
     "start_time": "2022-06-10T09:22:25.241641",
     "status": "completed"
    },
    "tags": []
   },
   "source": [
    "# CNN"
   ]
  },
  {
   "cell_type": "code",
   "execution_count": 31,
   "id": "dc1b7e3c",
   "metadata": {
    "execution": {
     "iopub.execute_input": "2022-06-10T09:22:26.621557Z",
     "iopub.status.busy": "2022-06-10T09:22:26.620859Z",
     "iopub.status.idle": "2022-06-10T09:22:26.688865Z",
     "shell.execute_reply": "2022-06-10T09:22:26.688030Z"
    },
    "papermill": {
     "duration": 0.560921,
     "end_time": "2022-06-10T09:22:26.691136",
     "exception": false,
     "start_time": "2022-06-10T09:22:26.130215",
     "status": "completed"
    },
    "tags": []
   },
   "outputs": [],
   "source": [
    "'''Initializing the Convolutional Neural Network'''\n",
    "cnn = Sequential()\n",
    "cnn.add(Convolution1D(64, kernel_size=5, input_shape=(EMBEDDING_DIM, 1), activation='relu'))\n",
    "cnn.add(MaxPool1D(pool_size=2))\n",
    "cnn.add(Convolution1D(32, kernel_size=5, activation='relu'))\n",
    "cnn.add(MaxPool1D(pool_size=2))\n",
    "cnn.add(Flatten())\n",
    "cnn.add(Dense(32, activation='relu'))\n",
    "cnn.add(Dense(1, activation='sigmoid'))"
   ]
  },
  {
   "cell_type": "code",
   "execution_count": 32,
   "id": "cebc5281",
   "metadata": {
    "execution": {
     "iopub.execute_input": "2022-06-10T09:22:27.536924Z",
     "iopub.status.busy": "2022-06-10T09:22:27.536247Z",
     "iopub.status.idle": "2022-06-10T09:22:27.684097Z",
     "shell.execute_reply": "2022-06-10T09:22:27.683042Z"
    },
    "papermill": {
     "duration": 0.554437,
     "end_time": "2022-06-10T09:22:27.685922",
     "exception": false,
     "start_time": "2022-06-10T09:22:27.131485",
     "status": "completed"
    },
    "tags": []
   },
   "outputs": [
    {
     "name": "stdout",
     "output_type": "stream",
     "text": [
      "Model: \"sequential_4\"\n",
      "_________________________________________________________________\n",
      "Layer (type)                 Output Shape              Param #   \n",
      "=================================================================\n",
      "conv1d (Conv1D)              (None, 96, 64)            384       \n",
      "_________________________________________________________________\n",
      "max_pooling1d (MaxPooling1D) (None, 48, 64)            0         \n",
      "_________________________________________________________________\n",
      "conv1d_1 (Conv1D)            (None, 44, 32)            10272     \n",
      "_________________________________________________________________\n",
      "max_pooling1d_1 (MaxPooling1 (None, 22, 32)            0         \n",
      "_________________________________________________________________\n",
      "flatten (Flatten)            (None, 704)               0         \n",
      "_________________________________________________________________\n",
      "dense_8 (Dense)              (None, 32)                22560     \n",
      "_________________________________________________________________\n",
      "dense_9 (Dense)              (None, 1)                 33        \n",
      "=================================================================\n",
      "Total params: 33,249\n",
      "Trainable params: 33,249\n",
      "Non-trainable params: 0\n",
      "_________________________________________________________________\n",
      "None\n"
     ]
    },
    {
     "data": {
      "image/png": "[encoded data removed]",
      "text/plain": [
       "<IPython.core.display.Image object>"
      ]
     },
     "execution_count": 32,
     "metadata": {},
     "output_type": "execute_result"
    }
   ],
   "source": [
    "print(cnn.summary())\n",
    "checkpoint_cnn = ModelCheckpoint('./model_checkpoint/cnn.h5', save_best_only=True, verbose=1)\n",
    "cnn.compile(optimizer='adam', loss='binary_crossentropy', metrics=['accuracy'])\n",
    "plot_model(cnn, rankdir='LR', show_shapes=True)"
   ]
  },
  {
   "cell_type": "code",
   "execution_count": 33,
   "id": "b1937d4e",
   "metadata": {
    "execution": {
     "iopub.execute_input": "2022-06-10T09:22:28.540887Z",
     "iopub.status.busy": "2022-06-10T09:22:28.540487Z",
     "iopub.status.idle": "2022-06-10T09:22:28.544520Z",
     "shell.execute_reply": "2022-06-10T09:22:28.543728Z"
    },
    "papermill": {
     "duration": 0.454347,
     "end_time": "2022-06-10T09:22:28.546191",
     "exception": false,
     "start_time": "2022-06-10T09:22:28.091844",
     "status": "completed"
    },
    "tags": []
   },
   "outputs": [],
   "source": [
    "# cnn.fit(X_train.reshape(X_train.shape[0], 100, -1), label_train, epochs=100, batch_size=100,\n",
    "#         validation_data=(X_validation.reshape(X_validation.shape[0], 100, -1), label_validation), \n",
    "#         callbacks=[checkpoint_cnn, reduce_lr])"
   ]
  },
  {
   "cell_type": "markdown",
   "id": "2e10bfca",
   "metadata": {
    "papermill": {
     "duration": 0.405004,
     "end_time": "2022-06-10T09:22:29.354987",
     "exception": false,
     "start_time": "2022-06-10T09:22:28.949983",
     "status": "completed"
    },
    "tags": []
   },
   "source": [
    "# 7 - Đánh giá với 3 độ đo Accuracy, Confusion Matrix và F1-score và lưu kết quả ra 1 file"
   ]
  },
  {
   "cell_type": "markdown",
   "id": "a52f81b1",
   "metadata": {
    "papermill": {
     "duration": 0.446205,
     "end_time": "2022-06-10T09:22:30.203263",
     "exception": false,
     "start_time": "2022-06-10T09:22:29.757058",
     "status": "completed"
    },
    "tags": []
   },
   "source": [
    "# 8 - Với mô hình học sâu có kết quả cao nhất ở trên, sử dụng điểm Checkpoint để lưu kết quả huấn luyện với epoch cho kết quả cao nhất"
   ]
  },
  {
   "cell_type": "code",
   "execution_count": 34,
   "id": "db7581ac",
   "metadata": {
    "execution": {
     "iopub.execute_input": "2022-06-10T09:22:31.015210Z",
     "iopub.status.busy": "2022-06-10T09:22:31.014806Z",
     "iopub.status.idle": "2022-06-10T09:22:31.018569Z",
     "shell.execute_reply": "2022-06-10T09:22:31.017871Z"
    },
    "id": "82pOAjEXjAYa",
    "outputId": "96424c37-468e-4fa3-9dde-34547218ddfa",
    "papermill": {
     "duration": 0.414957,
     "end_time": "2022-06-10T09:22:31.020319",
     "exception": false,
     "start_time": "2022-06-10T09:22:30.605362",
     "status": "completed"
    },
    "tags": []
   },
   "outputs": [],
   "source": [
    "# # load model with best saved checkpoint\n",
    "# mlp = load_model('./model_checkpoint/mlp.h5')\n",
    "# rnn = load_model('./model_checkpoint/rnn.h5')\n",
    "# lstm = load_model('./model_checkpoint/lstm.h5')\n",
    "# lstm1 = load_model('./model_checkpoint/lstm1.h5')\n",
    "# bi_lstm = load_model('./model_checkpoint/bi_lstm.h5')\n",
    "# cnn = load_model('./model_checkpoint/cnn.h5')"
   ]
  },
  {
   "cell_type": "code",
   "execution_count": 35,
   "id": "1de9655b",
   "metadata": {
    "execution": {
     "iopub.execute_input": "2022-06-10T09:22:31.865914Z",
     "iopub.status.busy": "2022-06-10T09:22:31.865418Z",
     "iopub.status.idle": "2022-06-10T09:22:31.870762Z",
     "shell.execute_reply": "2022-06-10T09:22:31.870021Z"
    },
    "papermill": {
     "duration": 0.451357,
     "end_time": "2022-06-10T09:22:31.872399",
     "exception": false,
     "start_time": "2022-06-10T09:22:31.421042",
     "status": "completed"
    },
    "tags": []
   },
   "outputs": [],
   "source": [
    "def convert_pred(pred):\n",
    "    out = []\n",
    "    for p in pred.flatten():\n",
    "        if p >= 0.5:\n",
    "            out.append(1)\n",
    "        else:\n",
    "            out.append(0)\n",
    "    return out "
   ]
  },
  {
   "cell_type": "code",
   "execution_count": 36,
   "id": "9f14c723",
   "metadata": {
    "execution": {
     "iopub.execute_input": "2022-06-10T09:22:32.686762Z",
     "iopub.status.busy": "2022-06-10T09:22:32.685794Z",
     "iopub.status.idle": "2022-06-10T09:22:32.692053Z",
     "shell.execute_reply": "2022-06-10T09:22:32.690943Z"
    },
    "papermill": {
     "duration": 0.421328,
     "end_time": "2022-06-10T09:22:32.693715",
     "exception": false,
     "start_time": "2022-06-10T09:22:32.272387",
     "status": "completed"
    },
    "tags": []
   },
   "outputs": [],
   "source": [
    "def evaluate(model, X_test):\n",
    "    pred = convert_pred(model.predict(X_test))\n",
    "    print('Accuracy:', accuracy_score(label_test, pred))\n",
    "    print('F1-scrore:', f1_score(label_test, pred))\n",
    "    cm = confusion_matrix(label_test, pred, labels=list(index2class.keys()))\n",
    "    cm_disp = ConfusionMatrixDisplay(confusion_matrix=cm,\n",
    "                                  display_labels=list(index2class.keys()))\n",
    "    cm_disp.plot()\n",
    "    plt.show()"
   ]
  },
  {
   "cell_type": "code",
   "execution_count": 37,
   "id": "9a5daaaa",
   "metadata": {
    "execution": {
     "iopub.execute_input": "2022-06-10T09:22:33.546205Z",
     "iopub.status.busy": "2022-06-10T09:22:33.545853Z",
     "iopub.status.idle": "2022-06-10T09:22:37.060475Z",
     "shell.execute_reply": "2022-06-10T09:22:37.059730Z"
    },
    "papermill": {
     "duration": 3.919531,
     "end_time": "2022-06-10T09:22:37.062818",
     "exception": false,
     "start_time": "2022-06-10T09:22:33.143287",
     "status": "completed"
    },
    "tags": []
   },
   "outputs": [
    {
     "name": "stdout",
     "output_type": "stream",
     "text": [
      "LSTM\n",
      "Accuracy: 0.8024193548387096\n",
      "F1-scrore: 0.8045082784759626\n"
     ]
    },
    {
     "data": {
      "image/png": "[encoded data removed]",
      "text/plain": [
       "<Figure size 432x288 with 2 Axes>"
      ]
     },
     "metadata": {
      "needs_background": "light"
     },
     "output_type": "display_data"
    },
    {
     "name": "stdout",
     "output_type": "stream",
     "text": [
      "LSTM with Attention\n",
      "Accuracy: 0.8012096774193549\n",
      "F1-scrore: 0.8028\n"
     ]
    },
    {
     "data": {
      "image/png": "[encoded data removed]",
      "text/plain": [
       "<Figure size 432x288 with 2 Axes>"
      ]
     },
     "metadata": {
      "needs_background": "light"
     },
     "output_type": "display_data"
    }
   ],
   "source": [
    "# print('MLP')\n",
    "# evaluate(mlp, X_test)\n",
    "# print('RNN')\n",
    "# evaluate(rnn, X_test.reshape(X_test.shape[0], -1, 100))\n",
    "print('LSTM')\n",
    "evaluate(lstm, X_test.reshape(X_test.shape[0], -1, 100))\n",
    "print('LSTM with Attention')\n",
    "evaluate(lstm1, X_test.reshape(X_test.shape[0], -1, 100))\n",
    "# print('Bi-LSTM')\n",
    "# evaluate(bi_lstm, X_test.reshape(X_test.shape[0], -1, 100))\n",
    "# print('CNN')\n",
    "# evaluate(cnn, X_test.reshape(X_test.shape[0], 100, -1))"
   ]
  },
  {
   "cell_type": "markdown",
   "id": "361821f6",
   "metadata": {
    "papermill": {
     "duration": 0.412615,
     "end_time": "2022-06-10T09:22:38.096961",
     "exception": false,
     "start_time": "2022-06-10T09:22:37.684346",
     "status": "completed"
    },
    "tags": []
   },
   "source": [
    "# 9 - Người dùng nhập vào một câu, sử dụng mô hình đã lưu ở trên dự đoán ý kiến của người dùng và in ra kết quả"
   ]
  },
  {
   "cell_type": "code",
   "execution_count": 38,
   "id": "87863c37",
   "metadata": {
    "execution": {
     "iopub.execute_input": "2022-06-10T09:22:38.960563Z",
     "iopub.status.busy": "2022-06-10T09:22:38.960212Z",
     "iopub.status.idle": "2022-06-10T09:22:38.964158Z",
     "shell.execute_reply": "2022-06-10T09:22:38.963232Z"
    },
    "papermill": {
     "duration": 0.417528,
     "end_time": "2022-06-10T09:22:38.966011",
     "exception": false,
     "start_time": "2022-06-10T09:22:38.548483",
     "status": "completed"
    },
    "tags": []
   },
   "outputs": [],
   "source": [
    "# def predict_sentiment(sent):\n",
    "#     # missing preprocess\n",
    "#     embedded_sent = fasttext_pretrained_embed_sentence(sent)\n",
    "#     pred = convert_pred(mlp.predict(np.array([fasttext_pretrained_embed_sentence(sent)])).ravel())\n",
    "#     return index2class[pred[0]]"
   ]
  },
  {
   "cell_type": "code",
   "execution_count": 39,
   "id": "eb0a22f8",
   "metadata": {
    "execution": {
     "iopub.execute_input": "2022-06-10T09:22:39.784226Z",
     "iopub.status.busy": "2022-06-10T09:22:39.783680Z",
     "iopub.status.idle": "2022-06-10T09:22:39.787622Z",
     "shell.execute_reply": "2022-06-10T09:22:39.786865Z"
    },
    "papermill": {
     "duration": 0.415749,
     "end_time": "2022-06-10T09:22:39.789261",
     "exception": false,
     "start_time": "2022-06-10T09:22:39.373512",
     "status": "completed"
    },
    "tags": []
   },
   "outputs": [],
   "source": [
    "# print(predict_sentiment('quán này dở'))\n",
    "# print(predict_sentiment('thức_ăn ngon'))"
   ]
  },
  {
   "cell_type": "code",
   "execution_count": null,
   "id": "65a8e309",
   "metadata": {
    "papermill": {
     "duration": 0.404192,
     "end_time": "2022-06-10T09:22:40.643326",
     "exception": false,
     "start_time": "2022-06-10T09:22:40.239134",
     "status": "completed"
    },
    "tags": []
   },
   "outputs": [],
   "source": []
  }
 ],
 "metadata": {
  "kernelspec": {
   "display_name": "Python 3",
   "language": "python",
   "name": "python3"
  },
  "language_info": {
   "codemirror_mode": {
    "name": "ipython",
    "version": 3
   },
   "file_extension": ".py",
   "mimetype": "text/x-python",
   "name": "python",
   "nbconvert_exporter": "python",
   "pygments_lexer": "ipython3",
   "version": "3.7.12"
  },
  "papermill": {
   "default_parameters": {},
   "duration": 537.79246,
   "end_time": "2022-06-10T09:22:43.949464",
   "environment_variables": {},
   "exception": null,
   "input_path": "__notebook__.ipynb",
   "output_path": "__notebook__.ipynb",
   "parameters": {},
   "start_time": "2022-06-10T09:13:46.157004",
   "version": "2.3.4"
  }
 },
 "nbformat": 4,
 "nbformat_minor": 5
}
